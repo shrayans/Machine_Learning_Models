{
 "cells": [
  {
   "cell_type": "markdown",
   "metadata": {
    "colab_type": "text",
    "id": "nRMTcZFigCT_"
   },
   "source": [
    "# ***Q5. Support Vector Machine***"
   ]
  },
  {
   "cell_type": "code",
   "execution_count": 0,
   "metadata": {
    "colab": {
     "base_uri": "https://localhost:8080/",
     "height": 34
    },
    "colab_type": "code",
    "id": "EQ4Lda54E1Ol",
    "outputId": "5605ce83-e070-47b4-b675-5c46ae02c4eb"
   },
   "outputs": [
    {
     "name": "stdout",
     "output_type": "stream",
     "text": [
      "Drive already mounted at /content/drive; to attempt to forcibly remount, call drive.mount(\"/content/drive\", force_remount=True).\n"
     ]
    }
   ],
   "source": [
    "from google.colab import drive \n",
    "drive.mount('/content/drive')\n"
   ]
  },
  {
   "cell_type": "code",
   "execution_count": 0,
   "metadata": {
    "colab": {},
    "colab_type": "code",
    "id": "sT3vmEGtE5Cf"
   },
   "outputs": [],
   "source": [
    "import pandas as pd\n",
    "import numpy as np\n",
    "from sklearn.feature_extraction import text\n",
    "from scipy.spatial import distance\n",
    "from sklearn.metrics import accuracy_score\n",
    "import matplotlib.pyplot as plt\n",
    "from sklearn.preprocessing import MinMaxScaler\n",
    "from sklearn.feature_extraction.text import TfidfVectorizer\n",
    "import re\n",
    "import os\n",
    "import string\n",
    "from sklearn import svm\n",
    "from nltk.stem import PorterStemmer\n",
    "from nltk.tokenize import word_tokenize\n",
    "from sklearn.metrics import f1_score\n",
    "from sklearn.metrics import confusion_matrix\n",
    "\n"
   ]
  },
  {
   "cell_type": "code",
   "execution_count": 0,
   "metadata": {
    "colab": {
     "base_uri": "https://localhost:8080/",
     "height": 68
    },
    "colab_type": "code",
    "id": "3EqGn6sJVS0M",
    "outputId": "4df35bc7-50fd-4fea-e933-7c9ca8fdd604"
   },
   "outputs": [
    {
     "name": "stdout",
     "output_type": "stream",
     "text": [
      "[nltk_data] Downloading package punkt to /root/nltk_data...\n",
      "[nltk_data]   Unzipping tokenizers/punkt.zip.\n"
     ]
    },
    {
     "data": {
      "text/plain": [
       "True"
      ]
     },
     "execution_count": 6,
     "metadata": {
      "tags": []
     },
     "output_type": "execute_result"
    }
   ],
   "source": [
    "import nltk\n",
    "nltk.download('punkt')"
   ]
  },
  {
   "cell_type": "markdown",
   "metadata": {
    "colab_type": "text",
    "id": "k3E6tq-EZIC8"
   },
   "source": [
    "### **Reading Data from CSV**"
   ]
  },
  {
   "cell_type": "code",
   "execution_count": 0,
   "metadata": {
    "colab": {
     "base_uri": "https://localhost:8080/",
     "height": 419
    },
    "colab_type": "code",
    "id": "D1IgfOD9XW1L",
    "outputId": "68a27b33-5f26-42da-d1b4-27c5513a7e1f"
   },
   "outputs": [
    {
     "data": {
      "text/html": [
       "<div>\n",
       "<style scoped>\n",
       "    .dataframe tbody tr th:only-of-type {\n",
       "        vertical-align: middle;\n",
       "    }\n",
       "\n",
       "    .dataframe tbody tr th {\n",
       "        vertical-align: top;\n",
       "    }\n",
       "\n",
       "    .dataframe thead th {\n",
       "        text-align: right;\n",
       "    }\n",
       "</style>\n",
       "<table border=\"1\" class=\"dataframe\">\n",
       "  <thead>\n",
       "    <tr style=\"text-align: right;\">\n",
       "      <th></th>\n",
       "      <th>Unnamed: 0</th>\n",
       "      <th>text</th>\n",
       "      <th>author</th>\n",
       "    </tr>\n",
       "  </thead>\n",
       "  <tbody>\n",
       "    <tr>\n",
       "      <th>0</th>\n",
       "      <td>13192</td>\n",
       "      <td>\"Readily; I have solved others of an abstrusen...</td>\n",
       "      <td>EAP</td>\n",
       "    </tr>\n",
       "    <tr>\n",
       "      <th>1</th>\n",
       "      <td>10787</td>\n",
       "      <td>Therein, he has dreamed of flames and suffocat...</td>\n",
       "      <td>EAP</td>\n",
       "    </tr>\n",
       "    <tr>\n",
       "      <th>2</th>\n",
       "      <td>14743</td>\n",
       "      <td>I was too much exhausted to reflect upon this ...</td>\n",
       "      <td>EAP</td>\n",
       "    </tr>\n",
       "    <tr>\n",
       "      <th>3</th>\n",
       "      <td>14275</td>\n",
       "      <td>I found that the berries were spoiled by this ...</td>\n",
       "      <td>MWS</td>\n",
       "    </tr>\n",
       "    <tr>\n",
       "      <th>4</th>\n",
       "      <td>3917</td>\n",
       "      <td>\"Am I for ever,\" he cried, \"to be the sport of...</td>\n",
       "      <td>MWS</td>\n",
       "    </tr>\n",
       "    <tr>\n",
       "      <th>...</th>\n",
       "      <td>...</td>\n",
       "      <td>...</td>\n",
       "      <td>...</td>\n",
       "    </tr>\n",
       "    <tr>\n",
       "      <th>15658</th>\n",
       "      <td>3163</td>\n",
       "      <td>Upon Zann the effect was terrible, for droppin...</td>\n",
       "      <td>HPL</td>\n",
       "    </tr>\n",
       "    <tr>\n",
       "      <th>15659</th>\n",
       "      <td>2077</td>\n",
       "      <td>The visiter, shooting suddenly into this bay f...</td>\n",
       "      <td>EAP</td>\n",
       "    </tr>\n",
       "    <tr>\n",
       "      <th>15660</th>\n",
       "      <td>14123</td>\n",
       "      <td>The expression of his smile, however, was by n...</td>\n",
       "      <td>EAP</td>\n",
       "    </tr>\n",
       "    <tr>\n",
       "      <th>15661</th>\n",
       "      <td>2047</td>\n",
       "      <td>The next January gossips were mildly intereste...</td>\n",
       "      <td>HPL</td>\n",
       "    </tr>\n",
       "    <tr>\n",
       "      <th>15662</th>\n",
       "      <td>958</td>\n",
       "      <td>I sympathized with and partly understood them,...</td>\n",
       "      <td>MWS</td>\n",
       "    </tr>\n",
       "  </tbody>\n",
       "</table>\n",
       "<p>15663 rows × 3 columns</p>\n",
       "</div>"
      ],
      "text/plain": [
       "       Unnamed: 0                                               text author\n",
       "0           13192  \"Readily; I have solved others of an abstrusen...    EAP\n",
       "1           10787  Therein, he has dreamed of flames and suffocat...    EAP\n",
       "2           14743  I was too much exhausted to reflect upon this ...    EAP\n",
       "3           14275  I found that the berries were spoiled by this ...    MWS\n",
       "4            3917  \"Am I for ever,\" he cried, \"to be the sport of...    MWS\n",
       "...           ...                                                ...    ...\n",
       "15658        3163  Upon Zann the effect was terrible, for droppin...    HPL\n",
       "15659        2077  The visiter, shooting suddenly into this bay f...    EAP\n",
       "15660       14123  The expression of his smile, however, was by n...    EAP\n",
       "15661        2047  The next January gossips were mildly intereste...    HPL\n",
       "15662         958  I sympathized with and partly understood them,...    MWS\n",
       "\n",
       "[15663 rows x 3 columns]"
      ]
     },
     "execution_count": 7,
     "metadata": {
      "tags": []
     },
     "output_type": "execute_result"
    }
   ],
   "source": [
    "ds1=pd.read_csv(\"/content/drive/My Drive/Datasets/Question-5/Train(1).csv\")\n",
    "ds1 = ds1.sample(frac=1).reset_index(drop=True)\n",
    "ds1"
   ]
  },
  {
   "cell_type": "markdown",
   "metadata": {
    "colab_type": "text",
    "id": "Esn_kWsKZMOd"
   },
   "source": [
    "# **Data Preprocessing and Cleaning**"
   ]
  },
  {
   "cell_type": "markdown",
   "metadata": {
    "colab_type": "text",
    "id": "MzPZdZqCZXQP"
   },
   "source": [
    "**Removing numbers and punctuations:**\n",
    "\n",
    "\n",
    "\n",
    "Numbers:- 12,160  or 160M doesn't cary any particular inormation so we have to remove it\n",
    "\n",
    "Punctuation:-All the punctuation marks according to the priorities should be dealt with. For example: “.”, “,”,”?” are important punctuations that should be retained while others need to be removed.\n",
    "\n"
   ]
  },
  {
   "cell_type": "code",
   "execution_count": 0,
   "metadata": {
    "colab": {
     "base_uri": "https://localhost:8080/",
     "height": 173
    },
    "colab_type": "code",
    "id": "GvatbcqWFMl1",
    "outputId": "94dcccd7-e121-44c4-f4e1-538ab983c99d"
   },
   "outputs": [
    {
     "data": {
      "text/plain": [
       "array([' Readily  I have solved others of an abstruseness ten thousand times greater ',\n",
       "       'Therein  he has dreamed of flames and suffocation of mountains upon mountains of Pelion upon Ossa ',\n",
       "       'I was too much exhausted to reflect upon this circumstance  but ate and drank with avidity ',\n",
       "       ...,\n",
       "       'The expression of his smile  however  was by no means unpleasing  as might be supposed  but it had no variation whatever ',\n",
       "       'The next January gossips were mildly interested in the fact that  Lavinny s black brat  had commenced to talk  and at the age of only eleven months ',\n",
       "       'I sympathized with and partly understood them  but I was unformed in mind  I was dependent on none and related to none '],\n",
       "      dtype=object)"
      ]
     },
     "execution_count": 8,
     "metadata": {
      "tags": []
     },
     "output_type": "execute_result"
    }
   ],
   "source": [
    "corpus=ds1.iloc[:,1].to_numpy()\n",
    "\n",
    "\n",
    "for i in range(len(corpus)):\n",
    "\n",
    "  regex = re.compile('[^a-zA-Z]')\n",
    "  corpus[i]=regex.sub(' ', corpus[i])\n",
    "  txt = ''.join(corpus[i])\n",
    "  corpus[i]=txt\n",
    "        \n",
    "corpus\n"
   ]
  },
  {
   "cell_type": "markdown",
   "metadata": {
    "colab_type": "text",
    "id": "BctbyeBmaewf"
   },
   "source": [
    "**Removing small words :-**\n",
    "\n",
    "A small word with length less than or equal to 3 does not carry any significance information so we can drop that words have lenght less than 3."
   ]
  },
  {
   "cell_type": "code",
   "execution_count": 0,
   "metadata": {
    "colab": {
     "base_uri": "https://localhost:8080/",
     "height": 153
    },
    "colab_type": "code",
    "id": "pjuRCD24XhwL",
    "outputId": "2cba79c1-bdb6-46ea-d94d-4d29126a00f8"
   },
   "outputs": [
    {
     "data": {
      "text/plain": [
       "array([' Readily have solved others abstruseness thousand times greater',\n",
       "       ' Therein dreamed flames suffocation mountains upon mountains Pelion upon Ossa',\n",
       "       ' much exhausted reflect upon this circumstance drank with avidity',\n",
       "       ...,\n",
       "       ' expression smile however means unpleasing might supposed variation whatever',\n",
       "       ' next January gossips were mildly interested fact that Lavinny black brat commenced talk only eleven months',\n",
       "       ' sympathized with partly understood them unformed mind dependent none related none'],\n",
       "      dtype=object)"
      ]
     },
     "execution_count": 9,
     "metadata": {
      "tags": []
     },
     "output_type": "execute_result"
    }
   ],
   "source": [
    "for i in range(len(corpus)):\n",
    "  \n",
    "  txt1=corpus[i].split(' ')\n",
    "  txt=\"\"\n",
    "  \n",
    "  for j in txt1:\n",
    "      if(len(j)>3):\n",
    "          txt+=\" \"+j\n",
    "  corpus[i]=txt\n",
    "\n",
    "corpus\n",
    "  "
   ]
  },
  {
   "cell_type": "code",
   "execution_count": 0,
   "metadata": {
    "colab": {},
    "colab_type": "code",
    "id": "sxGOZDZdy-PE"
   },
   "outputs": [],
   "source": []
  },
  {
   "cell_type": "markdown",
   "metadata": {
    "colab_type": "text",
    "id": "swtC1jqpa52q"
   },
   "source": [
    "**Stemming:-**\n",
    "\n",
    "The goal of both stemming is to reduce inflectional forms and sometimes derivationally related forms of a word to a common base form. With that being said, stemming helps us reduce the number of overall terms to certain “root” terms.\n",
    "\n",
    "For example:\n",
    "Organizer, organizes, organization, organized all these get reduced to a root term, maybe “organiz”."
   ]
  },
  {
   "cell_type": "code",
   "execution_count": 0,
   "metadata": {
    "colab": {
     "base_uri": "https://localhost:8080/",
     "height": 136
    },
    "colab_type": "code",
    "id": "7CqjZs2YXcRl",
    "outputId": "040229e6-dffe-4f30-880b-ed77bb961322"
   },
   "outputs": [
    {
     "data": {
      "text/plain": [
       "array([' readili have solv other abstrus thousand time greater',\n",
       "       ' therein dream flame suffoc mountain upon mountain pelion upon ossa',\n",
       "       ' much exhaust reflect upon thi circumst drank with avid', ...,\n",
       "       ' express smile howev mean unpleas might suppos variat whatev',\n",
       "       ' next januari gossip were mildli interest fact that lavinni black brat commenc talk onli eleven month',\n",
       "       ' sympath with partli understood them unform mind depend none relat none'],\n",
       "      dtype=object)"
      ]
     },
     "execution_count": 10,
     "metadata": {
      "tags": []
     },
     "output_type": "execute_result"
    }
   ],
   "source": [
    "for i in range(len(corpus)):\n",
    "\n",
    "  stemmer= PorterStemmer()\n",
    "\n",
    "  txt1=word_tokenize(corpus[i])\n",
    "  txt=\"\"\n",
    "  for word in txt1:\n",
    "      txt+=\" \"+stemmer.stem(word)\n",
    "\n",
    "  corpus[i]=txt\n",
    "corpus"
   ]
  },
  {
   "cell_type": "markdown",
   "metadata": {
    "colab_type": "text",
    "id": "mdIGE8IJbaei"
   },
   "source": [
    "**Removing stop words:-**\n",
    "\n",
    "When data analysis needs to be data driven at the word level, the commonly occurring words (stop-words) should be removed. One can either create a long list of stop-words or one can use predefined language specific libraries."
   ]
  },
  {
   "cell_type": "code",
   "execution_count": 0,
   "metadata": {
    "colab": {
     "base_uri": "https://localhost:8080/",
     "height": 54
    },
    "colab_type": "code",
    "id": "GM2XpJV4SI-G",
    "outputId": "8590e69a-4f2d-4503-9128-ecebcfdddffb"
   },
   "outputs": [
    {
     "name": "stdout",
     "output_type": "stream",
     "text": [
      "frozenset({'anywhere', 'along', 'bill', 'herein', 'out', 'those', 'hundred', 'behind', 'how', 'it', 'five', 'every', 'at', 'meanwhile', 'might', 'ie', 'while', 'con', 'after', 'one', 'themselves', 'the', 'thick', 'himself', 'some', 'between', 'done', 'itself', 'who', 'almost', 'with', 'former', 'hence', 'fill', 'had', 'many', 'herself', 'well', 'here', 'so', 'myself', 'third', 'even', 'though', 'whoever', 'amount', 'amoungst', 'have', 'nine', 'others', 'besides', 'latter', 'system', 'us', 'enough', 'do', 'somewhere', 'were', 'has', 'under', 'sometime', 'be', 'been', 'beside', 'mill', 'from', 'noone', 'not', 'often', 'take', 'cannot', 'everywhere', 'around', 'ltd', 'rather', 'hereupon', 'very', 'whereupon', 'see', 'their', 're', 'fifteen', 'above', 'few', 'elsewhere', 'front', 'per', 'will', 'becoming', 'due', 'his', 'cant', 'amongst', 'forty', 'nobody', 'find', 'her', 'on', 'eight', 'for', 'below', 'most', 'nowhere', 'except', 'by', 'give', 'him', 'thereby', 'he', 'show', 'thin', 'must', 'interest', 'whereafter', 'nothing', 'name', 'she', 'found', 'never', 'than', 'this', 'get', 'seems', 'eg', 'beyond', 'mostly', 'anything', 'now', 'then', 'that', 'them', 'its', 'me', 'perhaps', 'latterly', 'ten', 'toward', 'you', 'whither', 'de', 'nevertheless', 'although', 'yourselves', 'always', 'hereby', 'i', 'everything', 'sixty', 'same', 'too', 'wherein', 'whenever', 'hereafter', 'am', 'seem', 'yours', 'sincere', 'afterwards', 'therefore', 'anyhow', 'detail', 'six', 'twelve', 'among', 'somehow', 'or', 'towards', 'upon', 'anyone', 'ever', 'seeming', 'several', 'which', 'whole', 'to', 'an', 'four', 'against', 'what', 'a', 'beforehand', 'are', 'without', 'your', 'into', 'hers', 'may', 'together', 'becomes', 'whose', 'everyone', 'over', 'another', 'etc', 'thereafter', 'of', 'last', 'indeed', 'therein', 'un', 'through', 'bottom', 'we', 'couldnt', 'please', 'call', 'why', 'co', 'my', 'become', 'these', 'top', 'made', 'onto', 'thereupon', 'and', 'hasnt', 'both', 'if', 'first', 'other', 'side', 'keep', 'each', 'being', 'fifty', 'next', 'as', 'should', 'but', 'moreover', 'no', 'since', 'less', 'eleven', 'where', 'either', 'wherever', 'much', 'thru', 'because', 'all', 'when', 'would', 'became', 'put', 'once', 'our', 'mine', 'still', 'two', 'via', 'within', 'there', 'describe', 'seemed', 'something', 'throughout', 'however', 'up', 'only', 'down', 'is', 'whatever', 'full', 'such', 'twenty', 'already', 'least', 'during', 'back', 'further', 'move', 'none', 'empty', 'any', 'until', 'more', 'across', 'yet', 'whereby', 'fire', 'cry', 'alone', 'namely', 'neither', 'formerly', 'in', 'otherwise', 'ourselves', 'ours', 'own', 'whence', 'was', 'whether', 'someone', 'serious', 'part', 'also', 'thence', 'again', 'whereas', 'whom', 'can', 'before', 'else', 'go', 'inc', 'nor', 'thus', 'about', 'sometimes', 'could', 'anyway', 'three', 'they', 'off', 'yourself'})\n"
     ]
    }
   ],
   "source": [
    "my_stop_words = text.ENGLISH_STOP_WORDS\n",
    "print(my_stop_words)"
   ]
  },
  {
   "cell_type": "markdown",
   "metadata": {
    "colab_type": "text",
    "id": "aVTFl5iCb1sm"
   },
   "source": [
    "# **Vectorizer**"
   ]
  },
  {
   "cell_type": "markdown",
   "metadata": {
    "colab_type": "text",
    "id": "9CfhAwfzcRHJ"
   },
   "source": [
    "**TfidfVectorizer:-**\n",
    "\n",
    "It will transform the text into the feature vectors and used as input to the estimator.\n",
    "\n",
    "The vocabulary is the dictionary that will convert each token or word in the matrix and it will get the feature index."
   ]
  },
  {
   "cell_type": "code",
   "execution_count": 0,
   "metadata": {
    "colab": {
     "base_uri": "https://localhost:8080/",
     "height": 173
    },
    "colab_type": "code",
    "id": "UOr2LsfLbS7U",
    "outputId": "f652ef7a-5a16-4dde-d578-63fde05899cb"
   },
   "outputs": [
    {
     "name": "stdout",
     "output_type": "stream",
     "text": [
      "13798 ['aaem', 'aback', 'abaft', 'abandon', 'abaout', 'abas', 'abash', 'abat', 'abbey', 'abbrevi', 'abdic', 'abdomen', 'abdul', 'abernethi', 'aberr', 'abey', 'abhor', 'abhorr', 'abid', 'abigail', 'abijah', 'abil', 'abject', 'abjur', 'abl', 'ablaz', 'abli', 'abnorm', 'aboard', 'abod', 'abolish', 'abomin', 'abort', 'abound', 'abov', 'abreast', 'abroad', 'abrupt', 'abruptli', 'abscond', 'absenc', 'absent', 'absolut', 'absolv', 'absorb', 'absorbingli', 'abstain', 'abstemi', 'abstract', 'abstractli', 'abstrus', 'absurd', 'absurdli', 'absurdum', 'abund', 'abundantli', 'abus', 'abut', 'abxut', 'abysm', 'abyss', 'academi', 'accaount', 'acceler', 'accent', 'accentu', 'accept', 'access', 'accessori', 'accid', 'accident', 'acclam', 'accliv', 'accommod', 'accompani', 'accomplic', 'accomplish', 'accord', 'accordingli', 'accost', 'account', 'accoutr', 'accredit', 'accru', 'acct', 'accumul', 'accur', 'accuraci', 'accurs', 'accursedli', 'accus', 'accustom', 'acet', 'acetylen', 'ach', 'acheron', 'acheront', 'achiev', 'achil', 'acid', 'acidul', 'acknowledg', 'acm', 'acolyt', 'acorn', 'acoust', 'acquaint', 'acquiesc', 'acquir', 'acquisit', 'acquit', 'acquitt', 'acr', 'acrid', 'acrimoni', 'acropoli', 'acrost', 'act', 'action', 'activ', 'actor', 'actual', 'actuat', 'acumen', 'acut', 'ad', 'adag', 'adam', 'adamantin', 'adapt', 'add', 'adder', 'addict', 'addison', 'addit', 'address', 'adduc', 'adelaid', 'ademptum', 'adept', 'adequ', 'adequaci', 'adher', 'adhes', 'adieu', 'adjac', 'adject', 'adjoin', 'adjur', 'adjust', 'admeasur', 'administ', 'administr', 'admir', 'admiralti', 'admiss', 'admit', 'admitt', 'admonish', 'admonit', 'adob', 'adolph', 'adoni', 'adopt', 'ador', 'adorn', 'adrian', 'adrift', 'adult', 'adulthood', 'advanc', 'advantag', 'advent', 'adventiti', 'adventur', 'advers', 'adversari', 'advert', 'advertis', 'advic', 'advis', 'advoc', 'advou', 'aegean', 'aegi', 'aegidu', 'aeolu', 'aeon', 'aera', 'aeri', 'aerial', 'aerienn', 'aeronaut', 'aerost', 'aesculapiu', 'aesthet', 'aether', 'afar', 'afeard', 'affabl', 'affair', 'affect', 'affectedli', 'affection', 'affidavit', 'affili', 'affin', 'affirm', 'affix', 'afflatu', 'afflict', 'affluenc', 'afford', 'affray', 'affright', 'affrightedli', 'affront', 'afield', 'afloat', 'afoot', 'afor', 'aforesaid', 'afraid', 'afrasiab', 'afresh', 'africa', 'african', 'afriki', 'aftermath', 'afternoon', 'afterward', 'afur', 'agatha', 'agatho', 'age', 'agenc', 'agent', 'aggrandiz', 'aggrav', 'aggreg', 'aggress', 'aghast', 'agil', 'agin', 'agir', 'agit', 'aglow', 'agog', 'agon', 'agoni', 'agraffa', 'agre', 'agreeabl', 'agreement', 'agressi', 'agricultur', 'agrippa', 'agu', 'ahead', 'ahem', 'ahhhh', 'aid', 'aidenn', 'aigrett', 'aiguil', 'ailin', 'ailment', 'aim', 'aimless', 'aimlessli', 'ainsworth', 'aint', 'air', 'aira', 'airi', 'airship', 'aisl', 'ajar', 'akariel', 'akin', 'aklo', 'akurion', 'ala', 'alacr', 'alarm', 'alarmedli', 'alarmingli', 'alarum', 'alba', 'alban', 'albani', 'albano', 'albatross', 'albeit', 'albert', 'alberto', 'albertu', 'albin', 'albino', 'alchem', 'alchemi', 'alchemist', 'alcmaeon', 'alcohol', 'alcov', 'alcyon', 'aldebaran', 'alderney', 'ale', 'alert', 'alertli', 'alex', 'alexand', 'alexandr', 'alfonzo', 'alfr', 'algebra', 'algebraist', 'algol', 'alhazr', 'alic', 'alien', 'alienag', 'alienist', 'alight', 'alik', 'aliment', 'aliquantulum', 'alit', 'aliterqu', 'aliv', 'alkaloid', 'allah', 'allan', 'allaow', 'allay', 'allbreath', 'alleg', 'allegor', 'allegori', 'allen', 'allevi', 'alley', 'alli', 'allianc', 'allig', 'allot', 'allow', 'alloy', 'allu', 'allud', 'allur', 'allus', 'alluvi', 'alm', 'almighti', 'alo', 'aloft', 'alon', 'alongsid', 'aloof', 'aloud', 'alow', 'alp', 'alpha', 'alphabet', 'alpheu', 'alphons', 'alpin', 'alreadi', 'alsatian', 'altair', 'altar', 'alter', 'alterc', 'altern', 'altitud', 'altogeth', 'altro', 'alway', 'amass', 'amateur', 'amaz', 'amazingli', 'ambaaren', 'ambassador', 'amber', 'ambigu', 'ambit', 'ambiti', 'amboi', 'ambrosi', 'ambul', 'ambush', 'amen', 'amend', 'america', 'american', 'americana', 'amiabl', 'amic', 'amica', 'amid', 'amidst', 'amiss', 'amiti', 'ammonia', 'amontillado', 'amorph', 'amour', 'amphibian', 'amphitheatr', 'ampl', 'ampli', 'amplifi', 'amplitudin', 'amriccan', 'amsterdam', 'amu', 'amulet', 'amus', 'anacreon', 'anacreont', 'anadem', 'anaem', 'anaemia', 'analog', 'analys', 'analysi', 'analyst', 'analyt', 'analyz', 'anan', 'anarchi', 'anastasia', 'anathema', 'anatom', 'anatomi', 'ancestor', 'ancestr', 'ancestri', 'anchor', 'anchorag', 'ancient', 'anderson', 'andiron', 'andr', 'andre', 'andrew', 'andro', 'andromach', 'anear', 'anecdot', 'anemon', 'anemona', 'anerh', 'aneur', 'anew', 'anfongsgrund', 'angarola', 'angel', 'angelo', 'anger', 'angl', 'angler', 'anglican', 'anglo', 'angloi', 'angri', 'angrili', 'anguish', 'angular', 'anician', 'aniciu', 'anim', 'animadvers', 'animalist', 'animos', 'ankl', 'annal', 'annihil', 'anniversari', 'announc', 'annoy', 'annual', 'annul', 'annular', 'anomal', 'anomali', 'anon', 'anonym', 'anoth', 'answer', 'ant', 'antagonist', 'antar', 'antediluvian', 'antenn', 'anthil', 'anthoni', 'anthropoid', 'anthropolog', 'anthropologist', 'anthropomorph', 'anti', 'antic', 'anticip', 'anticlimact', 'antidot', 'antient', 'antigon', 'antin', 'antioch', 'antiochia', 'antiochu', 'antipat', 'antipathi', 'antiphon', 'antipod', 'antiqu', 'antiquarian', 'antiquum', 'antler', 'antoin', 'antoni', 'antoninu', 'anxieti', 'anxiou', 'anxious', 'anxther', 'anybodi', 'anyon', 'anyth', 'anyw', 'anywher', 'anziqu', 'aoed', 'aorta', 'aout', 'aoutdoor', 'aoutsid', 'apac', 'apart', 'apathi', 'ape', 'apertur', 'apex', 'apiciu', 'apocryph', 'apollo', 'apolloniu', 'apolog', 'apologet', 'apologi', 'apophysi', 'apoplexi', 'apostaci', 'apothecari', 'apothegm', 'apotheosi', 'apout', 'appal', 'appallingli', 'appar', 'apparatu', 'apparel', 'apparit', 'appeal', 'appear', 'appeas', 'appel', 'append', 'appendag', 'appendix', 'appertain', 'appetit', 'appl', 'applaud', 'applaudingli', 'applaus', 'appleton', 'appletonian', 'appli', 'applianc', 'applic', 'applicationem', 'appoint', 'apport', 'apprais', 'appreci', 'apprehend', 'apprehens', 'apprent', 'apprentic', 'apprenticeship', 'appris', 'approach', 'approb', 'approbatori', 'appropri', 'approv', 'approxim', 'april', 'apuleiu', 'aquat', 'aqueou', 'aquilin', 'arab', 'arabella', 'arabesqu', 'arabia', 'arabian', 'arago', 'aran', 'araoun', 'araound', 'arbitrari', 'arbour', 'arcad', 'arcadia', 'arcadian', 'arcana', 'arch', 'archaeolog', 'archaeologist', 'archaic', 'archaism', 'archangel', 'archer', 'archimedean', 'archipelago', 'architect', 'architectur', 'architrav', 'archiv', 'archon', 'archway', 'archyta', 'arctic', 'arcturu', 'ardent', 'ardor', 'ardour', 'arduou', 'area', 'aren', 'argo', 'argosi', 'argostino', 'argu', 'argument', 'argumentum', 'argyropylo', 'ari', 'aria', 'arianu', 'aricina', 'arid', 'aright', 'aris', 'arisen', 'aristocraci', 'aristocrat', 'aristotelian', 'arithmet', 'arkham', 'arli', 'arm', 'armand', 'armi', 'armington', 'armitag', 'armlet', 'armori', 'armour', 'arnheim', 'arno', 'aroma', 'aromat', 'aros', 'arount', 'arous', 'arpino', 'arrang', 'arrant', 'array', 'arrest', 'arriv', 'arrog', 'arrow', 'art', 'artemi', 'arter', 'arteri', 'arthur', 'articl', 'articul', 'articulo', 'artific', 'artifici', 'artilleri', 'artisan', 'artist', 'artless', 'arv', 'aryan', 'asaph', 'asbest', 'ascend', 'ascens', 'ascent', 'ascertain', 'ascrib', 'aselliu', 'ash', 'asham', 'ashen', 'ashi', 'ashimah', 'ashor', 'ashton', 'asia', 'asiat', 'asid', 'ask', 'aslant', 'asleep', 'aspect', 'asper', 'asphodel', 'aspic', 'aspir', 'ass', 'assail', 'assassin', 'assault', 'assembl', 'assemblag', 'assent', 'assert', 'asset', 'assever', 'assidu', 'assign', 'assist', 'assiz', 'associ', 'assoilzi', 'assuag', 'assum', 'assumpt', 'assur', 'assuredli', 'astart', 'astern', 'asteroid', 'asthma', 'astonish', 'astonishingli', 'astoreth', 'astound', 'astrid', 'astrolog', 'astronom', 'astronomi', 'astut', 'asund', 'asylum', 'asymmetr', 'atal', 'atalant', 'atalanta', 'atav', 'athen', 'athenian', 'athib', 'atho', 'athok', 'athol', 'athwart', 'atlant', 'atlanti', 'atmospher', 'atom', 'atomi', 'atop', 'atroc', 'atroci', 'atrophi', 'attach', 'attack', 'attain', 'attempt', 'attend', 'attent', 'attest', 'attic', 'attica', 'attir', 'attitud', 'attorney', 'attract', 'attribut', 'attun', 'atween', 'auburn', 'auckland', 'audac', 'audaci', 'audibl', 'audienc', 'audient', 'auditor', 'auditori', 'aught', 'augment', 'auguri', 'august', 'augustan', 'augustu', 'aunt', 'auoir', 'aurelian', 'aureliu', 'auricla', 'auricula', 'aurifer', 'aurora', 'auseil', 'auspic', 'auspici', 'aussi', 'auster', 'austin', 'austria', 'austrian', 'authent', 'authentick', 'author', 'authorit', 'authorship', 'auto', 'autobiographi', 'autocrat', 'automat', 'automata', 'automaton', 'automobil', 'autr', 'autumn', 'avail', 'avalanch', 'avaric', 'avarici', 'avatar', 'aveng', 'avenu', 'aver', 'averag', 'averil', 'avers', 'avert', 'avid', 'avidli', 'avisson', 'avoc', 'avoid', 'avow', 'avowedli', 'aw', 'await', 'awak', 'awaken', 'awar', 'award', 'away', 'awe', 'awesom', 'awestruck', 'awhil', 'awkward', 'awkwardli', 'awok', 'awri', 'axi', 'axiom', 'axiomat', 'aylesburi', 'azathoth', 'azazel', 'aziolo', 'azrael', 'azur', 'baal', 'babbag', 'babbl', 'babe', 'babel', 'babi', 'baboon', 'babson', 'babylon', 'babylonian', 'bacchanalian', 'bachelor', 'background', 'backward', 'backwat', 'backwood', 'bacon', 'baconian', 'bade', 'badg', 'badli', 'baffl', 'bafflement', 'bafflingli', 'bag', 'baggag', 'baggi', 'bagpip', 'baiae', 'bail', 'bake', 'baker', 'bakeri', 'balanc', 'balbutiu', 'balconi', 'bald', 'balderdash', 'baldli', 'bale', 'balk', 'balkin', 'ball', 'ballad', 'ballast', 'balloon', 'ballot', 'ballylough', 'balm', 'balmi', 'baltimor', 'balustrad', 'banana', 'band', 'bandag', 'bane', 'bangu', 'banish', 'bank', 'banker', 'bankrupt', 'banner', 'bannish', 'banof', 'banquet', 'banter', 'bantri', 'baound', 'baptism', 'baptist', 'bar', 'barb', 'barbar', 'barbarian', 'barber', 'barca', 'barcelona', 'bard', 'bare', 'barefoot', 'barehead', 'barest', 'barg', 'bargain', 'bargeman', 'bark', 'barkentin', 'barkin', 'barlow', 'barn', 'barnaba', 'barnacl', 'barnard', 'baromet', 'baron', 'baronet', 'barqu', 'barrel', 'barren', 'barri', 'barricad', 'barrier', 'barroom', 'barroqu', 'barter', 'bartholomew', 'barzai', 'basalt', 'base', 'baseless', 'basement', 'basest', 'bash', 'basi', 'basic', 'basil', 'bask', 'basket', 'bass', 'bat', 'batavia', 'bate', 'bath', 'bathroom', 'batrachian', 'battalion', 'batten', 'batter', 'batteri', 'battl', 'battlefield', 'battlement', 'baulk', 'bawl', 'bay', 'bayonet', 'beach', 'beacon', 'bead', 'beak', 'beam', 'bear', 'bearabl', 'beard', 'bearer', 'bearin', 'beast', 'beat', 'beaten', 'beati', 'beatifi', 'beatin', 'beatitud', 'beauclerk', 'beaucoup', 'beaufort', 'beauteou', 'beauti', 'beautifi', 'beauvai', 'beaver', 'becam', 'becaus', 'beckon', 'becom', 'becomingli', 'bed', 'bedchamb', 'bedcloth', 'beddo', 'bedeck', 'bedew', 'bedizzen', 'bedlamit', 'bedlo', 'bedraggl', 'bedroom', 'bedsid', 'bedstead', 'bee', 'beech', 'beef', 'beelzebub', 'beer', 'beetl', 'befal', 'befallen', 'befel', 'befit', 'befor', 'befoul', 'befriend', 'befxr', 'beg', 'began', 'beggar', 'beggari', 'beggarli', 'begin', 'beginnin', 'begirt', 'begon', 'begotten', 'beguil', 'begun', 'behalf', 'behav', 'behavior', 'behaviour', 'beheld', 'behemoth', 'behold', 'behov', 'bein', 'belabor', 'belat', 'belay', 'belch', 'beldam', 'belfast', 'belfri', 'belgian', 'beli', 'belial', 'belief', 'believ', 'belisariu', 'bell', 'belliger', 'bellini', 'bellissima', 'bellow', 'belong', 'belov', 'belphegor', 'belriv', 'belt', 'benar', 'bench', 'bend', 'bendin', 'beneath', 'benefactor', 'benefic', 'benefici', 'benefit', 'benevol', 'bengale', 'benight', 'benign', 'benijah', 'benjamin', 'bennett', 'bent', 'bentham', 'bentinck', 'bentley', 'bepuf', 'bequeath', 'bequest', 'berat', 'bereav', 'berenic', 'berkeley', 'berlifitz', 'berlin', 'bernard', 'berri', 'berth', 'beryl', 'beseam', 'beseech', 'beset', 'besid', 'besieg', 'besmear', 'besot', 'besought', 'bespeak', 'bespok', 'besprinkl', 'bess', 'best', 'bestial', 'bestir', 'bestow', 'bestrewen', 'bestrod', 'bet', 'betaken', 'bethink', 'bethlehem', 'bethought', 'bethumb', 'betid', 'betoken', 'betook', 'betray', 'betroth', 'better', 'betwixt', 'bewail', 'bewar', 'bewild', 'bewilder', 'bewilderingli', 'bewitch', 'bewitchingli', 'bia', 'biass', 'bib', 'bibl', 'bibliograph', 'bibliotheca', 'bibulu', 'bicknel', 'bicycl', 'bid', 'bidden', 'bien', 'bienseanc', 'bienvil', 'bier', 'bigger', 'bignonia', 'bigot', 'bijou', 'bilg', 'billet', 'billiard', 'billon', 'billow', 'billowi', 'bin', 'binari', 'bind', 'binder', 'biochem', 'biograph', 'biographi', 'biolog', 'biot', 'birch', 'bird', 'birnam', 'biron', 'birth', 'birthday', 'bisect', 'bishop', 'bishopg', 'bismuth', 'bison', 'bit', 'bite', 'bitten', 'bitter', 'bitterest', 'bitterli', 'bitumen', 'bivalv', 'bivouac', 'bizarr', 'bizarreri', 'black', 'blackberri', 'blackbird', 'blacken', 'blacker', 'blackest', 'blackguard', 'blackli', 'blacksmith', 'blackwood', 'blade', 'blamabl', 'blame', 'blameless', 'blanc', 'bland', 'blandest', 'blandot', 'blank', 'blanket', 'blankli', 'blasphem', 'blasphemi', 'blast', 'blaze', 'bleach', 'bleak', 'blear', 'bleat', 'bleatin', 'bled', 'bleed', 'blemish', 'blench', 'blend', 'bless', 'bleu', 'blew', 'bliev', 'blight', 'blind', 'blindli', 'blink', 'bliss', 'bloat', 'block', 'blockad', 'blond', 'blood', 'bloodi', 'bloodless', 'bloodsh', 'bloodthirsti', 'bloom', 'blossom', 'blot', 'blous', 'blow', 'blown', 'bluddennuff', 'blue', 'blueberri', 'blueness', 'bluff', 'bluish', 'blunder', 'blunderbuss', 'blunt', 'bluntli', 'blur', 'blush', 'bluster', 'board', 'boarder', 'boast', 'boat', 'boatman', 'boatswain', 'bob', 'bobbi', 'boccaccio', 'bode', 'bodi', 'bodiless', 'bodili', 'boethiu', 'bog', 'bohm', 'boi', 'boil', 'boister', 'bokrug', 'bold', 'bolder', 'boldest', 'boldli', 'bolster', 'bolt', 'bolter', 'bolton', 'bombard', 'bombast', 'bombshel', 'bona', 'bonapart', 'bond', 'bondag', 'bondsman', 'bone', 'bonfir', 'boni', 'bonnet', 'book', 'bookcas', 'booksel', 'boom', 'boon', 'boos', 'boot', 'booti', 'bordeaux', 'border', 'bore', 'boreali', 'boredom', 'borellu', 'boresom', 'borghes', 'born', 'borneo', 'bornes', 'borough', 'borrow', 'boski', 'bosom', 'bossieux', 'bossuet', 'boston', 'boswel', 'bosworth', 'botan', 'bother', 'bottl', 'bottomless', 'boudoir', 'bouffon', 'bough', 'bought', 'boulevers', 'boullard', 'boulogn', 'bound', 'boundari', 'boundless', 'boundlessli', 'bounteou', 'bounti', 'bourdon', 'bourn', 'bout', 'bovin', 'bow', 'bowel', 'bowen', 'bower', 'bowl', 'box', 'boy', 'boyhood', 'boyish', 'bozzi', 'brace', 'bracelet', 'bracknel', 'braggadocio', 'brain', 'brainless', 'brambl', 'bran', 'branch', 'brand', 'brandi', 'bransbi', 'brass', 'brat', 'bravado', 'brave', 'braveri', 'bravest', 'bravo', 'brawl', 'brawni', 'bray', 'brazen', 'brazier', 'breach', 'bread', 'breadth', 'break', 'breakdown', 'breaker', 'breakfast', 'breakless', 'breakwat', 'breast', 'breath', 'breathin', 'breathless', 'breathlessli', 'bred', 'breech', 'breed', 'breeng', 'breez', 'breezi', 'bremen', 'brethren', 'breton', 'brevet', 'breviti', 'brew', 'brewster', 'bribe', 'brick', 'brickwork', 'bridal', 'bride', 'briden', 'bridg', 'bridl', 'brief', 'briefest', 'briefli', 'brier', 'brigadi', 'bright', 'brighten', 'brighter', 'brightest', 'brightholm', 'brightli', 'brillianc', 'brilliant', 'brilliantli', 'brim', 'brine', 'bring', 'bringhurst', 'bringin', 'brink', 'brisk', 'briskli', 'bristl', 'bristol', 'britain', 'britannia', 'britannica', 'british', 'briton', 'broach', 'broad', 'broadcloth', 'broader', 'broadest', 'brobdignagian', 'brochur', 'broglio', 'broil', 'broke', 'broken', 'bromid', 'bronz', 'brood', 'brook', 'broomstick', 'brother', 'brotherhood', 'brotherli', 'brougham', 'brought', 'brow', 'brown', 'brownish', 'brownson', 'brownston', 'brows', 'bruis', 'bruit', 'brun', 'bruna', 'brunswick', 'brush', 'brusqueri', 'brussel', 'brutal', 'brute', 'brutish', 'brutu', 'bubbl', 'buck', 'bucket', 'buckholm', 'buckingham', 'buckl', 'buckskin', 'bud', 'buffalo', 'buffet', 'buffon', 'buffoon', 'buffooneri', 'bug', 'bugaboo', 'bugbear', 'build', 'builder', 'buildin', 'built', 'bulb', 'bulg', 'bulgi', 'bulgin', 'bulk', 'bulki', 'bull', 'bullet', 'bullethead', 'bulletin', 'bulwark', 'bulwer', 'bump', 'bumper', 'bumpkin', 'bunch', 'bundl', 'bung', 'bungalow', 'bungl', 'bunk', 'bunsen', 'buoy', 'buoyant', 'buoyantli', 'buppi', 'burden', 'bureau', 'buren', 'burgess', 'burgher', 'burglar', 'burgomast', 'buri', 'burial', 'burk', 'burn', 'burner', 'burney', 'burnish', 'burnt', 'burrow', 'burst', 'burthen', 'burthensom', 'bush', 'bushi', 'busi', 'busier', 'busili', 'buskin', 'bussi', 'bust', 'bustl', 'butcher', 'butcheri', 'buteful', 'butler', 'butt', 'butter', 'buttercup', 'butterfli', 'button', 'buttress', 'buy', 'buyer', 'buzrael', 'buzz', 'buzzard', 'bxwl', 'bygon', 'byron', 'bystand', 'byway', 'byzantin', 'cabalist', 'cabbag', 'cabin', 'cabinet', 'cabl', 'caboch', 'caboos', 'cabriolet', 'cach', 'cachinn', 'cacophoni', 'cactu', 'cada', 'cadaver', 'cadenc', 'cadet', 'caesar', 'cafeteria', 'cage', 'cahoon', 'caiu', 'cajol', 'cake', 'calagurri', 'calai', 'calam', 'calamit', 'calc', 'calcul', 'calculu', 'calcutta', 'calderon', 'calendar', 'calf', 'california', 'caligula', 'callao', 'caller', 'callin', 'callou', 'callous', 'calm', 'calmer', 'calmest', 'calmli', 'calor', 'calv', 'calvari', 'calvin', 'cambric', 'cambridg', 'came', 'camel', 'cameleopard', 'camera', 'camillu', 'camorin', 'camp', 'campaign', 'campanella', 'campfir', 'camphor', 'campi', 'campu', 'canadian', 'canal', 'cancal', 'cancel', 'candelabra', 'candelabrum', 'candi', 'candid', 'candl', 'candlelight', 'candlema', 'candlestick', 'candor', 'candour', 'canin', 'canist', 'cannib', 'cannon', 'cano', 'canon', 'canonchet', 'canopi', 'canst', 'canteen', 'canto', 'canton', 'canva', 'canvas', 'canvass', 'canyon', 'caoutchouc', 'caow', 'cap', 'capabl', 'capac', 'capaci', 'caparison', 'cape', 'capella', 'caper', 'capit', 'capito', 'capitol', 'capitul', 'capric', 'caprici', 'capricornutti', 'capsiz', 'capt', 'captain', 'captiou', 'captiv', 'captor', 'captur', 'caput', 'car', 'caracol', 'caravaggio', 'caravan', 'carboy', 'carbuncl', 'carcas', 'carcass', 'card', 'cardiac', 'care', 'career', 'careless', 'carelessli', 'caress', 'careworn', 'cargo', 'caricatur', 'carlo', 'carmin', 'carn', 'carniv', 'carnivor', 'carolin', 'carolina', 'carous', 'carpaccio', 'carpent', 'carpentri', 'carpet', 'carri', 'carriag', 'carrier', 'carrington', 'carryin', 'cart', 'cartel', 'carter', 'carthaginian', 'cartilagin', 'cartoonist', 'cartridg', 'carv', 'carven', 'carver', 'carvin', 'cascad', 'case', 'casement', 'cash', 'cashmer', 'casimir', 'cask', 'casket', 'caspian', 'casqu', 'cassiopeia', 'cassock', 'cast', 'castel', 'castl', 'castor', 'castro', 'casual', 'casualti', 'cat', 'cataclysm', 'catacomb', 'catalepsi', 'catalept', 'catalogu', 'catalpa', 'catapult', 'cataract', 'catastroph', 'catch', 'catech', 'catechis', 'categori', 'caterwaul', 'cathedr', 'cathol', 'cathuria', 'catskil', 'cattl', 'caucasian', 'caud', 'caught', 'cauldron', 'cauliflow', 'caus', 'causat', 'causeless', 'causeway', 'caustic', 'caution', 'cautiou', 'cautious', 'cavalcad', 'cavali', 'cavalri', 'cave', 'cavern', 'cavil', 'caviti', 'caw', 'cayley', 'ceas', 'ceaseless', 'ceaselessli', 'cecila', 'cecilia', 'ceil', 'celebr', 'celepha', 'celer', 'celesti', 'cell', 'cellar', 'cellular', 'celt', 'celtiberian', 'cement', 'cemeteri', 'cenci', 'ceni', 'cenotaph', 'censer', 'censur', 'cent', 'center', 'centiped', 'centr', 'central', 'centrifug', 'centripet', 'centumcella', 'centuri', 'centurio', 'centurion', 'cepheu', 'cere', 'cerebr', 'cerement', 'ceremoni', 'cerenerian', 'certain', 'certainli', 'certainti', 'certif', 'certum', 'cerulean', 'cervant', 'cessat', 'cetacean', 'cett', 'chad', 'chafe', 'chagrin', 'chain', 'chair', 'chairman', 'chais', 'chalcedoni', 'chaldaea', 'chalde', 'chalk', 'challeng', 'chamber', 'chambr', 'chamfort', 'chamier', 'chamounix', 'champagn', 'champion', 'chan', 'chanc', 'chandeli', 'chang', 'changeabl', 'changel', 'changeless', 'changeth', 'channel', 'chant', 'chantilli', 'chao', 'chaotic', 'chap', 'chaplet', 'chapman', 'chapter', 'char', 'charact', 'character', 'characteri', 'characteris', 'characterist', 'charcoal', 'charg', 'charger', 'chariot', 'charit', 'chariti', 'charl', 'charlemagn', 'charleston', 'charlestown', 'charlottesvil', 'charm', 'charmion', 'charnel', 'chart', 'charter', 'chartreus', 'chase', 'chasm', 'chassez', 'chasten', 'chastiti', 'chat', 'chateau', 'chateaubriand', 'chatter', 'chauncey', 'chauss', 'cheap', 'cheat', 'check', 'cheek', 'cheer', 'cheerili', 'cheerless', 'chees', 'chemic', 'chemin', 'chemist', 'chemistri', 'chequer', 'cher', 'cherish', 'cherri', 'cherub', 'chess', 'chessboard', 'chessmen', 'chest', 'chesterfield', 'chestnut', 'chevali', 'chew', 'chez', 'chian', 'chicago', 'chicken', 'chide', 'chief', 'chiefest', 'chiefli', 'chieftain', 'chien', 'child', 'childhood', 'childish', 'childishli', 'childless', 'children', 'chili', 'chill', 'chilli', 'chimaera', 'chimbl', 'chime', 'chimer', 'chimera', 'chimney', 'chimpanze', 'chin', 'china', 'chines', 'chink', 'chinless', 'chip', 'chiponchipino', 'chirom', 'chirp', 'chirurg', 'chisel', 'chivalr', 'chivalri', 'chlorid', 'chlorot', 'choak', 'choctaw', 'choic', 'choicest', 'choke', 'choos', 'chop', 'choppi', 'choral', 'chord', 'chorist', 'choru', 'chorum', 'chose', 'chosen', 'choynski', 'chri', 'christ', 'christchurch', 'christen', 'christendom', 'christi', 'christian', 'christma', 'chronic', 'chronicl', 'chronomet', 'chrysali', 'chrysolit', 'chuckl', 'church', 'churchli', 'churchyard', 'churn', 'chymist', 'cical', 'cicero', 'ciceronian', 'cigar', 'ciliat', 'cimabu', 'cincinnatu', 'cinema', 'cinna', 'cinnamon', 'cipher', 'circl', 'circu', 'circuit', 'circul', 'circular', 'circulatori', 'circumambi', 'circumfer', 'circumgyratori', 'circumjac', 'circumlocut', 'circumscrib', 'circumst', 'circumstanc', 'circumstanti', 'circumvolut', 'citadel', 'citat', 'cite', 'citi', 'citizen', 'civic', 'civil', 'civilian', 'civilis', 'clad', 'claim', 'claimant', 'clam', 'clamber', 'clammi', 'clamor', 'clamour', 'clandestin', 'clang', 'clangor', 'clangour', 'clannish', 'clap', 'clapboard', 'clapham', 'clara', 'clarion', 'clark', 'clash', 'clasp', 'class', 'classic', 'classifi', 'clatter', 'claud', 'claudianu', 'claudiu', 'claus', 'claw', 'clay', 'clean', 'cleanest', 'cleanli', 'clear', 'clearer', 'clearest', 'clearli', 'cleav', 'cleavag', 'cleft', 'clei', 'clench', 'cleomen', 'cleopatra', 'clergymen', 'cleric', 'clerk', 'clerval', 'cleveland', 'clever', 'cleverli', 'clew', 'click', 'cliff', 'cliffsid', 'climat', 'climax', 'climb', 'climber', 'clime', 'clinch', 'cling', 'clinic', 'clo', 'cloak', 'cloath', 'clock', 'clod', 'clog', 'cloister', 'close', 'closer', 'closest', 'closet', 'clost', 'clot', 'cloth', 'cloud', 'cloudi', 'cloudless', 'clout', 'clove', 'clovi', 'clown', 'club', 'clue', 'clueless', 'clump', 'clumsi', 'clumsili', 'clung', 'cluster', 'clutch', 'cnaeu', 'coach', 'coachman', 'coadjutor', 'coal', 'coalesc', 'coars', 'coarser', 'coarsest', 'coast', 'coat', 'cobbl', 'cobbler', 'cobbleston', 'cobweb', 'cock', 'cockney', 'cocoa', 'code', 'codifi', 'coeliu', 'coffe', 'coffer', 'coffin', 'cognis', 'cogniz', 'cognomen', 'cognoscenti', 'coher', 'cohort', 'coil', 'coin', 'coinag', 'coincid', 'cold', 'colder', 'coldest', 'coldli', 'coleridg', 'collaps', 'collar', 'collat', 'collater', 'colleagu', 'collect', 'collectedli', 'collector', 'colleg', 'collegi', 'collegian', 'colli', 'collid', 'collin', 'collis', 'colloc', 'colloqui', 'colloquy', 'cologn', 'colon', 'colonel', 'coloni', 'colonist', 'color', 'coloss', 'colour', 'colourless', 'columbiad', 'column', 'coma', 'comb', 'combat', 'combin', 'combust', 'come', 'comeagain', 'comedi', 'comer', 'comet', 'cometari', 'cometh', 'comfort', 'comfortless', 'comic', 'comin', 'comm', 'command', 'commanderi', 'commemor', 'commenc', 'commend', 'commensur', 'comment', 'commentari', 'commerc', 'commerci', 'commerciel', 'commingl', 'commiser', 'commiss', 'commit', 'committ', 'commod', 'commodi', 'commodu', 'common', 'commonalti', 'commonest', 'commonli', 'commonplac', 'commonwealth', 'commot', 'commun', 'communion', 'compact', 'compani', 'companion', 'companionless', 'companionship', 'companionway', 'compar', 'comparison', 'compart', 'compass', 'compassion', 'compassless', 'compeer', 'compel', 'compendi', 'compendium', 'compens', 'compet', 'competit', 'compil', 'complac', 'complain', 'complaint', 'complais', 'compleat', 'complement', 'complet', 'complex', 'complexion', 'compli', 'complianc', 'complic', 'compliment', 'compos', 'composit', 'composur', 'compound', 'comprehend', 'comprehens', 'compress', 'compris', 'compromis', 'comptoir', 'compulsori', 'comput', 'comrad', 'comt', 'comu', 'conan', 'concav', 'conceal', 'concealedli', 'conced', 'conceit', 'conceiv', 'concentr', 'concept', 'concern', 'concert', 'concerto', 'concess', 'conch', 'concierg', 'concili', 'conciliatori', 'concis', 'conclav', 'conclud', 'conclus', 'concoct', 'concomit', 'concord', 'concours', 'concret', 'concurr', 'concuss', 'condemn', 'condens', 'condescend', 'condit', 'condol', 'condor', 'condorcet', 'conduc', 'conduct', 'conductor', 'conduit', 'cone', 'confection', 'confederaci', 'confer', 'confess', 'confessedli', 'confessor', 'confid', 'confidenti', 'confin', 'confirm', 'confisc', 'conflagr', 'conflict', 'confluenc', 'conform', 'confound', 'confront', 'confus', 'confusedli', 'confut', 'congeal', 'congeni', 'congeri', 'conglomer', 'congo', 'congoles', 'congratul', 'congratulatori', 'congreg', 'congregationalist', 'conic', 'conjectur', 'conjoin', 'conjointli', 'conjunct', 'conjur', 'connect', 'connecticut', 'connexion', 'conniv', 'connoisseur', 'conquer', 'conqueror', 'conquest', 'conscienc', 'conscienti', 'consciou', 'conscious', 'consecr', 'consecut', 'consent', 'consequ', 'conserv', 'conservat', 'consid', 'considdebl', 'consider', 'consign', 'consist', 'consol', 'consolatori', 'consolotari', 'conson', 'consort', 'conspicu', 'conspir', 'conspiraci', 'constanc', 'constant', 'constantin', 'constantinopl', 'constantinopoli', 'constantli', 'constel', 'constern', 'constituni', 'constitut', 'constrain', 'constraint', 'constrict', 'constru', 'construct', 'constructionem', 'consubstanti', 'consul', 'consulship', 'consult', 'consum', 'consumm', 'consumpt', 'cont', 'contact', 'contagi', 'contagion', 'contain', 'contemn', 'contempl', 'contemporari', 'contempt', 'contemptu', 'contend', 'content', 'contentedli', 'contenti', 'contento', 'contest', 'context', 'contigu', 'contin', 'continent', 'continu', 'continuo', 'continuum', 'contort', 'contour', 'contr', 'contract', 'contradict', 'contradictori', 'contradistinct', 'contralto', 'contrari', 'contrast', 'contre', 'contribut', 'contributor', 'contriv', 'control', 'controul', 'controversi', 'controvert', 'contum', 'contus', 'conundrum', 'convalesc', 'conveni', 'convent', 'convention', 'convenu', 'conver', 'converg', 'convers', 'convert', 'convex', 'convey', 'convict', 'convinc', 'convincing', 'convivi', 'convolut', 'convoy', 'convuls', 'coo', 'cook', 'cookeri', 'cool', 'coolli', 'coop', 'cooper', 'cope', 'copi', 'copiou', 'copious', 'copp', 'copper', 'coppic', 'cops', 'copyist', 'coquet', 'coquettish', 'coral', 'cord', 'cordag', 'cordial', 'core', 'corey', 'corinno', 'corinth', 'corinthian', 'cork', 'corn', 'corneliu', 'corner', 'cornfield', 'cornic', 'cornwal', 'corollari', 'coron', 'corona', 'coronet', 'corp', 'corpor', 'corps', 'corpul', 'correct', 'correctli', 'correggio', 'correl', 'correspond', 'corridor', 'corrobor', 'corrod', 'corros', 'corrug', 'corrupitur', 'corrupt', 'cors', 'corusc', 'cosmic', 'cosmo', 'cosmogoni', 'cost', 'costli', 'costum', 'cotch', 'cotopaxi', 'cottag', 'cotter', 'cottl', 'cotton', 'couch', 'cough', 'couldn', 'couldst', 'council', 'counsel', 'counsellor', 'count', 'counten', 'countenanc', 'counter', 'counteract', 'counterbal', 'counterfeit', 'counterpart', 'countess', 'counti', 'countless', 'countri', 'countryman', 'countrymen', 'countrysid', 'coup', 'coupar', 'coupl', 'courag', 'courier', 'cours', 'courser', 'court', 'courteou', 'courtesi', 'courtier', 'courtli', 'courtyard', 'cousin', 'cove', 'cover', 'covert', 'covet', 'cow', 'coward', 'cowardic', 'cower', 'coyli', 'coyot', 'crab', 'crack', 'cracker', 'crackl', 'cradl', 'craft', 'crafti', 'craftili', 'craftsmanship', 'crag', 'craggi', 'cram', 'cramp', 'crane', 'cranium', 'craowd', 'crash', 'crate', 'cravat', 'crave', 'cravin', 'crawford', 'crawl', 'crawlin', 'crayon', 'craze', 'crazi', 'crazili', 'creak', 'creakin', 'creas', 'creat', 'creater', 'creation', 'creativ', 'creator', 'creatur', 'crebillon', 'credea', 'credenc', 'credenti', 'credibl', 'credit', 'creditor', 'credul', 'creed', 'creek', 'creep', 'creepin', 'crenul', 'crept', 'crescendo', 'crescent', 'cresset', 'crest', 'crevic', 'crew', 'cri', 'cricket', 'crime', 'crimin', 'crimson', 'crinkli', 'crisi', 'crisp', 'criterion', 'critic', 'criticis', 'critick', 'critter', 'croak', 'croesu', 'croissart', 'cromwel', 'crone', 'crook', 'croon', 'crop', 'cross', 'crossbon', 'crotala', 'crotchet', 'crouch', 'crow', 'crowbar', 'crowd', 'crown', 'crucial', 'crucibl', 'crucifix', 'crude', 'crudest', 'cruditi', 'cruel', 'cruelli', 'cruelti', 'cruis', 'crumbl', 'crumpl', 'crusad', 'crush', 'crust', 'crxw', 'crxwing', 'crypt', 'cryptic', 'cryptogram', 'cryptograph', 'cryptographist', 'crystal', 'crystallin', 'crystallis', 'cthulhu', 'cube', 'cubic', 'cubit', 'cuckoo', 'cudgel', 'cuf', 'cuff', 'cull', 'culmin', 'culpabl', 'cult', 'cultiv', 'cultur', 'cumaean', 'cumberland', 'cumbrou', 'cumul', 'cun', 'cunningli', 'cup', 'cupalo', 'cupboard', 'cupid', 'cupola', 'cura', 'curat', 'curb', 'curdl', 'cure', 'cureless', 'curio', 'curios', 'curiou', 'curious', 'curiu', 'curl', 'curli', 'current', 'currycomb', 'curs', 'cursori', 'curt', 'curtail', 'curtain', 'curti', 'curv', 'curvatur', 'curvet', 'cushion', 'cusp', 'cuspidor', 'custodi', 'custodian', 'custom', 'customari', 'cut', 'cutter', 'cxck', 'cxme', 'cxncxrd', 'cxxl', 'cycl', 'cyclamen', 'cyclop', 'cyclopean', 'cygnu', 'cylind', 'cylindr', 'cynic', 'cynosur', 'cypress', 'cyru', 'czanek', 'dabbl', 'dabbler', 'dacia', 'daddi', 'daddyship', 'daedalu', 'daemon', 'daemoniac', 'daemonolatreia', 'daemonologist', 'dagger', 'dagon', 'dai', 'daili', 'dainti', 'daintiest', 'daisi', 'dale', 'dalli', 'dallianc', 'dam', 'damag', 'dame', 'damn', 'damnabl', 'damp', 'dampli', 'damsel', 'danc', 'dancer', 'dandi', 'dane', 'danger', 'dangl', 'daniel', 'dank', 'dant', 'danver', 'daown', 'daphn', 'daphni', 'dare', 'dark', 'darken', 'darker', 'darkest', 'darkl', 'darkli', 'darksom', 'darl', 'darri', 'dart', 'darter', 'dartford', 'darwin', 'dash', 'dast', 'dastard', 'dastardli', 'data', 'datchet', 'date', 'daub', 'daughter', 'dauntless', 'davi', 'david', 'davidson', 'dawn', 'day', 'daybreak', 'daylight', 'daytim', 'daze', 'dazed', 'dazzl', 'dead', 'deaden', 'deadli', 'deadliest', 'deaf', 'deafen', 'deafeningli', 'deal', 'dealt', 'dean', 'dear', 'dearer', 'dearest', 'dearli', 'dearth', 'death', 'deathb', 'deathli', 'deathlik', 'debar', 'debas', 'debat', 'debauch', 'debaucheri', 'debbil', 'debil', 'debilit', 'debri', 'debt', 'debtor', 'decad', 'decant', 'decapit', 'decay', 'deceas', 'deceit', 'deceiv', 'decemb', 'decent', 'decept', 'decid', 'decidedli', 'deciph', 'decipher', 'decis', 'deciu', 'deck', 'declaim', 'declar', 'declin', 'decliv', 'decollavimu', 'decompos', 'decomposit', 'decor', 'decora', 'decorist', 'decorum', 'decre', 'decreas', 'decrepid', 'decrepit', 'decrepitud', 'decri', 'decyph', 'dedic', 'deduc', 'deduct', 'deed', 'deem', 'deep', 'deepen', 'deeper', 'deepest', 'deepli', 'deer', 'defac', 'default', 'defeat', 'defect', 'defenc', 'defenceless', 'defend', 'defens', 'defer', 'defi', 'defianc', 'defici', 'defin', 'definit', 'deflect', 'deform', 'defray', 'deft', 'degener', 'degeneraci', 'degrad', 'degradedli', 'degre', 'deifi', 'deific', 'deign', 'deiti', 'deject', 'delay', 'deleg', 'deliber', 'delic', 'delicaci', 'delici', 'delight', 'delightedli', 'delin', 'deliri', 'delirium', 'deliv', 'deliver', 'deliveri', 'dell', 'delli', 'delorain', 'delphi', 'delphinu', 'deluc', 'delud', 'delug', 'delus', 'delv', 'delver', 'demand', 'demeanor', 'demeanour', 'dement', 'demerit', 'demesn', 'demet', 'demi', 'demijohn', 'demis', 'democraci', 'democrat', 'democritu', 'demolish', 'demon', 'demoniac', 'demonstr', 'demoralis', 'demosthen', 'demur', 'deneb', 'deni', 'denial', 'denizen', 'denomin', 'denot', 'denouement', 'denounc', 'dens', 'denser', 'densiti', 'dent', 'denunci', 'deodamnatu', 'depart', 'departur', 'depend', 'depict', 'deplor', 'depopul', 'depos', 'deposit', 'depositori', 'deprav', 'deprec', 'depreci', 'depress', 'depriv', 'depth', 'deput', 'deputi', 'derbi', 'derelict', 'derid', 'deris', 'deriv', 'desart', 'desarv', 'descant', 'descend', 'descent', 'descri', 'describ', 'descript', 'desert', 'deserv', 'desideratum', 'desideriu', 'design', 'desir', 'desist', 'desk', 'desol', 'desoulier', 'desp', 'despair', 'despairingli', 'despatch', 'desper', 'despera', 'desperado', 'despic', 'despis', 'despit', 'despoil', 'despond', 'despot', 'desroch', 'dessein', 'dessert', 'destin', 'destini', 'destitut', 'destroy', 'destruct', 'desultori', 'detach', 'detain', 'detect', 'deter', 'deterior', 'determin', 'determinedli', 'detest', 'dethron', 'detour', 'detract', 'detriment', 'deuc', 'deux', 'devast', 'devastatingli', 'develop', 'deviat', 'devic', 'devil', 'devilish', 'deviltri', 'deviou', 'devis', 'devoid', 'devolv', 'devonshir', 'devot', 'devote', 'devotedli', 'devour', 'devout', 'devoutest', 'devoutli', 'dew', 'dewi', 'dexter', 'dextrou', 'dia', 'diabl', 'diabol', 'diadem', 'diagnos', 'diagnosi', 'diagon', 'diagram', 'dial', 'dialect', 'diamet', 'diamond', 'diana', 'diari', 'diavolo', 'dice', 'diceb', 'dick', 'dickey', 'dictat', 'diction', 'dictionari', 'dictum', 'didact', 'diddl', 'diddler', 'didn', 'didst', 'die', 'diemen', 'diepp', 'diet', 'dieu', 'differ', 'differenti', 'difficult', 'difficulti', 'diffid', 'diffus', 'dig', 'digest', 'digitali', 'dign', 'dignifi', 'dignitari', 'digniti', 'digress', 'dilapid', 'dilat', 'dilatori', 'dile', 'dilemma', 'dilig', 'dilut', 'dim', 'dimens', 'dimension', 'diminish', 'diminut', 'dimli', 'dimmer', 'dimpl', 'din', 'dine', 'dingi', 'dingl', 'dinner', 'dint', 'dio', 'diogen', 'diotima', 'dip', 'diplomaci', 'diplomatist', 'dipt', 'dire', 'direct', 'directionless', 'directli', 'director', 'direst', 'dirg', 'dirt', 'dirti', 'dirtiest', 'disadvantag', 'disagre', 'disappear', 'disappoint', 'disappointedli', 'disapprob', 'disapprov', 'disarrang', 'disarray', 'disast', 'disastr', 'disavow', 'disband', 'disbelief', 'disbeliev', 'disburs', 'disburthen', 'disc', 'discard', 'discern', 'discharg', 'discipl', 'disciplin', 'disclaim', 'disclos', 'disclosur', 'discolor', 'discolour', 'discomfit', 'discomfitur', 'discomfort', 'discompos', 'disconcert', 'disconnect', 'disconsol', 'discont', 'discontinu', 'discord', 'discordantli', 'discount', 'discourag', 'discours', 'discov', 'discover', 'discoveri', 'discredit', 'discrep', 'discret', 'discrimin', 'discurs', 'discuss', 'disdain', 'diseas', 'disembodi', 'disenchain', 'disencumb', 'disenfranchis', 'disengag', 'disentangl', 'disfigur', 'disgrac', 'disguis', 'disgust', 'dish', 'dishearten', 'dishevel', 'dishonour', 'disillus', 'disinclin', 'disingenu', 'disint', 'disintegr', 'disinter', 'disinterest', 'disjoin', 'disjoint', 'disjointedli', 'disk', 'dislik', 'dislodg', 'dismal', 'dismantl', 'dismay', 'dismemb', 'dismember', 'dismiss', 'dismount', 'disobedi', 'disobey', 'disord', 'disorderli', 'disorgan', 'disorganis', 'disown', 'disparag', 'dispassion', 'dispatch', 'dispel', 'dispelief', 'dispens', 'dispers', 'dispirit', 'displac', 'display', 'displeas', 'displeasur', 'disport', 'dispos', 'disposit', 'disproport', 'disproportion', 'disprov', 'disput', 'disquiet', 'disquietingli', 'disquietud', 'disquisit', 'disregard', 'disrepair', 'disreput', 'disrupt', 'dissatisfact', 'dissect', 'dissens', 'dissent', 'dissenti', 'disservic', 'dissimilar', 'dissimul', 'dissip', 'dissoci', 'dissolubl', 'dissolut', 'dissolv', 'disson', 'dissuad', 'distanc', 'distant', 'distantli', 'distast', 'distemp', 'distend', 'distens', 'distent', 'distil', 'distinct', 'distinctli', 'distingu', 'distinguish', 'distort', 'distract', 'distractingli', 'distress', 'distribut', 'district', 'distrust', 'disturb', 'disunion', 'disus', 'dithyramb', 'ditti', 'dive', 'diverg', 'divers', 'diversifi', 'divert', 'divest', 'divid', 'divin', 'divinest', 'divis', 'divorc', 'divulg', 'dizzi', 'dizzili', 'dobson', 'docil', 'doco', 'doctair', 'doctor', 'doctrin', 'document', 'dodg', 'dodona', 'doe', 'doesn', 'dof', 'dog', 'doggedli', 'dogless', 'dogma', 'dogmat', 'doin', 'dole', 'doll', 'dollar', 'dolphin', 'dolt', 'domain', 'dombrowski', 'dome', 'domest', 'domicil', 'domin', 'dominantli', 'dominion', 'domino', 'don', 'donat', 'donjon', 'donkey', 'donna', 'donnelli', 'donovan', 'doodl', 'doom', 'doomsday', 'dooo', 'dooooooh', 'door', 'doorstep', 'doorway', 'dori', 'doric', 'dormant', 'dormer', 'dormitori', 'dose', 'dost', 'dot', 'dotag', 'dote', 'doth', 'doubl', 'doubli', 'doubt', 'doubtless', 'doughti', 'dougla', 'doux', 'dover', 'dovetail', 'downcast', 'downfal', 'downi', 'downright', 'downstair', 'downstream', 'downtown', 'downward', 'doyl', 'doze', 'dozen', 'drab', 'draconian', 'draft', 'drag', 'draggl', 'dragon', 'drain', 'drainag', 'dram', 'drama', 'dramat', 'dramati', 'dramatis', 'dranc', 'drank', 'draownd', 'drape', 'draper', 'draperi', 'drastic', 'draught', 'draughtsman', 'drave', 'draw', 'drawback', 'drawer', 'drawl', 'drawlingli', 'drawn', 'dread', 'dream', 'dreamabl', 'dreamer', 'dreami', 'dreamili', 'dreamless', 'dreamt', 'drear', 'dreari', 'drench', 'dresden', 'dress', 'dresser', 'drew', 'dri', 'drift', 'drill', 'drinen', 'drink', 'drip', 'drive', 'driven', 'driver', 'drivest', 'drivin', 'drizzl', 'drole', 'droll', 'drolleri', 'drollest', 'dromedari', 'drone', 'dronk', 'droop', 'droopingli', 'drop', 'droppin', 'dropt', 'dross', 'drought', 'drove', 'drown', 'drows', 'drowsi', 'drowsili', 'drudg', 'drug', 'druggist', 'druidic', 'drum', 'drummummupp', 'drunk', 'drunkard', 'drunken', 'drunkenli', 'druri', 'druv', 'drxwn', 'dryer', 'dryli', 'dryness', 'dubbl', 'dubiou', 'dublin', 'dubourg', 'ducal', 'duchess', 'duck', 'duell', 'duelli', 'duello', 'dugout', 'duke', 'dul', 'duli', 'dull', 'dullard', 'duller', 'dulli', 'duma', 'dumb', 'dumbarton', 'dumbfound', 'dump', 'dunc', 'dunder', 'dunedin', 'dungeon', 'dunkeld', 'dunwich', 'dupe', 'dupin', 'duplic', 'duquel', 'dura', 'durabl', 'durat', 'dure', 'durfe', 'durn', 'durst', 'dusk', 'duski', 'dust', 'dusti', 'dutch', 'dutchman', 'dute', 'duti', 'duval', 'duvillard', 'dvelf', 'dwarf', 'dwell', 'dweller', 'dwelt', 'dwindl', 'dxe', 'dxll', 'dy', 'dyin', 'dynam', 'dynamit', 'dynasti', 'dyspept', 'eager', 'eagerli', 'eagl', 'ear', 'earl', 'earldom', 'earli', 'earlier', 'earliest', 'earn', 'earnest', 'earnestli', 'earth', 'earthen', 'earthern', 'earthi', 'earthli', 'earthquak', 'eas', 'easel', 'easi', 'easier', 'easili', 'east', 'easter', 'eastern', 'eastward', 'eat', 'eaten', 'eater', 'eav', 'eb', 'ebber', 'ebenez', 'eberi', 'eberri', 'ebon', 'eboni', 'ecart', 'eccentr', 'eccentrick', 'ecclesia', 'eccossoi', 'echo', 'eclips', 'eclipt', 'econom', 'economi', 'ecstasi', 'ecstat', 'eddi', 'eder', 'edg', 'edict', 'edific', 'edina', 'edinburgh', 'edit', 'editor', 'editori', 'edmund', 'edouard', 'educ', 'edward', 'edwin', 'eend', 'eeri', 'eerili', 'eeth', 'effac', 'effect', 'effectu', 'effemin', 'efficaci', 'effici', 'effigi', 'effluvia', 'effort', 'effronteri', 'effudit', 'effulg', 'effus', 'egeberg', 'egg', 'egot', 'egre', 'egregi', 'egress', 'egypt', 'egyptian', 'ehy', 'eibon', 'eidolon', 'eighteen', 'eighteenth', 'eighth', 'eighti', 'eikon', 'einstein', 'einsteinian', 'eiro', 'ejacul', 'eject', 'elabor', 'elah', 'elam', 'elaps', 'elast', 'elat', 'elbow', 'elder', 'elderli', 'eldest', 'eldritch', 'eleanor', 'eleat', 'eleazar', 'elect', 'elector', 'electr', 'electro', 'electron', 'eleg', 'element', 'elementari', 'elenchi', 'eleonora', 'eleph', 'eleusi', 'elev', 'eleventh', 'elfin', 'elicit', 'elig', 'elihu', 'elinor', 'eliot', 'elips', 'elixir', 'eliza', 'elizabeth', 'elizabethan', 'elizabethtown', 'elkanah', 'ell', 'ellent', 'elleri', 'elli', 'elliot', 'ellips', 'ellipsoid', 'ellison', 'elm', 'elmer', 'elocut', 'eloi', 'elong', 'elop', 'eloqu', 'els', 'elsewher', 'elton', 'elud', 'elwood', 'elysian', 'elysium', 'emaci', 'eman', 'embalm', 'embank', 'embark', 'embarrass', 'embattl', 'embellish', 'ember', 'embitt', 'emblazon', 'emblem', 'embodi', 'embolden', 'embosom', 'emboss', 'embrac', 'embrasur', 'embroid', 'embroideri', 'embrown', 'embryo', 'emend', 'emerald', 'emerg', 'emeritu', 'emic', 'emigr', 'emin', 'emit', 'emma', 'emmon', 'emolu', 'emot', 'emperor', 'emphas', 'emphasi', 'emphasis', 'emphat', 'empir', 'employ', 'empress', 'empti', 'empyrean', 'emul', 'enabl', 'enact', 'enamel', 'enamor', 'encag', 'encamp', 'encas', 'enchain', 'enchant', 'enchantingli', 'encircl', 'enck', 'enclo', 'enclos', 'enclosur', 'encoffin', 'encomium', 'encompass', 'encor', 'encount', 'encourag', 'encreas', 'encroach', 'encrust', 'encumb', 'encumbr', 'encyclop', 'encyclopaedia', 'end', 'endang', 'endear', 'endeavor', 'endeavour', 'endless', 'endlessli', 'endors', 'endow', 'endu', 'endur', 'endureth', 'enemi', 'energet', 'energi', 'enfeebl', 'enforc', 'enfranchis', 'engag', 'engend', 'engin', 'engirdl', 'england', 'englefield', 'english', 'englishman', 'englishmen', 'engraft', 'engrav', 'engraven', 'engros', 'engross', 'engulf', 'enhanc', 'enigma', 'enigmat', 'enjoin', 'enjoy', 'enkindl', 'enlarg', 'enlighten', 'enlist', 'enliven', 'enmesh', 'enmiti', 'ennobl', 'ennui', 'enoch', 'enorm', 'enquir', 'enquiri', 'enquiringli', 'enrag', 'enraptur', 'enroot', 'ensanguin', 'ensconc', 'ensembl', 'enshadow', 'enshrin', 'enshroud', 'enslav', 'ensnar', 'ensu', 'ensur', 'entablatur', 'entail', 'entangl', 'entendr', 'enter', 'entereth', 'enterpr', 'enterpris', 'entertain', 'enthral', 'enthron', 'enthusiasm', 'enthusiast', 'entic', 'entir', 'entiti', 'entitl', 'entomb', 'entomolog', 'entourag', 'entr', 'entranc', 'entrancingli', 'entrap', 'entreat', 'entreati', 'entri', 'entric', 'entrust', 'entwin', 'enuff', 'enumer', 'enunci', 'envelop', 'envenom', 'envi', 'enviabl', 'environ', 'environment', 'enwoven', 'enwrapt', 'enwritten', 'ephemer', 'ephemera', 'ephesu', 'epictetu', 'epicuru', 'epidaphn', 'epidem', 'epidendrum', 'epigoniad', 'epigram', 'epilepsi', 'epilept', 'epilogu', 'epiman', 'epimenid', 'epiphan', 'episod', 'epistl', 'epithet', 'epoch', 'equal', 'equanim', 'equat', 'equatori', 'equerri', 'equinocti', 'equip', 'equival', 'equivoc', 'er', 'erad', 'eras', 'ere', 'erebu', 'erect', 'erectli', 'erewhil', 'eric', 'erich', 'ermengard', 'ermin', 'ernest', 'ero', 'err', 'errat', 'erringli', 'erron', 'error', 'erudit', 'erupt', 'escap', 'eschew', 'escondida', 'escort', 'escritoir', 'esdra', 'esoter', 'espanay', 'especi', 'espi', 'esprit', 'esquimau', 'esquimaux', 'essay', 'essenc', 'essenti', 'esset', 'essex', 'esta', 'establish', 'estat', 'esteban', 'esteem', 'estim', 'estrang', 'estuari', 'etaient', 'etait', 'etern', 'ethelr', 'ether', 'etheri', 'ethic', 'ethnolog', 'ethnologist', 'etienn', 'etiquett', 'etoil', 'eton', 'etonian', 'etruria', 'etruscan', 'ettrick', 'etudi', 'euclidean', 'eugeni', 'eulog', 'eumenid', 'euphoni', 'euphorbium', 'europ', 'european', 'eusebiu', 'eustach', 'evad', 'evadn', 'evanesc', 'evapor', 'evas', 'eve', 'evelyn', 'evenli', 'event', 'eventu', 'everard', 'everbodi', 'evergreen', 'everi', 'everlast', 'evermor', 'everteem', 'everybodi', 'everyday', 'everyon', 'everyth', 'everywher', 'evict', 'evid', 'evil', 'evilli', 'evinc', 'eviv', 'evok', 'evolut', 'evolutionari', 'exact', 'exactitud', 'exactli', 'exager', 'exagger', 'exalt', 'examin', 'exampl', 'exasper', 'excav', 'exce', 'exceed', 'exceedingli', 'excel', 'excep', 'excess', 'exchang', 'excit', 'excitedli', 'exclaim', 'exclam', 'exclud', 'exclus', 'excommun', 'excori', 'exculp', 'excurs', 'excus', 'execr', 'execut', 'executor', 'exemplif', 'exemplifi', 'exempt', 'exercis', 'exergu', 'exert', 'exet', 'exhal', 'exhaust', 'exhaustless', 'exhibit', 'exhilar', 'exhilir', 'exhort', 'exhum', 'exig', 'exil', 'exist', 'exit', 'exot', 'expand', 'expans', 'expati', 'expeck', 'expect', 'expedi', 'expedit', 'expediti', 'expel', 'expenditur', 'expens', 'experi', 'experienc', 'experiment', 'experimentalist', 'expert', 'expiat', 'expir', 'explain', 'explan', 'explanatori', 'explic', 'explicit', 'expliqu', 'explod', 'exploit', 'explor', 'exploraturi', 'explos', 'export', 'expos', 'expostul', 'exposur', 'express', 'expressionless', 'exquisit', 'extact', 'extant', 'extasi', 'extend', 'extens', 'extent', 'exterior', 'extermin', 'extern', 'extinct', 'extinguish', 'extirp', 'extol', 'extort', 'extra', 'extract', 'extran', 'extraordinari', 'extravag', 'extrem', 'extremest', 'extric', 'extrins', 'exuber', 'exult', 'exultantli', 'exultingli', 'eye', 'eyebrow', 'eyeglass', 'eyelash', 'eyelid', 'eyri', 'ezekiel', 'fabl', 'fabric', 'fabul', 'facad', 'face', 'facial', 'facil', 'facilit', 'fact', 'faction', 'factiti', 'factor', 'factori', 'faculti', 'fade', 'faecunditati', 'faeri', 'fail', 'failur', 'fain', 'faint', 'fainter', 'faintest', 'faintli', 'fair', 'fairer', 'fairest', 'fairi', 'fairli', 'fait', 'faith', 'faithless', 'falkland', 'fall', 'fallaci', 'fallen', 'falona', 'fals', 'falsehood', 'falsetto', 'falsifi', 'falsiti', 'falter', 'falteringli', 'fama', 'fame', 'famili', 'familiar', 'famin', 'famou', 'fan', 'fanat', 'fanatic', 'fanatico', 'fanci', 'fane', 'fanfaronad', 'fang', 'fanlight', 'fantaisist', 'fantasi', 'fantasia', 'fantast', 'faound', 'farc', 'fare', 'farewel', 'farm', 'farmer', 'farmhous', 'farmstead', 'farmyard', 'farr', 'farrago', 'farther', 'farthermost', 'farthest', 'farthingal', 'fascin', 'fascinatedli', 'fascinatingli', 'fashion', 'fast', 'fasten', 'faster', 'fastidi', 'fatal', 'fatalist', 'fate', 'fathair', 'father', 'fatherland', 'fatherli', 'fathom', 'fathomless', 'fatigu', 'fatquack', 'fatten', 'fatti', 'fatui', 'faubourg', 'faucal', 'fault', 'faulti', 'faultless', 'faun', 'faut', 'favor', 'favorit', 'favour', 'favourit', 'fawn', 'fay', 'fear', 'fearless', 'fearlessli', 'fearsom', 'feasibl', 'feast', 'feat', 'feather', 'featheri', 'featur', 'febril', 'februari', 'feder', 'feebl', 'feeblest', 'feebli', 'feed', 'feel', 'feeler', 'feer', 'feerd', 'feet', 'feex', 'feign', 'feint', 'felic', 'felin', 'felix', 'fell', 'feller', 'fellow', 'fellowmen', 'fellowship', 'felon', 'felt', 'feltspar', 'femal', 'feminin', 'femori', 'fenc', 'fender', 'fenner', 'fenton', 'ferdinand', 'ferment', 'fern', 'ferni', 'fero', 'feroc', 'feroci', 'ferrad', 'ferri', 'fertil', 'ferul', 'fervent', 'fervid', 'fervor', 'fervour', 'fester', 'festiv', 'festoon', 'fetch', 'fete', 'fether', 'fetid', 'fetish', 'fetter', 'fetterless', 'feudal', 'fever', 'feverish', 'feverishli', 'fewer', 'fhtagn', 'fianc', 'fibe', 'fibr', 'fibrou', 'fibula', 'fickl', 'fiction', 'fictiti', 'fiddlestick', 'fide', 'fidel', 'fidget', 'field', 'fiend', 'fiendish', 'fiendishli', 'fierc', 'fiercest', 'fieri', 'fife', 'fifteenth', 'fifth', 'fifti', 'fiftieth', 'figgur', 'fight', 'figment', 'figur', 'fil', 'filch', 'file', 'filial', 'filigre', 'filiu', 'fillet', 'film', 'filter', 'filth', 'filthi', 'fin', 'final', 'financi', 'finder', 'fine', 'finer', 'finess', 'finest', 'finger', 'fingernail', 'finicki', 'finish', 'fiorituri', 'fir', 'firearm', 'firebal', 'firefli', 'firemen', 'fireplac', 'firesid', 'firm', 'firma', 'firmament', 'firman', 'firmer', 'firmest', 'firmli', 'fish', 'fisher', 'fisherfolk', 'fisheri', 'fishermen', 'fishi', 'fishili', 'fishin', 'fissur', 'fist', 'fit', 'fitten', 'fitz', 'fix', 'fixedli', 'fixt', 'fixtur', 'fizz', 'flabbi', 'flaccid', 'flaccu', 'flag', 'flagon', 'flagrant', 'flagrantli', 'flagston', 'flail', 'flambeaux', 'flamboy', 'flame', 'flander', 'flank', 'flannel', 'flap', 'flare', 'flash', 'flashlight', 'flask', 'flat', 'flatten', 'flatter', 'flatteri', 'flatteringli', 'flatu', 'flatzplatz', 'flaunt', 'flaviu', 'flaw', 'flay', 'fled', 'fledg', 'flee', 'fleec', 'fleet', 'fleetli', 'flesh', 'fleshi', 'fleshless', 'fleshli', 'fletcher', 'fleur', 'flew', 'flexibl', 'fli', 'flicker', 'flight', 'flighti', 'flimen', 'flimsi', 'fling', 'flirt', 'flirtat', 'flit', 'flo', 'float', 'flock', 'flog', 'flood', 'floor', 'flop', 'florenc', 'florentin', 'florid', 'florin', 'flounc', 'flounder', 'flour', 'flourish', 'flout', 'flow', 'flower', 'floweret', 'floweri', 'flown', 'fluctuat', 'flud', 'flue', 'fluent', 'fluentli', 'fluid', 'flummeri', 'flung', 'flush', 'fluster', 'flute', 'flutter', 'flux', 'flyleav', 'flyspeck', 'foam', 'foamless', 'focal', 'focu', 'focuss', 'foe', 'foetid', 'foetor', 'foi', 'foibl', 'foie', 'foil', 'fold', 'folder', 'foliag', 'folk', 'folklor', 'foller', 'folli', 'follow', 'fomalhaut', 'fond', 'fondest', 'fondli', 'font', 'food', 'fool', 'foolish', 'foolishli', 'foolscap', 'foot', 'footfal', 'foothil', 'foothold', 'footman', 'footmen', 'footnot', 'footpad', 'footstep', 'footstool', 'fopperi', 'forag', 'forbad', 'forbear', 'forbid', 'forbidden', 'forbor', 'forc', 'forcibl', 'fore', 'forebod', 'forebor', 'foredoom', 'forefath', 'forefing', 'forego', 'foreground', 'forehead', 'foreign', 'foreman', 'foremost', 'forenoon', 'forensica', 'forerun', 'foresaw', 'forese', 'foreseen', 'foreshadow', 'foresight', 'forest', 'forethought', 'foretold', 'foretopsail', 'forev', 'forewarn', 'forfeit', 'forg', 'forget', 'forgiv', 'forgot', 'forgotten', 'fork', 'forlorn', 'form', 'formal', 'format', 'formerli', 'formid', 'formless', 'formul', 'formula', 'forrad', 'forsak', 'forsaken', 'forsook', 'forsooth', 'forsyth', 'fort', 'forth', 'forthcom', 'forthwith', 'forti', 'fortif', 'fortifi', 'fortitud', 'fortnight', 'fortress', 'fortuit', 'fortun', 'fortunato', 'forum', 'forward', 'fossillu', 'foster', 'fought', 'foul', 'foulest', 'foundat', 'founder', 'fountain', 'fourpenc', 'fourteen', 'fourteenth', 'fourth', 'fourthli', 'fowl', 'fraction', 'fractur', 'fragil', 'fragment', 'fragmentari', 'fragranc', 'fragrant', 'frail', 'frame', 'framework', 'franc', 'franci', 'frank', 'frankenstein', 'frankish', 'frankli', 'frantic', 'franticli', 'fratern', 'fratricid', 'fraud', 'fraught', 'fray', 'frayl', 'frazer', 'freak', 'freakish', 'fred', 'frederick', 'fredericksburg', 'free', 'freed', 'freedom', 'freeli', 'freemasonri', 'freemen', 'freez', 'freight', 'freighter', 'french', 'frenchman', 'frenchwoman', 'frenzi', 'frenziedli', 'frequenc', 'frequent', 'fresco', 'fresh', 'freshen', 'freshest', 'freshet', 'freshli', 'fret', 'freud', 'freyher', 'fricass', 'friday', 'friend', 'friendless', 'friendli', 'friendship', 'friez', 'frigat', 'fright', 'frighten', 'frigid', 'fring', 'fripperi', 'frisk', 'frivol', 'frock', 'frog', 'frogpondium', 'froissart', 'frolicsom', 'frondi', 'frontag', 'frost', 'frosti', 'frostili', 'froth', 'frow', 'frown', 'froze', 'frozen', 'frugal', 'fruit', 'fruiter', 'fruition', 'fruitless', 'frustrat', 'frxg', 'frxwn', 'frye', 'fudg', 'fuel', 'fugit', 'ful', 'fulfil', 'fulgur', 'fulgurit', 'fuller', 'fullest', 'fulli', 'fullin', 'fulsom', 'fumbl', 'fume', 'fumig', 'function', 'functionari', 'fund', 'funer', 'funest', 'fungi', 'fungou', 'fungu', 'funnel', 'funni', 'funniest', 'funnin', 'fur', 'furi', 'furiou', 'furious', 'furiu', 'furl', 'furlong', 'furnac', 'furnish', 'furnitur', 'furren', 'furri', 'furrier', 'furrow', 'furthermor', 'furthest', 'furtiv', 'furz', 'fuse', 'fusion', 'fuss', 'fussi', 'fust', 'futil', 'futur', 'fuzzi', 'fxwl', 'fxxl', 'gabalah', 'gabiniu', 'gabl', 'gag', 'gagn', 'gaieti', 'gaili', 'gain', 'gainesvil', 'gainsay', 'gait', 'gala', 'galact', 'galaxi', 'gale', 'galen', 'gall', 'gallant', 'gallantli', 'galleon', 'galleri', 'galley', 'gallon', 'gallop', 'gallopin', 'gallow', 'galop', 'galpin', 'galvan', 'galvanis', 'galvez', 'gambl', 'gambler', 'gambol', 'gambrel', 'game', 'gamekeep', 'gamesom', 'gammel', 'gammon', 'gang', 'gangway', 'gaol', 'gaoler', 'gap', 'gape', 'garag', 'garb', 'garcio', 'garden', 'gargantua', 'gargoyl', 'garish', 'garland', 'garment', 'garner', 'garret', 'garrett', 'garrick', 'garrison', 'garrul', 'garter', 'gase', 'gaseou', 'gash', 'gasless', 'gasolin', 'gasp', 'gaspingli', 'gate', 'gateway', 'gather', 'gaudi', 'gaul', 'gaunt', 'gauntlet', 'gauz', 'gave', 'gawd', 'gaze', 'gazel', 'gazett', 'gelatin', 'gem', 'gendarm', 'genealog', 'gener', 'genera', 'generos', 'geneva', 'geneves', 'genial', 'genii', 'geniu', 'genius', 'genoa', 'gentilhomm', 'gentl', 'gentleman', 'gentlemanli', 'gentlemen', 'gentler', 'gentlest', 'gentlewoman', 'gentli', 'gentri', 'genu', 'genuin', 'geoffrey', 'geograph', 'geographi', 'geolog', 'geometr', 'geometri', 'georg', 'georgian', 'geranium', 'germ', 'germain', 'german', 'germani', 'gerrit', 'gesticul', 'gestur', 'gewgaw', 'ghast', 'ghastli', 'ghazi', 'ghost', 'ghostli', 'ghoul', 'ghoulish', 'giant', 'gibber', 'gibberish', 'gibbon', 'gibbou', 'gibraltar', 'giddi', 'gifford', 'gift', 'gigant', 'gild', 'gilman', 'gilt', 'gimlet', 'ginger', 'gingerli', 'gingko', 'giovanni', 'gipsey', 'girdl', 'girl', 'girlish', 'girt', 'girth', 'git', 'gittin', 'given', 'giver', 'glacier', 'glad', 'gladden', 'glade', 'gladiatori', 'gladli', 'glamour', 'glanc', 'gland', 'glanvil', 'glare', 'glaringli', 'glass', 'glasshous', 'glassi', 'glassili', 'glaze', 'gleam', 'glean', 'glee', 'glen', 'glendin', 'glide', 'glimmer', 'glimps', 'glisten', 'glitter', 'gloam', 'gloat', 'globe', 'gloom', 'gloomi', 'gloomili', 'glori', 'glorifi', 'gloriou', 'glorious', 'gloss', 'glossi', 'glove', 'glover', 'glow', 'glue', 'glut', 'glutin', 'gnai', 'gnarl', 'gnash', 'gnaw', 'gnome', 'gnophkeh', 'goad', 'goal', 'goat', 'goatish', 'gobbl', 'goblet', 'god', 'goddess', 'godfrey', 'godless', 'godlik', 'godwin', 'goe', 'goest', 'goggl', 'goignard', 'goin', 'golconda', 'gold', 'golden', 'goldsmith', 'golf', 'golli', 'gondola', 'gondoli', 'gone', 'gong', 'good', 'goodli', 'goodman', 'gool', 'goos', 'gooseflesh', 'goosetherumfoodl', 'gore', 'gorg', 'gorgeou', 'gorgeous', 'gorgia', 'gori', 'gorilla', 'gospel', 'gossam', 'gossip', 'gothic', 'gott', 'gotten', 'goug', 'gout', 'gouti', 'govern', 'governor', 'gown', 'goya', 'gra', 'grab', 'grace', 'graciou', 'gradat', 'grade', 'gradual', 'graduat', 'grammat', 'gran', 'granari', 'grand', 'grandchildren', 'grandeur', 'grandfath', 'grandios', 'grandjean', 'grandmoth', 'grandsir', 'grandson', 'granit', 'grano', 'grant', 'graoun', 'graound', 'grape', 'grapnel', 'grappl', 'grasp', 'grass', 'grasshopp', 'grassi', 'grate', 'gratif', 'gratifi', 'gratitud', 'gratul', 'grave', 'gravel', 'graven', 'graver', 'gravest', 'graveston', 'graveyard', 'gravit', 'graviti', 'gray', 'grayish', 'graze', 'greas', 'greaser', 'greasi', 'greasili', 'great', 'greater', 'greatest', 'greatli', 'grecian', 'greec', 'greed', 'greedi', 'greedili', 'greek', 'green', 'greeneri', 'greenest', 'greenish', 'greenland', 'greenough', 'greenwich', 'greet', 'gregori', 'gregorian', 'grenouil', 'gresset', 'grew', 'grey', 'greyish', 'grief', 'griev', 'grim', 'grimac', 'grin', 'grind', 'grinder', 'grip', 'grisett', 'grisli', 'griswold', 'grkdl', 'groan', 'groceri', 'groom', 'grope', 'gropingli', 'gross', 'grotesqu', 'grotesqueri', 'grotto', 'ground', 'groundwork', 'group', 'grove', 'grovel', 'grow', 'growl', 'grown', 'growth', 'grub', 'grudg', 'grudgingli', 'gruesom', 'gruff', 'grumbl', 'grunt', 'grxwl', 'gualtier', 'guarante', 'guard', 'guarda', 'guardedli', 'guardian', 'guardianship', 'guerr', 'guess', 'guesser', 'guest', 'guffaw', 'guid', 'guidanc', 'guido', 'guil', 'guilder', 'guileless', 'guilt', 'guilti', 'guiltless', 'guiltlessli', 'guinea', 'guing', 'guis', 'guitar', 'gulf', 'gullibl', 'gulliv', 'gulp', 'gulph', 'gun', 'gunpowd', 'gurgl', 'gush', 'gust', 'gustaf', 'gusti', 'gut', 'gutta', 'gutter', 'guttur', 'guyon', 'gxxd', 'gxxse', 'gypsi', 'gyptu', 'gyrat', 'gyratori', 'habet', 'habili', 'habit', 'habitat', 'habitu', 'habitud', 'hack', 'hackney', 'hade', 'hadn', 'hadoth', 'hadst', 'haemu', 'haff', 'haggard', 'haide', 'hail', 'hain', 'hair', 'hairi', 'halcyon', 'hale', 'half', 'halfway', 'hall', 'hallmark', 'halloo', 'hallow', 'hallowmass', 'hallucin', 'hallway', 'halo', 'halsey', 'halt', 'hamburgh', 'hamlet', 'hammer', 'hammond', 'hampden', 'hamper', 'hampshir', 'han', 'hand', 'handbil', 'handi', 'handili', 'handiwork', 'handkerchief', 'handl', 'handsom', 'handsomest', 'handwrit', 'hang', 'hanger', 'hangman', 'hannah', 'haous', 'haousekeep', 'haow', 'hapless', 'happen', 'happi', 'happier', 'happiest', 'happili', 'har', 'harangu', 'harass', 'harbour', 'harbourag', 'hard', 'harden', 'harder', 'hardhearted', 'hardi', 'hardli', 'hardship', 'hardwar', 'hare', 'harem', 'harken', 'harley', 'harm', 'harmless', 'harmlessli', 'harmon', 'harmoni', 'harold', 'harp', 'harpi', 'harri', 'harrison', 'harrow', 'harsh', 'harshest', 'hartley', 'hartwel', 'harvest', 'hasheesh', 'hasn', 'hast', 'hasten', 'hasti', 'hastili', 'hat', 'hatch', 'hatchet', 'hatchway', 'hate', 'hath', 'hatheg', 'hatless', 'hatr', 'hattera', 'haughti', 'haughtiest', 'haul', 'haunt', 'hauntingli', 'hauteur', 'haveliu', 'haven', 'havin', 'havoc', 'havr', 'hawk', 'hawkin', 'haymak', 'hayti', 'hazard', 'haze', 'hazel', 'hazi', 'hazl', 'head', 'headach', 'headboard', 'headi', 'headin', 'headland', 'headless', 'headlight', 'headlong', 'headquart', 'headston', 'headway', 'heal', 'health', 'healthi', 'heap', 'hear', 'heard', 'hearer', 'hearken', 'hears', 'heart', 'hearted', 'heartedli', 'hearten', 'heartfelt', 'hearth', 'hearthsid', 'hearti', 'heartili', 'heartless', 'heat', 'heath', 'heathen', 'heather', 'heatless', 'heav', 'heaven', 'heavenli', 'heavi', 'heavier', 'heaviest', 'heavili', 'hebbi', 'hebrew', 'hebru', 'hectic', 'hedelin', 'hedg', 'hee', 'heed', 'heedless', 'heedlessli', 'heel', 'heem', 'heemself', 'heerd', 'heigho', 'height', 'heighten', 'heir', 'heirloom', 'heirship', 'heisenberg', 'hela', 'held', 'heliogabalu', 'hell', 'hellespont', 'hellish', 'hellishli', 'helm', 'helmet', 'helmsman', 'helois', 'help', 'helpless', 'helplessli', 'helpmat', 'helseggen', 'helvia', 'helviu', 'hem', 'hemispher', 'hemlock', 'hen', 'henc', 'henceforward', 'henri', 'henson', 'heraclid', 'heraclitu', 'herb', 'herbert', 'herbless', 'herculean', 'herd', 'hereabaout', 'hereabout', 'hereaft', 'hered', 'hereditari', 'hereditarili', 'heresi', 'heret', 'heretofor', 'heritag', 'herm', 'hermann', 'hermit', 'hermitess', 'hernani', 'hero', 'herod', 'heroic', 'heroin', 'heroism', 'herr', 'herrero', 'herschel', 'hesit', 'hessian', 'heterodox', 'heterogen', 'hetfield', 'hevin', 'hewn', 'hibern', 'hickori', 'hidden', 'hide', 'hideou', 'hideous', 'hieroglyph', 'hieronymu', 'high', 'higher', 'highest', 'highland', 'highli', 'highway', 'hilar', 'hilari', 'hill', 'hilli', 'hillock', 'hillsid', 'hind', 'hinder', 'hindoo', 'hindostan', 'hindranc', 'hing', 'hint', 'hip', 'hippocratian', 'hippodrom', 'hippopotami', 'hiram', 'hire', 'hispanicis', 'hiss', 'histoir', 'histor', 'histori', 'historian', 'hit', 'hitch', 'hither', 'hitherto', 'hittin', 'hive', 'hoadley', 'hoard', 'hoari', 'hoars', 'hoarser', 'hoax', 'hoaxi', 'hobbi', 'hobbl', 'hock', 'hog', 'hogarth', 'hoggishli', 'hogshead', 'hoist', 'holberg', 'holborn', 'hold', 'holder', 'holdest', 'hole', 'holi', 'holiday', 'holland', 'hollow', 'hollowli', 'holm', 'holt', 'homag', 'hombr', 'home', 'homeless', 'homer', 'homesick', 'homestead', 'homeward', 'homicid', 'homili', 'homini', 'homo', 'homogen', 'homolog', 'homouioisio', 'homousio', 'honest', 'honesti', 'honey', 'honeycomb', 'honor', 'honour', 'hood', 'hoof', 'hook', 'hoop', 'hoov', 'hop', 'hope', 'hopeless', 'hopelessli', 'hopkin', 'hopless', 'hoppin', 'hord', 'horizon', 'horizont', 'horn', 'horrendum', 'horreur', 'horribl', 'horrid', 'horridli', 'horrif', 'horrifi', 'horrizon', 'horror', 'horrorless', 'hors', 'horseback', 'horseman', 'horsemen', 'horthath', 'hose', 'hospit', 'hoss', 'host', 'hostag', 'hostel', 'hostess', 'hostil', 'hotel', 'hotholm', 'hottentot', 'hottest', 'houghton', 'hound', 'hour', 'houri', 'hourli', 'hous', 'household', 'housekeep', 'hove', 'hovel', 'hover', 'howev', 'howl', 'hsan', 'hu', 'hubbub', 'huddl', 'hudibra', 'hue', 'huge', 'hugh', 'huguenot', 'huitzilopotchli', 'hulk', 'hull', 'hum', 'human', 'humankind', 'humanli', 'humbl', 'humboldt', 'humdrum', 'humid', 'humil', 'humili', 'hummock', 'humor', 'humoredli', 'humour', 'hump', 'humph', 'humphrey', 'hundr', 'hundredth', 'hung', 'hungari', 'hungarian', 'hunger', 'hungri', 'hunk', 'hunt', 'hunter', 'huntingdon', 'huntress', 'hurl', 'hurlygurli', 'hurrah', 'hurri', 'hurrican', 'hurriedli', 'hurt', 'husban', 'husband', 'husbandman', 'hush', 'huski', 'hutchin', 'huzzi', 'hxllx', 'hxme', 'hxmx', 'hxwl', 'hyacinth', 'hyalin', 'hybrid', 'hyde', 'hydra', 'hydrangea', 'hydrogen', 'hyena', 'hygien', 'hymettu', 'hymn', 'hyper', 'hypno', 'hypnot', 'hypnotis', 'hypochondriac', 'hypocrisi', 'hypocrit', 'hypothenus', 'hypothes', 'hypothesi', 'hypothet', 'hyster', 'hysteria', 'iberu', 'ibervil', 'ibid', 'ibidu', 'icaru', 'ice', 'ichor', 'ichthyic', 'ici', 'ide', 'idea', 'ideal', 'idealis', 'ident', 'identif', 'identifi', 'idioci', 'idiom', 'idiomat', 'idiosyncrasi', 'idiot', 'idl', 'idler', 'idli', 'idol', 'idolatr', 'idolatri', 'idri', 'ifer', 'ign', 'ignatiu', 'ignit', 'ignobl', 'ignomini', 'ignor', 'ignoramu', 'ignorantli', 'ignoratio', 'ignotum', 'ilarnek', 'ilenti', 'ill', 'illeg', 'illimit', 'illinoi', 'illiter', 'illiteraci', 'illog', 'illum', 'illumin', 'illus', 'illustr', 'illustri', 'illyrian', 'imag', 'imageri', 'imagin', 'imaginari', 'imbed', 'imbib', 'imbu', 'imit', 'immacul', 'immateri', 'immatur', 'immeasur', 'immedi', 'immedic', 'immedicin', 'immemori', 'immens', 'immers', 'immethod', 'immin', 'immort', 'immortalis', 'immov', 'immun', 'immundan', 'immur', 'immut', 'imp', 'impact', 'impair', 'impalp', 'imparad', 'impart', 'imparti', 'impass', 'impati', 'imped', 'impedi', 'impel', 'impend', 'impenetr', 'imper', 'impercept', 'imperfect', 'imperfectli', 'imperi', 'imperil', 'imperish', 'imperium', 'imperson', 'impertin', 'impervi', 'impetu', 'impetuos', 'imping', 'impiou', 'impious', 'implac', 'implant', 'implement', 'impli', 'implic', 'implicit', 'implicitli', 'implor', 'import', 'importun', 'impos', 'imposit', 'imposs', 'impossibil', 'impost', 'impostor', 'impostur', 'impot', 'impractic', 'imprec', 'impregn', 'impress', 'impressionist', 'imprimu', 'imprint', 'imprison', 'improb', 'impromptu', 'improprieti', 'improv', 'improvid', 'improvis', 'imprud', 'impuls', 'impun', 'inabl', 'inaccess', 'inaccur', 'inaccuraci', 'inact', 'inadequ', 'inadequaci', 'inadmiss', 'inadvert', 'inan', 'inanim', 'inanit', 'inapplic', 'inappreci', 'inapprehens', 'inappropri', 'inaptitud', 'inarticul', 'inasmuch', 'inattent', 'inaud', 'inbreed', 'incalcul', 'incandesc', 'incant', 'incap', 'incapac', 'incarn', 'incens', 'incent', 'incess', 'incessantli', 'inch', 'inchoat', 'incid', 'inciner', 'incipi', 'incis', 'incit', 'incitamentum', 'incivil', 'inclem', 'inclement', 'inclin', 'includ', 'inclus', 'incognita', 'incoher', 'incom', 'incommod', 'incommodi', 'incommunic', 'incompar', 'incompat', 'incomplet', 'incomprehens', 'inconceiv', 'inconclus', 'incongru', 'inconsequ', 'inconsequenti', 'inconsider', 'inconsist', 'inconsol', 'inconspicu', 'inconst', 'incontest', 'incontrovert', 'inconveni', 'incorpor', 'increas', 'increasingli', 'incred', 'incredul', 'incubu', 'inculp', 'incumb', 'incur', 'incurr', 'incurs', 'indagin', 'inde', 'indebt', 'indec', 'indecis', 'indefin', 'indefinit', 'indel', 'indentur', 'independ', 'indescrib', 'indetermin', 'index', 'india', 'indiaman', 'indian', 'indic', 'indiffer', 'indig', 'indigest', 'indign', 'indignantli', 'indigo', 'indirect', 'indiscern', 'indiscret', 'indiscrimin', 'indispens', 'indispos', 'indisposit', 'indisput', 'indissolubl', 'indistinct', 'indistinctli', 'indistinguish', 'indit', 'indivduationi', 'individu', 'individual', 'indivis', 'indol', 'indoor', 'indu', 'indubit', 'induc', 'induct', 'indulg', 'industri', 'indwel', 'ineff', 'ineffect', 'ineffectu', 'ineffici', 'ineptum', 'ineradic', 'inert', 'inerti', 'inertia', 'inessenti', 'inestim', 'inevit', 'inexcus', 'inexhaust', 'inexor', 'inexpens', 'inexperi', 'inexperienc', 'inexplic', 'inexpress', 'inextric', 'infal', 'infam', 'infami', 'infanc', 'infand', 'infant', 'infantil', 'infantin', 'infatu', 'infect', 'infecti', 'infer', 'inferior', 'infern', 'infernal', 'inferno', 'infest', 'infidel', 'infin', 'infinit', 'infinitud', 'infirm', 'infix', 'inflam', 'inflammatori', 'inflat', 'inflex', 'inflict', 'influenc', 'influenti', 'influx', 'info', 'inform', 'infrequ', 'infus', 'ingen', 'ingeni', 'ingenu', 'ingiusto', 'inglitch', 'inglori', 'ingolstadt', 'ingot', 'ingrain', 'ingratitud', 'ingredi', 'ingress', 'inhabit', 'inhal', 'inharmoni', 'inher', 'inherit', 'inhospit', 'inhum', 'inhuman', 'inhumanli', 'inimit', 'initi', 'inject', 'inji', 'injudici', 'injunct', 'injur', 'injuri', 'injuria', 'injustic', 'inki', 'inkl', 'inlaid', 'inland', 'inlet', 'inmat', 'inmost', 'innat', 'inner', 'innermost', 'innkeep', 'innoc', 'innsmouth', 'innumer', 'inoccup', 'inopportun', 'inordin', 'inorgan', 'inquietud', 'inquir', 'inquirendo', 'inquiri', 'inquisit', 'inquisitori', 'inroad', 'insan', 'insati', 'inscrib', 'inscript', 'inscrut', 'insect', 'insecur', 'insens', 'insensit', 'insepar', 'insert', 'insid', 'insidi', 'insiem', 'insight', 'insignia', 'insignific', 'insinu', 'insipid', 'insist', 'insol', 'insolubl', 'insomnia', 'inspect', 'inspector', 'inspir', 'inspirit', 'inst', 'instabl', 'instal', 'instanc', 'instant', 'instantan', 'instantia', 'instantli', 'instead', 'instig', 'instil', 'instinct', 'institut', 'instruct', 'instructor', 'instructorship', 'instructress', 'instrument', 'insuffer', 'insuffici', 'insul', 'insult', 'insultingli', 'insuper', 'insupport', 'insur', 'insurmount', 'int', 'intact', 'intang', 'integr', 'intellect', 'intellectu', 'intellig', 'intemper', 'intend', 'intens', 'intensest', 'intensifi', 'intent', 'inter', 'intercept', 'interchang', 'intercours', 'interf', 'interfer', 'interim', 'interior', 'interiorli', 'interject', 'interleaf', 'interlop', 'intermarri', 'intermedi', 'intermediari', 'intermin', 'intermingl', 'intermitt', 'intermix', 'intern', 'interpos', 'interpret', 'interrog', 'interrupt', 'intersect', 'interspac', 'interspers', 'interstic', 'intertangl', 'intertwin', 'interupt', 'interv', 'interven', 'intervent', 'interview', 'interweav', 'interwoven', 'intim', 'intimaci', 'intimid', 'intoler', 'inton', 'intox', 'intra', 'intracaci', 'intract', 'intrench', 'intric', 'intricaci', 'intrigu', 'intrins', 'introduc', 'introduct', 'intrud', 'intrus', 'intuit', 'inund', 'inur', 'inurn', 'inutil', 'inuto', 'invad', 'invalid', 'invalu', 'invari', 'invas', 'invent', 'inventor', 'inventu', 'invers', 'invest', 'investig', 'inveter', 'invidi', 'invigor', 'invinc', 'inviol', 'invis', 'invit', 'invitingli', 'invok', 'involuntari', 'involuntarili', 'involut', 'involv', 'inward', 'inwardli', 'ionia', 'ionian', 'ionic', 'ipswich', 'iqu', 'iranon', 'irasc', 'irdonozur', 'ireland', 'irem', 'iridesc', 'irish', 'irksom', 'iron', 'ironclad', 'ironi', 'irradi', 'irrat', 'irration', 'irreclaim', 'irreduc', 'irregular', 'irregularli', 'irrelev', 'irrelevantli', 'irremedi', 'irrepar', 'irrepress', 'irreproach', 'irresist', 'irresolut', 'irrespons', 'irretriev', 'irrever', 'irrevoc', 'irrisisb', 'irrit', 'isaac', 'isi', 'isidor', 'isl', 'islam', 'island', 'islesen', 'islet', 'isol', 'israelitish', 'issachar', 'issu', 'issuanc', 'itali', 'italian', 'italicu', 'itchiatuckane', 'item', 'itiner', 'ive', 'ivi', 'ivori', 'iwanicki', 'izzard', 'jabber', 'jack', 'jacket', 'jaconet', 'jacqu', 'jade', 'jag', 'jail', 'jailor', 'jam', 'jamb', 'jame', 'janu', 'januari', 'jar', 'jaren', 'jargon', 'jaunti', 'java', 'javelin', 'jaw', 'jealou', 'jealous', 'jealousi', 'jean', 'jeer', 'jefferson', 'jehovah', 'jelli', 'jenkin', 'jeopard', 'jeremi', 'jeremiad', 'jerk', 'jerki', 'jermyn', 'jersey', 'jest', 'jestingli', 'jetti', 'jew', 'jewel', 'jewelleri', 'jewelri', 'jewish', 'jingl', 'job', 'jocos', 'joel', 'johann', 'johannisberg', 'johansen', 'john', 'johnson', 'join', 'joint', 'jointli', 'joke', 'jolli', 'jolt', 'jona', 'jonathan', 'jone', 'jool', 'joolri', 'joost', 'joseph', 'jostl', 'jot', 'jouissent', 'jourdain', 'journal', 'journalist', 'journey', 'journi', 'jovi', 'jovial', 'joy', 'joyeus', 'joyless', 'joyou', 'juan', 'judg', 'judgement', 'judgment', 'judici', 'juic', 'jule', 'juli', 'julien', 'juliet', 'juliu', 'jumbl', 'jump', 'junction', 'junctur', 'june', 'juneau', 'jung', 'jungl', 'junianu', 'junior', 'junip', 'juniu', 'junzt', 'jupit', 'jura', 'juri', 'just', 'juster', 'justic', 'justif', 'justifi', 'justin', 'justinianu', 'justinu', 'justli', 'jut', 'juxta', 'juxtaposit', 'jxhn', 'kadath', 'kadatheron', 'kadiphonek', 'kaleidoscop', 'kalend', 'kaliri', 'kalo', 'kanadaw', 'kanaki', 'kapou', 'karazza', 'karl', 'karthian', 'kate', 'kathleen', 'keat', 'keel', 'keen', 'keener', 'keenest', 'keenli', 'keeper', 'keepsak', 'keer', 'keg', 'keildhelm', 'kempelen', 'kennel', 'kent', 'kepler', 'kept', 'kerseymer', 'ketch', 'kettl', 'key', 'keyhol', 'keziah', 'kiao', 'kick', 'kickapo', 'kickapoo', 'kidd', 'kidnap', 'kiel', 'kilderri', 'kill', 'killer', 'killin', 'kilt', 'kimbo', 'kind', 'kinder', 'kindest', 'kindl', 'kindli', 'kindr', 'kinet', 'king', 'kingdom', 'kingli', 'kingsport', 'kinsfolk', 'kinship', 'kinsman', 'kinsmen', 'kiosk', 'kirschenwass', 'kirwin', 'kishan', 'kiss', 'kissam', 'kitchen', 'kitten', 'kled', 'klenz', 'klimm', 'knack', 'knapsack', 'knee', 'knelt', 'knew', 'knick', 'knickerbock', 'knife', 'knight', 'knightli', 'knit', 'knob', 'knock', 'knocker', 'knoll', 'knot', 'knothol', 'knotti', 'know', 'knowest', 'knoweth', 'knowingli', 'knowledg', 'known', 'knxw', 'kock', 'kranon', 'kraut', 'kremp', 'kritik', 'kulten', 'kupri', 'kuran', 'kynaratholi', 'labor', 'laboratori', 'labori', 'labour', 'labyrinth', 'labyrinthin', 'lace', 'lacessit', 'lacey', 'lachad', 'lachrymatori', 'lack', 'lackobreath', 'lacon', 'lactea', 'lacu', 'lad', 'ladder', 'laden', 'ladi', 'ladisla', 'laertiu', 'lafayett', 'laffin', 'lafitt', 'lag', 'laid', 'lain', 'lair', 'lake', 'lakelet', 'laland', 'lamartin', 'lamb', 'lambent', 'lame', 'lament', 'lamma', 'lamp', 'lamplessli', 'lampoon', 'lanc', 'land', 'landaff', 'landgrav', 'landladi', 'landlord', 'landmark', 'landor', 'landscap', 'landsman', 'landsmen', 'landward', 'lane', 'langlad', 'langton', 'languag', 'languid', 'languidli', 'languor', 'languour', 'lanscap', 'lantern', 'lanthorn', 'laoco', 'laoud', 'lap', 'lapel', 'lapham', 'lapi', 'laplac', 'lappin', 'laps', 'larboard', 'larg', 'larger', 'largest', 'larn', 'lasal', 'lascar', 'lascia', 'lash', 'lass', 'lassitud', 'lastli', 'latch', 'late', 'latent', 'later', 'latest', 'lath', 'lather', 'lathi', 'latin', 'latitud', 'latona', 'latterli', 'lattic', 'laud', 'laudabl', 'laudanum', 'laugh', 'laughabl', 'laughingli', 'laughter', 'launcelot', 'launch', 'laundress', 'laundri', 'laurel', 'lave', 'lavenza', 'lavinia', 'lavinni', 'lavish', 'lavoro', 'law', 'lawgiv', 'lawless', 'lawn', 'lawni', 'lawrenc', 'lawyer', 'lay', 'layer', 'layman', 'lazi', 'lazili', 'lazuli', 'lazzeroni', 'lead', 'leaden', 'leader', 'leaf', 'leafi', 'leafless', 'leagu', 'leak', 'lean', 'leant', 'leap', 'leapt', 'learn', 'learnedli', 'learnt', 'leas', 'leather', 'leathern', 'leav', 'lectur', 'leda', 'ledg', 'ledger', 'leech', 'leed', 'leer', 'leeringli', 'leetl', 'leeward', 'leff', 'leffert', 'left', 'leg', 'legaci', 'legal', 'legatu', 'legend', 'legendri', 'leghorn', 'legibl', 'legion', 'legionari', 'legionarii', 'legisl', 'legislatur', 'legitim', 'legrand', 'legrass', 'leipsic', 'leisur', 'lemuria', 'len', 'lend', 'leng', 'length', 'lengthen', 'lenient', 'leniti', 'lens', 'lent', 'lenticular', 'leonardo', 'leonida', 'leopard', 'leprou', 'lerion', 'lesion', 'lessen', 'lesser', 'lesson', 'lest', 'let', 'lethal', 'letharg', 'lethargi', 'letter', 'lettr', 'levantin', 'levata', 'leve', 'level', 'lever', 'leviqu', 'leviti', 'liabil', 'liabl', 'liber', 'liberti', 'libo', 'librari', 'librarian', 'libya', 'licenc', 'licens', 'licenti', 'lichen', 'lick', 'lid', 'liddeason', 'lie', 'lieth', 'lieu', 'lieuten', 'life', 'lifeboat', 'lifeless', 'lifelong', 'lifetim', 'lift', 'ligament', 'ligeia', 'light', 'lighten', 'lighter', 'lightest', 'lightheart', 'lighthous', 'lightli', 'lightn', 'lightnin', 'lightsom', 'like', 'likeli', 'likelihood', 'liken', 'likewis', 'lili', 'lilienth', 'limb', 'limbo', 'lime', 'limit', 'limitless', 'limn', 'limpli', 'linden', 'lindum', 'line', 'lineag', 'lineament', 'linen', 'liner', 'linger', 'linguist', 'link', 'linkag', 'lintel', 'lion', 'lionel', 'lionship', 'lip', 'liqueur', 'liquid', 'liquor', 'liquorish', 'liranian', 'liriodendron', 'list', 'listen', 'listless', 'listlessli', 'litani', 'lite', 'liter', 'litera', 'literari', 'literatim', 'literatur', 'lith', 'lithograph', 'litig', 'litten', 'litter', 'litterateur', 'littl', 'littlewit', 'liu', 'live', 'livelihood', 'liven', 'liveri', 'liverpool', 'liveth', 'livid', 'lividli', 'livin', 'livr', 'lizard', 'ller', 'load', 'loaf', 'loafer', 'loath', 'loathsom', 'lobbi', 'lobe', 'lobster', 'local', 'locat', 'loch', 'lock', 'locket', 'locomot', 'locust', 'lodg', 'lodger', 'lofoden', 'loft', 'lofti', 'loftier', 'loftiest', 'loftili', 'log', 'loge', 'logic', 'logick', 'loiter', 'lollipop', 'lomar', 'lomarian', 'lombard', 'lombardi', 'lomond', 'london', 'lone', 'loneli', 'long', 'longboat', 'longer', 'longest', 'longev', 'longfellow', 'longitud', 'longitudin', 'longu', 'look', 'lookin', 'lookout', 'loom', 'loomfix', 'loop', 'loos', 'loosen', 'loot', 'lope', 'lord', 'lordli', 'lordship', 'lore', 'lose', 'loser', 'loss', 'lost', 'lot', 'loth', 'lothario', 'loto', 'loud', 'louder', 'loudest', 'loudli', 'loui', 'louisa', 'loung', 'lounger', 'loutish', 'love', 'loveless', 'loveli', 'loveliest', 'lover', 'lovingli', 'low', 'lowel', 'lower', 'lowest', 'lowli', 'loyal', 'loyalti', 'lozeng', 'lucan', 'luchesi', 'lucid', 'luck', 'lucki', 'luckili', 'luckless', 'lucr', 'ludicr', 'lukewarm', 'lull', 'lumber', 'lumen', 'lumin', 'luminari', 'luminifer', 'luminos', 'lump', 'luna', 'lunaci', 'lunar', 'lunarian', 'lunat', 'lunatico', 'lunch', 'lung', 'lurch', 'lure', 'lurid', 'lurk', 'lussac', 'lustr', 'lustra', 'lustrou', 'lustrum', 'lutanist', 'lute', 'luther', 'luxor', 'luxuri', 'luxuriantli', 'lxrd', 'lxxk', 'ly', 'lydia', 'lyeh', 'lynch', 'lynx', 'lyon', 'lyra', 'lyre', 'lyric', 'lysia', 'lyttleton', 'macabr', 'macassar', 'macbeth', 'macduff', 'mace', 'macedonia', 'machen', 'machiavelli', 'machicol', 'machin', 'machineri', 'mackey', 'macula', 'mad', 'madam', 'madden', 'maddeningli', 'maddest', 'madelin', 'mademoisel', 'madhous', 'madli', 'madman', 'madmen', 'madonna', 'maelstr', 'maelstrom', 'maelzel', 'maenalu', 'magazin', 'maggoti', 'magian', 'magic', 'magician', 'magistr', 'magnalia', 'magnanim', 'magnet', 'magnetoesthet', 'magnifi', 'magnific', 'magnifico', 'magnitud', 'magnolia', 'magnu', 'magu', 'maguntina', 'mahomet', 'mahometan', 'mai', 'maid', 'maiden', 'mail', 'maillard', 'maillardet', 'maim', 'main', 'mainli', 'maintain', 'mainten', 'mainz', 'maison', 'maiu', 'majest', 'majesti', 'major', 'make', 'maker', 'makesetai', 'makeshift', 'maketh', 'makri', 'maladi', 'malay', 'malcolm', 'malcont', 'male', 'maledict', 'malevol', 'malform', 'malibran', 'malic', 'malici', 'malign', 'malignli', 'malitia', 'malkowski', 'mallet', 'malodor', 'malon', 'maltes', 'maltreat', 'mami', 'mamma', 'mammal', 'mammalia', 'man', 'manacl', 'manag', 'mandat', 'mandevil', 'mandragora', 'mangi', 'mangl', 'manhood', 'mani', 'mania', 'maniac', 'manier', 'manifest', 'manifestli', 'manifold', 'manipul', 'mankind', 'manli', 'mann', 'manner', 'manoeuvr', 'manoir', 'manon', 'manor', 'mansard', 'manserv', 'mansfield', 'mansion', 'mantel', 'mantelet', 'mantl', 'manton', 'manual', 'manuel', 'manufactori', 'manufactur', 'manumit', 'manuscript', 'manuscrit', 'manuxet', 'maouth', 'map', 'mapl', 'mar', 'marathon', 'marbl', 'marcellinu', 'march', 'marchesa', 'marci', 'marco', 'mare', 'margaret', 'margin', 'mari', 'maria', 'marian', 'marin', 'marinad', 'maritim', 'mark', 'markedli', 'market', 'marlin', 'marmontel', 'marmora', 'maro', 'marqui', 'marri', 'marriag', 'marrow', 'marseil', 'marsh', 'marshi', 'marston', 'marsya', 'martens', 'martha', 'marthi', 'martial', 'martin', 'martyr', 'marvel', 'marx', 'masculin', 'mask', 'masker', 'mason', 'masonri', 'masqu', 'masquerad', 'mass', 'massa', 'massachusett', 'massacr', 'massi', 'massiv', 'mast', 'master', 'masteri', 'masterli', 'mastermind', 'masterpiec', 'mastic', 'mastiff', 'mastodon', 'mat', 'match', 'matchless', 'matchmen', 'mate', 'materi', 'materialist', 'matern', 'mathemat', 'mathematician', 'mather', 'mathilda', 'matlock', 'matron', 'matronli', 'matt', 'matter', 'matthew', 'mattock', 'matur', 'matutin', 'maul', 'maume', 'mauri', 'mausolea', 'mausolu', 'mauvai', 'mayb', 'maze', 'mazi', 'mazurewicz', 'mazurka', 'mazurkiad', 'mbark', 'mdcxlvii', 'mea', 'mead', 'meadow', 'meagr', 'meal', 'mean', 'meander', 'meaner', 'meaness', 'meanest', 'meaningless', 'meanli', 'meant', 'meantim', 'meanwhil', 'measur', 'measureless', 'meat', 'mebb', 'mecca', 'mechan', 'mechanist', 'medal', 'medallion', 'medder', 'meddl', 'medean', 'medecin', 'mediaev', 'mediaevalist', 'median', 'mediat', 'medic', 'medicean', 'mediceen', 'medicin', 'mediocr', 'medit', 'mediterranean', 'medium', 'medley', 'medoc', 'meek', 'meer', 'meerschaum', 'meet', 'meetin', 'mehitabel', 'mein', 'melancholi', 'melbourn', 'mele', 'melet', 'mellow', 'melodi', 'melodrama', 'melon', 'melt', 'member', 'membership', 'membran', 'meme', 'memoir', 'memor', 'memorandum', 'memori', 'memoris', 'memphi', 'menac', 'menag', 'mend', 'mender', 'mendic', 'mendota', 'mene', 'menehoult', 'menhoult', 'menial', 'mennai', 'menomine', 'mental', 'mention', 'mentoni', 'mentor', 'mephit', 'mercantil', 'mercat', 'mercenari', 'merchandis', 'merchant', 'merchantman', 'merci', 'merciless', 'mercuri', 'mere', 'merest', 'merg', 'meridian', 'merit', 'mermaid', 'merri', 'merriest', 'merrili', 'merriment', 'merriv', 'mervyn', 'meserv', 'mesmer', 'mesmerist', 'mesopotamia', 'mess', 'messag', 'messeng', 'messieur', 'messr', 'mestizo', 'mestorn', 'metabol', 'metal', 'metamorphos', 'metamorphosi', 'metaphor', 'metaphys', 'metaphysician', 'metaphysith', 'metempsychosi', 'meteor', 'methink', 'method', 'methought', 'metropoli', 'metzengerstein', 'meut', 'mew', 'mexican', 'mexico', 'mglw', 'miasma', 'mice', 'michel', 'michigan', 'microcosm', 'microscop', 'middl', 'midianit', 'midnight', 'midst', 'midsumm', 'midway', 'mien', 'mienn', 'mieux', 'mige', 'mighti', 'mightier', 'mightiest', 'mightili', 'mignaud', 'migrat', 'miguel', 'mihi', 'milan', 'milanes', 'mild', 'milder', 'mildew', 'mildli', 'mile', 'milianu', 'milit', 'militari', 'militia', 'milk', 'milki', 'million', 'millionair', 'millston', 'milton', 'milwauke', 'mime', 'mimic', 'mimick', 'minaret', 'minc', 'mind', 'mindless', 'miner', 'mingl', 'miniatur', 'minimum', 'minion', 'minist', 'ministeri', 'ministr', 'minor', 'minot', 'minotaur', 'mint', 'minuscul', 'minut', 'minutest', 'minutia', 'miracl', 'miracul', 'miranda', 'mirror', 'mirth', 'misadventur', 'misanthrop', 'misanthropi', 'misapprehend', 'misarrang', 'miscalcul', 'miscellan', 'mischief', 'misconceiv', 'misconduct', 'miscreant', 'misde', 'misdirect', 'miser', 'miseri', 'misfortun', 'misgiv', 'misguid', 'mishap', 'misinform', 'miskaton', 'misl', 'misplac', 'misproport', 'misrul', 'miss', 'misshapen', 'missil', 'missin', 'mission', 'mist', 'mistak', 'mistaken', 'mister', 'misti', 'mistook', 'mistress', 'mistrust', 'misus', 'mithrid', 'mitig', 'mix', 'mixin', 'mixtur', 'mizen', 'mizzen', 'mnar', 'mneme', 'moan', 'moat', 'mobil', 'mobilia', 'moccasin', 'mock', 'mockeri', 'mockingli', 'mode', 'model', 'moder', 'modern', 'modest', 'modesti', 'modestli', 'modif', 'modifi', 'modo', 'modul', 'moieti', 'moissart', 'moist', 'moistur', 'mold', 'mole', 'molecular', 'molehil', 'molest', 'mollifi', 'mollusc', 'molten', 'moment', 'momentari', 'momentarili', 'monarch', 'monarchi', 'monck', 'monday', 'money', 'moneyless', 'moneypenni', 'mongrel', 'monic', 'moniteur', 'monk', 'monkey', 'monkish', 'mono', 'monodi', 'monograph', 'monolith', 'monologu', 'monomania', 'monopoli', 'monoton', 'monotoni', 'monsieur', 'monster', 'monstros', 'monstrou', 'monstrous', 'monstrum', 'mont', 'montalegr', 'montani', 'montanvert', 'month', 'monthli', 'montresor', 'monument', 'mood', 'moodi', 'moodili', 'moon', 'moonbeam', 'moonin', 'moonless', 'moonlight', 'moonlit', 'moonshin', 'moor', 'moorish', 'mop', 'moral', 'moralist', 'morass', 'moraux', 'morbid', 'morbidli', 'morceau', 'morea', 'moreau', 'moreland', 'morella', 'moreov', 'moresqu', 'morgan', 'morgu', 'morir', 'morituru', 'moritz', 'morn', 'mornin', 'morri', 'morrow', 'morryst', 'morsel', 'mortal', 'mortali', 'mortar', 'morti', 'mortif', 'mortifi', 'mortuari', 'mortuorum', 'mortuu', 'mosaic', 'moscow', 'mose', 'mosh', 'mosko', 'moslem', 'moslemin', 'mosqu', 'moss', 'mossi', 'mostli', 'mostrart', 'mot', 'moth', 'mother', 'motion', 'motionless', 'motiv', 'motivirt', 'motley', 'motor', 'motto', 'mought', 'mould', 'moulder', 'mouldi', 'moultri', 'mound', 'mount', 'mountain', 'mountainsid', 'mountainward', 'mountebank', 'mourn', 'mourner', 'mous', 'mouser', 'mouth', 'moveabl', 'moveless', 'movement', 'movin', 'mower', 'mown', 'mowri', 'muddi', 'mudler', 'muert', 'muffl', 'muhammad', 'muhammadan', 'mulberri', 'mulct', 'mule', 'multi', 'multicolor', 'multifari', 'multiform', 'multipl', 'multipli', 'multitud', 'multitudin', 'mumbl', 'mumblethumb', 'mummer', 'mummifi', 'municip', 'munific', 'munro', 'munt', 'murder', 'murderess', 'muriton', 'murki', 'murmur', 'murray', 'muscl', 'muscular', 'muse', 'muset', 'museum', 'mushi', 'mushroom', 'music', 'musician', 'musid', 'musingli', 'musiqu', 'musk', 'musket', 'muslin', 'musta', 'mustachio', 'muster', 'musti', 'mustn', 'mutabl', 'mutat', 'mute', 'mutil', 'mutini', 'mutter', 'mutteringli', 'mutual', 'mwanu', 'mxther', 'mynheer', 'myriad', 'myrmidon', 'myrrh', 'myrtl', 'mysteri', 'mystic', 'mystif', 'mystifi', 'myth', 'mytholog', 'nafh', 'nageai', 'nagl', 'nahab', 'naiad', 'nail', 'naiv', 'naivet', 'nake', 'naked', 'nambi', 'nameless', 'namesak', 'nantz', 'naow', 'naowaday', 'nap', 'nape', 'napl', 'napoleon', 'napoli', 'narcot', 'narg', 'nargai', 'narr', 'narragansett', 'narrat', 'narrow', 'narrowli', 'nartho', 'nassau', 'nasti', 'nath', 'natheless', 'nation', 'nativ', 'natur', 'natura', 'naturalist', 'naught', 'nauseat', 'nauseou', 'naval', 'navi', 'navig', 'ncey', 'neapoli', 'neapolitan', 'near', 'nearbi', 'nearer', 'nearest', 'nearli', 'neat', 'neatli', 'nebber', 'neber', 'nebul', 'nebula', 'nebular', 'necess', 'necessari', 'necessarili', 'necessit', 'neck', 'necronomicon', 'need', 'needl', 'needless', 'needlessli', 'needn', 'neg', 'neglect', 'neglig', 'negoti', 'negotium', 'negro', 'negroid', 'neid', 'neigh', 'neighbor', 'neighborhood', 'neighbour', 'neighbourhood', 'neme', 'nemesi', 'nemo', 'nemorensi', 'nepenth', 'nephew', 'nephren', 'neptun', 'neptunian', 'nereid', 'nerv', 'nerveless', 'nervou', 'nervous', 'nessu', 'nest', 'nestl', 'net', 'nether', 'netherland', 'nethermost', 'nettl', 'network', 'neuclid', 'neufchatelish', 'neuralg', 'neurot', 'neutral', 'neutralis', 'nevair', 'nevermor', 'nevi', 'nevil', 'new', 'newb', 'newburi', 'newburyport', 'newcom', 'newer', 'newest', 'newfoundland', 'newli', 'news', 'newspap', 'newton', 'nglui', 'niagara', 'nibbl', 'nice', 'nicer', 'nicest', 'niceti', 'nich', 'nichol', 'nichola', 'nick', 'nickel', 'nicolino', 'niec', 'nier', 'nietzscheism', 'nigger', 'niggerless', 'niggurath', 'nigh', 'night', 'nightcap', 'nightingal', 'nightli', 'nightmar', 'nightmarish', 'nihil', 'nihilo', 'nile', 'nill', 'nimbl', 'nimbu', 'nineteen', 'nineteenth', 'nineti', 'ninon', 'ninth', 'niob', 'nip', 'nite', 'nith', 'nithra', 'nitokri', 'nitr', 'nitrogen', 'nitrou', 'nobil', 'nobl', 'nobleman', 'noblemen', 'nobler', 'noblest', 'nobli', 'nobodi', 'nocturn', 'nod', 'noden', 'noffin', 'nois', 'noiseless', 'noiselessli', 'noisi', 'noisom', 'nombr', 'nomenclatur', 'nomin', 'nommi', 'nonc', 'nonchal', 'nondescript', 'nonent', 'nonsens', 'nook', 'noon', 'noonday', 'noontid', 'noos', 'nooseneck', 'nopoli', 'nordic', 'nordland', 'norfolk', 'normal', 'norman', 'north', 'northam', 'northeast', 'northerli', 'northern', 'northernmost', 'northward', 'northwardli', 'northwest', 'northwesterli', 'northwestern', 'norton', 'norway', 'norwegian', 'norwich', 'nose', 'nosolog', 'nostril', 'notabl', 'notari', 'note', 'noth', 'nothin', 'notic', 'notif', 'notion', 'noton', 'notori', 'notorieti', 'notr', 'noturwissenchaft', 'notwithstand', 'nought', 'noumena', 'nourish', 'nourjahad', 'nouvel', 'nouvelett', 'nova', 'novali', 'novel', 'novelti', 'novemb', 'nowaday', 'nowher', 'noxiou', 'ntere', 'nthlei', 'nubian', 'nubium', 'nuclei', 'nucleu', 'nudg', 'nue', 'nugent', 'nuisanc', 'null', 'nulliti', 'numantiu', 'numb', 'number', 'numberless', 'numer', 'nunlik', 'nuptial', 'nurs', 'nursl', 'nurtur', 'nut', 'nutriment', 'nuzzl', 'nvidio', 'nxbxdi', 'nxne', 'nxthing', 'nyarlathotep', 'oak', 'oaken', 'oar', 'oarsmen', 'oasi', 'oath', 'obadiah', 'obdur', 'obe', 'obedi', 'obeis', 'obelisk', 'obey', 'object', 'objection', 'objectless', 'oblig', 'obliqu', 'obliter', 'oblivi', 'oblivion', 'oblong', 'obnoxi', 'obscen', 'obscur', 'obscuringli', 'observ', 'obsess', 'obst', 'obstacl', 'obstin', 'obstinaci', 'obstreper', 'obstruct', 'obtain', 'obtrud', 'obtrus', 'obtus', 'obviat', 'obviou', 'obvious', 'occas', 'occasion', 'occidit', 'occult', 'occup', 'occupi', 'occur', 'occurr', 'ocean', 'oceanograph', 'oceanward', 'ochori', 'ocracok', 'octagon', 'octav', 'octaviu', 'octavo', 'octob', 'octopu', 'ocular', 'odd', 'odditi', 'oddli', 'odenheim', 'odigi', 'odiou', 'odor', 'odorifer', 'odour', 'odysseu', 'odyssey', 'oedipu', 'oeil', 'offal', 'offcast', 'offen', 'offenc', 'offend', 'offens', 'offer', 'offic', 'offici', 'offish', 'offspr', 'ohio', 'oili', 'oino', 'oiseau', 'olatho', 'olau', 'oldeb', 'olden', 'older', 'oldest', 'olfactori', 'oliv', 'olney', 'olymp', 'olympiad', 'olympu', 'oman', 'ombra', 'omelett', 'omen', 'omin', 'omiss', 'omit', 'omn', 'omni', 'omnipot', 'omnipres', 'omnipreval', 'omnivor', 'onc', 'onct', 'oner', 'oneself', 'onesiphoru', 'onga', 'onli', 'onrush', 'onslaught', 'onward', 'onyx', 'oonai', 'ooth', 'ooz', 'oozi', 'opal', 'opaqu', 'open', 'openli', 'oper', 'opera', 'opiat', 'opinion', 'opium', 'oppodeldoc', 'oppon', 'opportun', 'opportunit', 'oppos', 'opposit', 'oppress', 'oppressor', 'optic', 'opul', 'oral', 'orang', 'orat', 'orb', 'orbit', 'orchard', 'orchestra', 'orchid', 'ordeal', 'order', 'orderli', 'ordinari', 'ordinarili', 'orfeo', 'organ', 'organis', 'orgi', 'orgiast', 'oriel', 'orient', 'orientalist', 'origin', 'orion', 'orkney', 'orlean', 'orn', 'ornament', 'ornat', 'oront', 'orphan', 'orta', 'orthodox', 'ortolan', 'osborn', 'oscar', 'oscil', 'oslo', 'ossa', 'osseou', 'ossian', 'ossif', 'ossuari', 'ostens', 'ostracis', 'ostrogoth', 'otaheit', 'othair', 'otherwis', 'ottawa', 'ottoman', 'ought', 'oukrano', 'ounc', 'ourang', 'ourself', 'ourselv', 'outang', 'outbid', 'outbreak', 'outbuild', 'outburst', 'outcast', 'outcom', 'outcri', 'outcrop', 'outdo', 'outen', 'outer', 'outfit', 'outgrown', 'outgrowth', 'outlay', 'outlet', 'outlin', 'outliv', 'outnumb', 'outpost', 'outpour', 'outr', 'outrag', 'outrank', 'outreach', 'outright', 'outset', 'outshin', 'outshon', 'outsid', 'outskirt', 'outspe', 'outspeed', 'outspread', 'outstretch', 'outstrip', 'outward', 'outwardli', 'outwit', 'oval', 'oven', 'overaw', 'overbalanc', 'overboard', 'overcam', 'overcast', 'overcharg', 'overcoat', 'overcom', 'overdon', 'overdu', 'overestim', 'overflow', 'overgrown', 'overgrowth', 'overhang', 'overhead', 'overhear', 'overheard', 'overhung', 'overinform', 'overjoy', 'overlap', 'overleap', 'overlook', 'overmantel', 'overmast', 'overnourish', 'overpow', 'overr', 'overran', 'overreach', 'overrul', 'overrun', 'overscor', 'overshadow', 'overshoot', 'overshot', 'oversight', 'overspread', 'overstow', 'overstrain', 'overtak', 'overtax', 'overthrew', 'overthrow', 'overthrown', 'overton', 'overtook', 'overtop', 'overturn', 'overwhelm', 'overwhelmingli', 'overwork', 'overwrought', 'owe', 'owest', 'owl', 'owlish', 'owner', 'ownership', 'oxford', 'oxonian', 'oxu', 'oxydraca', 'oxygen', 'oyer', 'oyster', 'pabulum', 'pace', 'pacif', 'pack', 'packag', 'packet', 'pad', 'paddl', 'padlock', 'pagan', 'paganli', 'page', 'pageantri', 'pagoda', 'paid', 'pail', 'pain', 'painless', 'painstak', 'painstakingli', 'paint', 'painter', 'pair', 'pajama', 'palac', 'palaeogean', 'palaeograph', 'palaeographi', 'palai', 'palanquin', 'palat', 'palav', 'palazzo', 'pale', 'palin', 'pall', 'palla', 'pallet', 'palli', 'pallid', 'pallor', 'palm', 'palpabl', 'palpit', 'palsi', 'paltri', 'pambi', 'pamper', 'pamphlet', 'pandaemoniac', 'pandemonium', 'pane', 'panel', 'pang', 'panic', 'pannel', 'panoram', 'panorama', 'pant', 'pantaloon', 'paower', 'papa', 'paper', 'papier', 'papillon', 'papillot', 'papyru', 'paracelsu', 'parad', 'paradis', 'paradisa', 'paradisiac', 'paradox', 'paragrab', 'paragraph', 'paral', 'parallel', 'paralys', 'paralysi', 'paralyt', 'paralyz', 'paramount', 'paranoiac', 'parapet', 'paraphernalia', 'paraphras', 'parasit', 'parasol', 'parcel', 'parch', 'parchment', 'pardon', 'pardonn', 'pareamo', 'parent', 'parenthes', 'parfumeri', 'pari', 'parish', 'parisian', 'park', 'parker', 'parley', 'parliament', 'parliamentari', 'parlor', 'parmi', 'parmli', 'parnassu', 'parodi', 'paroxysm', 'parsimoni', 'parson', 'partak', 'partaken', 'parterr', 'parthenon', 'partholan', 'parti', 'partial', 'particip', 'particl', 'particular', 'particularli', 'partisan', 'partit', 'partizan', 'partli', 'partner', 'partook', 'partridg', 'pasquinad', 'pass', 'passabl', 'passag', 'passageway', 'passeng', 'passer', 'passion', 'passionless', 'passiv', 'passo', 'passon', 'passport', 'past', 'pastim', 'pastor', 'pastur', 'pasturag', 'pat', 'patch', 'patchi', 'pate', 'patent', 'patern', 'path', 'pathet', 'pathless', 'patholog', 'pathway', 'patienc', 'patient', 'patoi', 'patriarch', 'patrician', 'patrimoni', 'patriot', 'patrol', 'patrolman', 'patron', 'patronag', 'patronis', 'patronym', 'patter', 'pattern', 'paul', 'paulin', 'pauper', 'paus', 'pauvr', 'pave', 'pavement', 'pavia', 'pavilion', 'paw', 'pay', 'payment', 'payn', 'peaaema', 'peabodi', 'peac', 'peak', 'peal', 'pear', 'pearl', 'pearli', 'peasant', 'peasantri', 'peat', 'pebbl', 'peck', 'pector', 'peculiar', 'peculiarli', 'pecuniari', 'pedant', 'pedantri', 'peddler', 'pedest', 'pedestrian', 'pediment', 'pedro', 'peel', 'peep', 'peer', 'peerag', 'peevish', 'peg', 'pehab', 'pein', 'pele', 'peleg', 'pelf', 'pelief', 'pelion', 'pelissi', 'pell', 'peltri', 'pemmican', 'pen', 'penalti', 'penanc', 'pencil', 'pendul', 'pendulum', 'penetr', 'peninsula', 'penit', 'penni', 'penniless', 'pennyless', 'pensiero', 'pension', 'pensiv', 'penstruth', 'pentagon', 'pentland', 'penuri', 'peon', 'peopl', 'peopleless', 'pepper', 'pequot', 'peradventur', 'perambul', 'perambulan', 'perceiv', 'percept', 'perch', 'percha', 'perchanc', 'perci', 'perciv', 'perd', 'perdidit', 'perdita', 'perdu', 'peregrin', 'peremptori', 'peremptorili', 'perenni', 'perfect', 'perfection', 'perfectionist', 'perfectli', 'perfidi', 'perfor', 'perforc', 'perform', 'perfum', 'perfumeri', 'perfunctori', 'perhap', 'pericranium', 'perier', 'perige', 'perihelion', 'peril', 'period', 'perish', 'peristyl', 'periwig', 'perman', 'permeat', 'permiss', 'permit', 'pernici', 'perpendicular', 'perpendicularli', 'perpetr', 'perpetu', 'perpetua', 'perplex', 'perquisit', 'persecut', 'persecutor', 'persei', 'persephon', 'persepoli', 'perseu', 'persev', 'persever', 'perseveringli', 'persia', 'persian', 'persist', 'person', 'persona', 'personag', 'perspect', 'perspir', 'persuad', 'persuas', 'pert', 'pertain', 'perth', 'perticcl', 'pertin', 'pertinac', 'pertinaci', 'perturb', 'peru', 'perus', 'pervad', 'pervas', 'pervers', 'pervert', 'perviou', 'pest', 'pester', 'pesti', 'pestil', 'pestilenti', 'pet', 'pete', 'peter', 'peterin', 'petersburgh', 'petersham', 'petit', 'petition', 'petitma', 'petrifi', 'petroniu', 'petrovitch', 'petru', 'petti', 'petticoat', 'petul', 'petulantli', 'pevishli', 'pfaal', 'pfaall', 'phalari', 'phantasi', 'phantasm', 'phantasma', 'phantasmagor', 'phantom', 'pharaoh', 'phase', 'pheasant', 'phebe', 'phenomen', 'phenomena', 'phenomenon', 'pheugoen', 'phial', 'philadelphia', 'philanthrop', 'philanthropi', 'philanthropist', 'philip', 'philipp', 'philistin', 'philosoph', 'philosophi', 'philosophis', 'phipp', 'phiz', 'phlegethon', 'phlegraei', 'phobic', 'phosphor', 'phosphoresc', 'photograph', 'phrase', 'phraseolog', 'phrenolog', 'phrenologist', 'phrensi', 'phrenzi', 'phthisi', 'physic', 'physician', 'physiognomi', 'physiolog', 'physiqu', 'pianeta', 'piano', 'piazetta', 'piazza', 'pick', 'pickax', 'pickin', 'pickman', 'pict', 'picter', 'pictori', 'pictur', 'picturesqu', 'piec', 'piena', 'pier', 'pierc', 'pierr', 'pieti', 'pig', 'pigafetta', 'pigeon', 'pigger', 'pigment', 'pigmi', 'pike', 'pilast', 'pilau', 'pile', 'pilgrim', 'pilgrimag', 'pilier', 'pillag', 'pillar', 'pillow', 'pilot', 'pin', 'pinc', 'pinch', 'pindar', 'pine', 'pineal', 'pini', 'piningli', 'pinion', 'pink', 'pinkish', 'pinnac', 'pinnacl', 'pinta', 'pinxit', 'pioneer', 'piou', 'piousli', 'pipe', 'piqu', 'piquanc', 'piquant', 'pirat', 'pirouet', 'pirouett', 'pisando', 'pistol', 'piston', 'pit', 'pitch', 'pitcher', 'pitchfork', 'pitchi', 'piteou', 'piteous', 'pith', 'piti', 'pitiabl', 'pitiless', 'pitilessli', 'pittanc', 'pittoresqu', 'pityless', 'piut', 'pivot', 'pizz', 'pizzi', 'placard', 'place', 'placid', 'placidli', 'plagu', 'plain', 'plainer', 'plainli', 'plainpalai', 'plaint', 'plaintiv', 'plait', 'plan', 'planck', 'plane', 'planet', 'planetari', 'plank', 'plant', 'plantat', 'plaster', 'plastic', 'plate', 'plateau', 'platform', 'platinum', 'plato', 'platter', 'plausibl', 'play', 'player', 'playfellow', 'playground', 'playmat', 'playth', 'plaza', 'plazer', 'plea', 'plead', 'pleas', 'pleasant', 'pleasantli', 'pleasur', 'plebeian', 'pledg', 'pleiad', 'plenteous', 'plenti', 'pli', 'plicabl', 'plini', 'plod', 'plot', 'plough', 'ploughman', 'plouton', 'plu', 'pluck', 'plum', 'plumag', 'plumb', 'plumber', 'plume', 'plump', 'plunder', 'plung', 'plutarch', 'pluto', 'pnakot', 'pneumat', 'poach', 'poacher', 'pocket', 'pocketbook', 'poem', 'poet', 'poetess', 'poetic', 'poetick', 'poetri', 'poignanc', 'poignant', 'poignantli', 'poinard', 'point', 'pointedli', 'pointless', 'pois', 'poison', 'poke', 'poker', 'polar', 'pole', 'polic', 'policeman', 'policemen', 'polici', 'polish', 'polit', 'politian', 'politician', 'poll', 'pollut', 'polyglott', 'polyhedron', 'polynesian', 'polynic', 'polyp', 'polyphem', 'polysyl', 'polytechn', 'pomp', 'pompeiu', 'pompelo', 'pompelona', 'pompey', 'pompiliu', 'pompos', 'pompou', 'ponap', 'pond', 'ponder', 'pont', 'ponto', 'poodl', 'pool', 'poop', 'poor', 'poorer', 'poorest', 'poorhous', 'poorli', 'pope', 'popish', 'poplar', 'poppi', 'popul', 'populac', 'popular', 'porcelain', 'pore', 'pork', 'porou', 'porphyri', 'porphyrogen', 'porpois', 'porqu', 'porridg', 'port', 'portabl', 'portal', 'portend', 'portent', 'porter', 'porthol', 'portion', 'portli', 'portmanteau', 'porto', 'portrait', 'portraitur', 'portray', 'portsmouth', 'portugues', 'pose', 'posit', 'possess', 'possessor', 'possibilti', 'possibl', 'possum', 'post', 'postag', 'poster', 'posteriori', 'postpon', 'postscript', 'postul', 'postur', 'pot', 'potato', 'potenc', 'potent', 'potenti', 'potion', 'potter', 'poultri', 'pound', 'pour', 'pourtray', 'poverti', 'powder', 'power', 'powerless', 'practic', 'practis', 'practition', 'prairi', 'prais', 'pratol', 'pratt', 'prattl', 'pray', 'prayer', 'preach', 'preachin', 'prearrang', 'precari', 'precaut', 'preced', 'precept', 'preceptor', 'precinct', 'preciou', 'precipic', 'precipit', 'precis', 'preclud', 'precoci', 'preconceiv', 'preconcert', 'preconcertedli', 'precursor', 'predatori', 'predecessor', 'predic', 'predica', 'predict', 'predilect', 'predispos', 'predomin', 'preech', 'preemin', 'prefac', 'prefect', 'prefectur', 'prefer', 'pregnanc', 'pregnant', 'prehensil', 'prehistor', 'prejud', 'prejudic', 'preliminari', 'prelud', 'prematur', 'premedit', 'premier', 'premis', 'premium', 'premonit', 'prepar', 'preparatori', 'preponder', 'prepossess', 'preposter', 'prerog', 'presag', 'presburg', 'presbyterian', 'prescrib', 'prescript', 'presenc', 'present', 'presenti', 'preserv', 'presid', 'press', 'pressur', 'prestig', 'preston', 'presum', 'presumpt', 'presumptu', 'pretenc', 'pretend', 'pretens', 'preternatur', 'pretti', 'prettili', 'prevail', 'preval', 'prevar', 'prevent', 'previou', 'previous', 'prey', 'pri', 'price', 'priceless', 'prick', 'pride', 'priest', 'priestcraft', 'priestess', 'priesthood', 'priestley', 'priestli', 'prig', 'prim', 'prima', 'primal', 'primari', 'primarili', 'prime', 'primev', 'primipilu', 'primit', 'primum', 'princ', 'princess', 'princeton', 'princip', 'principia', 'principium', 'principl', 'print', 'printer', 'prior', 'priori', 'prioriti', 'prism', 'prismat', 'prison', 'pristin', 'privaci', 'privat', 'privateersman', 'privi', 'privileg', 'prize', 'probabl', 'probe', 'problem', 'problemat', 'probosci', 'proce', 'proceed', 'process', 'proch', 'proclaim', 'proconsul', 'procrastin', 'procur', 'prodig', 'prodigi', 'produc', 'product', 'prof', 'profan', 'profess', 'profession', 'professor', 'proffer', 'proffit', 'profici', 'profil', 'profit', 'proflig', 'profligaci', 'profound', 'profoundest', 'profoundli', 'profund', 'profus', 'prognost', 'programm', 'progress', 'prohibit', 'project', 'projector', 'prolat', 'prolegomena', 'prolong', 'promenad', 'prometheu', 'promin', 'promis', 'promiscu', 'promontori', 'promot', 'prompt', 'promptli', 'prone', 'pronounc', 'pronunci', 'proof', 'prop', 'propag', 'propel', 'propens', 'proper', 'properli', 'properti', 'propheci', 'prophesi', 'prophet', 'prophetess', 'proponti', 'proport', 'proportion', 'propos', 'proposit', 'propound', 'propr', 'proprieti', 'proprietor', 'propuls', 'prosaic', 'prose', 'prosecut', 'proselyt', 'prosi', 'prospect', 'prospector', 'prosper', 'prospero', 'prostrat', 'protect', 'protector', 'protectorship', 'protectress', 'proteg', 'protest', 'protestant', 'proteu', 'protract', 'protrud', 'protuber', 'proud', 'proudli', 'prove', 'proven', 'proverb', 'proverbi', 'provid', 'providenti', 'provinc', 'provinci', 'provis', 'provision', 'proviso', 'provoc', 'provok', 'provokingli', 'prow', 'prowl', 'prowler', 'proxenoi', 'proxim', 'prudenc', 'prudent', 'prudenti', 'pruderi', 'prudish', 'prussian', 'pryin', 'pseudo', 'pseudonym', 'psych', 'psychal', 'psychic', 'psycholog', 'psychopath', 'psychosi', 'ptolema', 'ptolemai', 'public', 'publick', 'publicli', 'publiqu', 'publish', 'publiu', 'pucker', 'puddl', 'pudicita', 'pueril', 'puf', 'puff', 'puffi', 'puffin', 'pugnaci', 'pule', 'pull', 'pulmonari', 'pulp', 'pulpi', 'pulpit', 'puls', 'pulsat', 'pulseless', 'pump', 'pumpkin', 'pun', 'punch', 'puncheon', 'punctili', 'punctilio', 'punctual', 'punctuat', 'punctur', 'pundit', 'pungenc', 'pungent', 'puni', 'punish', 'pupil', 'puppet', 'puppi', 'pur', 'purchas', 'pure', 'purer', 'purest', 'purg', 'purgatori', 'purif', 'purifi', 'puritan', 'puriti', 'purl', 'purlieu', 'purloin', 'purpl', 'purplish', 'purport', 'purpos', 'purs', 'pursi', 'pursu', 'pursuanc', 'pursuer', 'pursuit', 'purveyor', 'pusey', 'push', 'puss', 'putresc', 'putrid', 'putti', 'puzzl', 'puzzlement', 'puzzlingli', 'pxll', 'pxxr', 'pyramid', 'quack', 'quackeri', 'quadrant', 'quaf', 'quail', 'quaint', 'quainter', 'quaintli', 'quak', 'qual', 'qualif', 'qualifi', 'qualiti', 'qualm', 'quantiti', 'quantum', 'quarrel', 'quarri', 'quart', 'quarter', 'quarterli', 'quartier', 'quarto', 'quasi', 'quaver', 'quay', 'queen', 'queenli', 'queer', 'queerer', 'queerest', 'queerli', 'quel', 'quell', 'queller', 'quench', 'queri', 'querul', 'quest', 'question', 'questo', 'queu', 'quia', 'quick', 'quicken', 'quicker', 'quickli', 'quicksand', 'quid', 'quidnunc', 'quiescenc', 'quiet', 'quietli', 'quietud', 'quill', 'quintess', 'quit', 'quito', 'quittin', 'quiver', 'quixot', 'quiz', 'quizz', 'quizzem', 'quizzic', 'quo', 'quocunqu', 'quoi', 'quondam', 'quot', 'quotat', 'raab', 'rabbit', 'rabbl', 'raccolto', 'race', 'rachan', 'rack', 'raconteur', 'radial', 'radianc', 'radiant', 'radiantli', 'radiat', 'radic', 'radii', 'radio', 'radiu', 'rafael', 'raft', 'rafter', 'rag', 'ragamuffin', 'rage', 'raggiar', 'raid', 'raider', 'rail', 'railleri', 'railroad', 'railrud', 'railway', 'raiment', 'rain', 'rainbow', 'rainfal', 'raini', 'rais', 'rake', 'ralli', 'rambl', 'rambler', 'ramif', 'rampart', 'ramu', 'rancour', 'randi', 'randolph', 'random', 'rang', 'rank', 'rankl', 'ransack', 'ransom', 'rant', 'raound', 'rap', 'raphael', 'raphaelit', 'rapid', 'rapidli', 'rapier', 'rapin', 'rapport', 'rapt', 'raptur', 'rare', 'rarefact', 'rarefi', 'rarer', 'rarest', 'rarifi', 'rariti', 'rascal', 'rash', 'rashli', 'rat', 'rate', 'rath', 'ratio', 'ratiocin', 'ration', 'rational', 'rattl', 'rattletrap', 'raucou', 'ravag', 'rave', 'raven', 'ravin', 'ravish', 'ray', 'rayless', 'raymond', 'raze', 'razor', 'razorlik', 'rdinat', 'reach', 'reaction', 'read', 'reader', 'readi', 'readier', 'readili', 'readjust', 'reaffirm', 'reagent', 'real', 'realis', 'realist', 'realiti', 'realiz', 'realli', 'realliti', 'realm', 'reanim', 'reap', 'reaper', 'reappear', 'reapproach', 'rear', 'reason', 'reassum', 'reassur', 'reassuringli', 'rebel', 'rebellion', 'rebuild', 'rebuilt', 'rebuk', 'rebut', 'recal', 'reced', 'receed', 'receipt', 'receiv', 'recent', 'recept', 'receptacl', 'recess', 'recherch', 'reciproc', 'recit', 'reckless', 'recklessli', 'reckon', 'reclaim', 'reclin', 'reclus', 'recogn', 'recognis', 'recognit', 'recoil', 'recollect', 'recombin', 'recomm', 'recommand', 'recommenc', 'recommend', 'recomp', 'recompens', 'reconcil', 'reconnoitr', 'reconsid', 'recontr', 'record', 'recours', 'recov', 'recoveri', 'recreant', 'recreat', 'recrimin', 'recross', 'recruit', 'rectangl', 'rectangular', 'rectangularli', 'recumb', 'recuper', 'recur', 'recurr', 'recus', 'red', 'redden', 'reddish', 'redeem', 'redivert', 'redli', 'redol', 'redoubl', 'redoubt', 'redress', 'reduc', 'reduct', 'reed', 'reedi', 'reef', 'reek', 'reel', 'reeler', 'reeli', 'refasten', 'refect', 'refer', 'referr', 'refin', 'refinedli', 'refineri', 'refit', 'reflect', 'reflector', 'reflux', 'refold', 'reform', 'refract', 'refrain', 'refresh', 'refriger', 'refug', 'refus', 'refut', 'regain', 'regal', 'regard', 'regardless', 'regener', 'regimen', 'regiment', 'region', 'regist', 'regni', 'regnum', 'regret', 'regul', 'regular', 'regularli', 'rehears', 'rehoboth', 'reid', 'reign', 'reigneth', 'rein', 'reinem', 'reinforc', 'reinstat', 'reiter', 'reject', 'rejoic', 'rejoin', 'rejoind', 'rejuven', 'rel', 'relaps', 'relat', 'relationship', 'relax', 'releas', 'relent', 'relentless', 'relentlessli', 'relev', 'reli', 'reliabl', 'relianc', 'relic', 'relick', 'relief', 'reliev', 'religi', 'religion', 'relinquish', 'reliqu', 'relish', 'reluct', 'reluctantli', 'relum', 'remain', 'remaind', 'remand', 'remark', 'remedi', 'remediless', 'rememb', 'remember', 'remembr', 'rement', 'remigiu', 'remind', 'reminisc', 'remiss', 'remitt', 'remnant', 'remonstr', 'remors', 'remorseless', 'remot', 'remotest', 'remov', 'remuner', 'renam', 'rencontr', 'rend', 'render', 'rendezv', 'renel', 'renew', 'renounc', 'renov', 'renown', 'rent', 'repaid', 'repair', 'reparte', 'repass', 'repast', 'repay', 'repeat', 'repeatedli', 'repel', 'repent', 'repeopl', 'reperus', 'repetit', 'repin', 'replac', 'replenish', 'replet', 'repli', 'replica', 'report', 'repos', 'reprehens', 'repres', 'represent', 'repress', 'reproach', 'reprob', 'reproduc', 'reproof', 'reprov', 'reptil', 'reptilian', 'republ', 'republican', 'republish', 'repugn', 'repuls', 'reput', 'reputedli', 'request', 'requir', 'requisit', 'reread', 'rescu', 'rescuer', 'research', 'resembl', 'resent', 'reserv', 'resid', 'residu', 'resign', 'resignedli', 'resili', 'resin', 'resist', 'resistless', 'resistlessli', 'resolut', 'resolv', 'reson', 'resort', 'resound', 'resourc', 'respect', 'respecta', 'respir', 'respit', 'resplend', 'respond', 'respons', 'rest', 'restaur', 'restaurateur', 'restiv', 'restless', 'restlessli', 'restor', 'restrain', 'restraint', 'restrict', 'result', 'resum', 'resumpt', 'resurrect', 'resurrexit', 'retail', 'retain', 'retali', 'retard', 'retent', 'retic', 'retina', 'retir', 'retort', 'retouch', 'retrac', 'retract', 'retread', 'retreat', 'retribut', 'retriev', 'retro', 'retrograd', 'retrogress', 'retrospect', 'return', 'returneth', 'reuss', 'reveal', 'revel', 'revelri', 'reveng', 'revenu', 'rever', 'reverber', 'reverenc', 'reverend', 'reverenti', 'reveri', 'revers', 'revert', 'reviendrai', 'review', 'revisit', 'reviv', 'revok', 'revolt', 'revoltingli', 'revolut', 'revolv', 'revuls', 'reward', 'rewin', 'reynold', 'rhapsod', 'rhapsodi', 'rhetor', 'rhetorician', 'rheumat', 'rheumi', 'rhine', 'rhineland', 'rhinocero', 'rhoad', 'rhobi', 'rhode', 'rhone', 'rhyme', 'rhythm', 'rhythmic', 'rial', 'rialli', 'rib', 'ribald', 'ribband', 'ribbon', 'ricci', 'rice', 'rich', 'richard', 'richelieu', 'richer', 'richest', 'richli', 'richmond', 'rick', 'ricketi', 'ridden', 'riddl', 'ride', 'rider', 'ridg', 'ridgepol', 'ridgi', 'ridicul', 'rife', 'rifkin', 'rifl', 'rift', 'rig', 'right', 'righteou', 'rightli', 'rigid', 'rigidli', 'rigmarol', 'rigor', 'riker', 'rim', 'rimembra', 'rimest', 'rimless', 'ring', 'ringlet', 'riot', 'rioter', 'rip', 'ripen', 'riper', 'rippin', 'rippl', 'rise', 'risen', 'risk', 'rite', 'ritmo', 'ritual', 'ritzner', 'rival', 'rivalri', 'riven', 'river', 'rivet', 'rivulet', 'road', 'roadway', 'roam', 'roamer', 'roan', 'roanok', 'roar', 'roast', 'rob', 'robber', 'robberi', 'robbin', 'robe', 'robert', 'robin', 'robust', 'roch', 'rocher', 'rochest', 'rock', 'rocki', 'rode', 'rodent', 'roderick', 'rodosto', 'rodriguez', 'roger', 'roll', 'roman', 'romanc', 'romanis', 'romant', 'romanticist', 'rombert', 'rome', 'romero', 'romnod', 'ronald', 'ronaut', 'roncesval', 'roof', 'rook', 'room', 'roomi', 'root', 'rope', 'roplan', 'roquelair', 'rosalind', 'rose', 'roseat', 'rosemari', 'ross', 'rot', 'rotat', 'rotten', 'rotterdam', 'rottin', 'rotund', 'rough', 'roughen', 'rougher', 'roughli', 'roul', 'roulet', 'round', 'roundabout', 'rous', 'rousseau', 'rout', 'routin', 'rove', 'row', 'rowdi', 'rowel', 'rowena', 'rower', 'rowley', 'royal', 'royalist', 'royalti', 'royster', 'rub', 'rubber', 'rubberi', 'rubbish', 'ruben', 'rubi', 'rubicon', 'rubini', 'rudder', 'rudderless', 'ruddi', 'ruddier', 'ruddili', 'rude', 'rudiment', 'rudimentari', 'ruffian', 'ruffl', 'rufu', 'rug', 'rugged', 'ruin', 'ruinou', 'rule', 'ruler', 'rulership', 'ruleth', 'rumbl', 'rumgudgeon', 'rumin', 'rummag', 'rummer', 'rumor', 'rumour', 'rumpl', 'run', 'runaway', 'rune', 'rung', 'runner', 'runnin', 'runway', 'rural', 'rush', 'rushin', 'russia', 'russian', 'rust', 'rusti', 'rustic', 'rustl', 'rut', 'ruth', 'ruthless', 'ruthlessli', 'rxlling', 'ryland', 'sabag', 'sabaoth', 'sabbat', 'sabbatarian', 'sabbath', 'sabin', 'sabl', 'sachem', 'sack', 'sackcloth', 'sacr', 'sacred', 'sacrif', 'sacrific', 'sacrificin', 'sacrifis', 'sacrileg', 'sad', 'sadden', 'saddest', 'saddl', 'sadli', 'saducismu', 'safe', 'safeguard', 'safer', 'safest', 'safeti', 'saffron', 'safi', 'sag', 'sagac', 'sagaci', 'sage', 'sai', 'said', 'sail', 'sailor', 'saint', 'saintli', 'sake', 'salamand', 'salari', 'sale', 'salem', 'salev', 'sali', 'salient', 'sall', 'salli', 'sallow', 'saloon', 'salsafett', 'salt', 'saltant', 'salubri', 'salut', 'saluto', 'salvat', 'salvatorish', 'samaria', 'sampl', 'sampson', 'samuel', 'san', 'sanctifi', 'sanctimoni', 'sanctiti', 'sand', 'sandal', 'sandalwood', 'sandi', 'sane', 'saner', 'sang', 'sangsu', 'sanguin', 'sanguinari', 'sanguini', 'sanitarium', 'saniti', 'sank', 'sanscrit', 'sanskrit', 'sansu', 'sant', 'saound', 'saoundin', 'saouth', 'sapl', 'sapphir', 'saraband', 'saracen', 'saratoga', 'sarcasm', 'sarcast', 'sarcophagu', 'sardon', 'sardonyx', 'sargent', 'sarki', 'sarmat', 'sarnath', 'sartain', 'sarten', 'sarv', 'sash', 'sashless', 'sassafra', 'satan', 'sate', 'satellit', 'satiat', 'satieti', 'satin', 'satinet', 'satir', 'satirist', 'satisfact', 'satisfactori', 'satisfactorili', 'satisfi', 'satisfyin', 'satur', 'saturday', 'saturn', 'saturnian', 'satyr', 'sauc', 'saucer', 'sauer', 'sauerkraut', 'saunter', 'saurian', 'sausag', 'savag', 'savageri', 'savan', 'save', 'savil', 'saviour', 'savor', 'savour', 'savouri', 'saw', 'sawyer', 'saxon', 'say', 'sayin', 'scaffold', 'scalabl', 'scald', 'scale', 'scaleless', 'scali', 'scalp', 'scamper', 'scan', 'scandal', 'scant', 'scanti', 'scantl', 'scapegrac', 'scar', 'scarab', 'scarabaeu', 'scarc', 'scarciti', 'scare', 'scarecrow', 'scarf', 'scarlet', 'scatter', 'scene', 'sceneri', 'scenic', 'scent', 'scentless', 'sceptic', 'sceptr', 'schaack', 'schacabao', 'scheme', 'schiedam', 'schiller', 'schiraz', 'schmidt', 'schneider', 'scholar', 'scholarli', 'scholarship', 'school', 'schoolboy', 'schoolfellow', 'schoolmast', 'schoolmat', 'schooner', 'schroeter', 'schultz', 'schweinkopf', 'schylu', 'scienc', 'scientif', 'scientist', 'scimetar', 'scimitar', 'scion', 'scipio', 'scof', 'scoff', 'scold', 'scoop', 'scope', 'scorch', 'score', 'scorn', 'scorpion', 'scotch', 'scotland', 'scott', 'scoundrel', 'scoundrelli', 'scourg', 'scout', 'scowl', 'scrambl', 'scrap', 'scrape', 'scratch', 'scrawl', 'scream', 'screamin', 'screechin', 'screen', 'screw', 'scribbl', 'scribbler', 'scriboniu', 'scripta', 'scripter', 'scriptur', 'scroful', 'scroll', 'scrub', 'scrupl', 'scrupul', 'scrutin', 'scrutini', 'scud', 'scuffl', 'scull', 'scullion', 'sculptor', 'sculptur', 'scum', 'scurc', 'scurri', 'scuttl', 'scymetar', 'scyth', 'scythia', 'scythian', 'sea', 'seabright', 'seafar', 'seal', 'seam', 'seaman', 'seamen', 'seaport', 'sear', 'search', 'searcher', 'searchest', 'searchlight', 'seashor', 'season', 'seat', 'seaton', 'seaward', 'seawe', 'seced', 'secess', 'sech', 'secheron', 'seclud', 'seclus', 'secon', 'second', 'secondari', 'secondli', 'secreci', 'secret', 'secretari', 'secretli', 'sect', 'section', 'sector', 'secundu', 'secundum', 'secur', 'sedg', 'seduc', 'seduct', 'sedul', 'seeck', 'seecker', 'seed', 'seedi', 'seedsman', 'seein', 'seek', 'seeker', 'seekest', 'seemingli', 'seen', 'seep', 'seest', 'seeth', 'sefton', 'segment', 'segond', 'sein', 'seiz', 'seizur', 'seldom', 'select', 'selectman', 'selectmen', 'self', 'selfconcentr', 'selfish', 'selfsam', 'sell', 'sellin', 'selv', 'selvat', 'semblanc', 'semel', 'semi', 'semicircl', 'semicircular', 'semit', 'senat', 'senc', 'senct', 'send', 'senil', 'senior', 'sens', 'sensat', 'sensationalist', 'senseless', 'sensibl', 'sensit', 'sensual', 'sent', 'sentenc', 'sententi', 'senti', 'sentienc', 'sentient', 'sentiment', 'sentinel', 'sentri', 'separ', 'seper', 'septemb', 'septic', 'sepulchr', 'sepulchrum', 'sepultu', 'sepultur', 'sepultura', 'sequel', 'sequenc', 'seraglio', 'serai', 'serannian', 'seraph', 'sere', 'seren', 'sereno', 'serg', 'seri', 'seringa', 'seriou', 'sermon', 'serpent', 'serv', 'servant', 'servi', 'servic', 'servil', 'serviss', 'servitor', 'servitud', 'servox', 'session', 'set', 'seth', 'settin', 'settl', 'settlement', 'settler', 'seul', 'seulement', 'seven', 'seventeen', 'seventeenth', 'seventh', 'seventi', 'sever', 'sewer', 'sex', 'sexton', 'shabbi', 'shabil', 'shackl', 'shade', 'shadi', 'shadow', 'shadowi', 'shadowingli', 'shaft', 'shaggi', 'shake', 'shaken', 'shakespear', 'shaki', 'shakspear', 'shall', 'shallop', 'shallow', 'shalmanez', 'shalt', 'shambl', 'shame', 'shang', 'shank', 'shanti', 'shape', 'shapeless', 'share', 'sharer', 'shark', 'sharp', 'sharpen', 'sharper', 'sharpli', 'shatter', 'shave', 'shaven', 'shaver', 'shawl', 'shear', 'sheath', 'shed', 'sheehan', 'sheep', 'sheepishli', 'sheer', 'sheet', 'shelf', 'shell', 'shelter', 'shelterless', 'shelv', 'shepherd', 'sheppard', 'sherri', 'shet', 'shew', 'shewn', 'shicken', 'shield', 'shift', 'shill', 'shimmer', 'shine', 'shingl', 'ship', 'shipbuild', 'shipmat', 'shippin', 'shirt', 'shiver', 'shiveri', 'shiveringli', 'shoal', 'shock', 'shockingli', 'shod', 'shoe', 'shoemak', 'shoggoth', 'shone', 'shonson', 'shook', 'shoot', 'shop', 'shopkeep', 'shore', 'shoreless', 'shoreward', 'shorn', 'short', 'shorten', 'shorter', 'shortli', 'shot', 'shou', 'shoulder', 'shouldn', 'shouldst', 'shout', 'shove', 'shovel', 'shower', 'showi', 'shown', 'shrank', 'shred', 'shriek', 'shriekingli', 'shrill', 'shriller', 'shrilli', 'shrine', 'shrink', 'shrinkag', 'shrivel', 'shroud', 'shrub', 'shrubberi', 'shrug', 'shrunk', 'shrunken', 'shub', 'shud', 'shudder', 'shudderingli', 'shuffl', 'shun', 'shut', 'shutter', 'shuttlecock', 'sibyl', 'sicili', 'sicilian', 'sick', 'sickb', 'sicken', 'sickeningli', 'sickli', 'sider', 'sidetrack', 'sidewalk', 'sidewis', 'sidl', 'sidney', 'sidrak', 'sieg', 'sienta', 'sieur', 'siev', 'sift', 'sigh', 'sight', 'sightless', 'sightlessli', 'sightse', 'sign', 'signal', 'signatur', 'signboard', 'signifi', 'signific', 'significantli', 'signor', 'signora', 'silenc', 'silent', 'silhouet', 'siliu', 'silk', 'silken', 'sill', 'silli', 'silliman', 'silva', 'silver', 'silveri', 'sime', 'simia', 'simian', 'simil', 'similar', 'similarli', 'similitud', 'simoom', 'simoon', 'simpl', 'simpler', 'simplest', 'simpleton', 'simpli', 'simplic', 'simpson', 'simultan', 'sin', 'sinara', 'sinc', 'sincer', 'sinciput', 'sine', 'sinew', 'sing', 'singer', 'singin', 'singl', 'singli', 'singular', 'singularli', 'sinist', 'siniv', 'sink', 'sinless', 'sinner', 'sinuou', 'sip', 'sire', 'siroc', 'sirocco', 'sister', 'sit', 'site', 'sitter', 'situat', 'sixpenc', 'sixteen', 'sixteenth', 'sixth', 'sixti', 'size', 'skai', 'skeer', 'skeert', 'skein', 'skeleton', 'skeptic', 'sketch', 'sketchi', 'skiey', 'skiff', 'skil', 'skill', 'skim', 'skin', 'skip', 'skirmish', 'skirt', 'skulk', 'skull', 'sky', 'skylight', 'skylin', 'slab', 'slack', 'slacken', 'slackenin', 'slader', 'slain', 'slake', 'slam', 'slander', 'slang', 'slant', 'slantwis', 'slate', 'slater', 'slatternli', 'slaughter', 'slave', 'slaver', 'slaveri', 'slay', 'slayeth', 'slayin', 'sledg', 'sleek', 'sleep', 'sleeper', 'sleepi', 'sleepless', 'sleev', 'slender', 'slenderli', 'slept', 'slew', 'slid', 'slide', 'slight', 'slighter', 'slightest', 'slightli', 'slim', 'slime', 'slimi', 'slink', 'slip', 'slipper', 'slipperi', 'slipperili', 'slipt', 'slit', 'slither', 'slobberingli', 'sloop', 'slop', 'slope', 'sloth', 'slouch', 'slough', 'slovenli', 'slow', 'slowli', 'sluggish', 'slum', 'slumber', 'slunk', 'slyass', 'slyli', 'smack', 'small', 'smaller', 'smallest', 'smart', 'smartli', 'smear', 'smell', 'smelt', 'smile', 'smilingli', 'smite', 'smith', 'smitherton', 'smitten', 'smoke', 'smokeless', 'smoki', 'smooth', 'smoothli', 'smother', 'smug', 'smuggl', 'snail', 'snake', 'snap', 'snapshot', 'snapt', 'snare', 'snarl', 'snatch', 'snatcher', 'sneer', 'sneez', 'snob', 'snobb', 'snore', 'snort', 'snow', 'snowbal', 'snowdrift', 'snowi', 'snowless', 'snub', 'snuff', 'snuffi', 'snug', 'snugger', 'snugli', 'soak', 'soam', 'soar', 'sob', 'sober', 'soberli', 'sobr', 'sobrieti', 'sociabl', 'social', 'societi', 'sock', 'socket', 'socl', 'socrat', 'sod', 'sodal', 'sodden', 'sodium', 'sofa', 'soft', 'soften', 'softer', 'softest', 'softli', 'soho', 'soient', 'soil', 'soir', 'sojourn', 'solac', 'solar', 'sold', 'soldier', 'soldieri', 'sole', 'soleil', 'solemn', 'solemnli', 'solicit', 'solicitud', 'solid', 'soliloqui', 'soliloquy', 'solitari', 'solitud', 'solomon', 'solstici', 'solstiti', 'solubl', 'solut', 'solv', 'sombr', 'somebodi', 'somehaow', 'someon', 'someth', 'somethin', 'sometim', 'somewhar', 'somewhat', 'somewher', 'somnambul', 'somnambula', 'somnambulist', 'somnol', 'somth', 'son', 'sona', 'song', 'sonnet', 'sonor', 'sonum', 'soon', 'sooner', 'soot', 'sooth', 'sophia', 'sophism', 'sophist', 'soprano', 'sorceri', 'sorcier', 'sordid', 'sore', 'sorri', 'sorrow', 'sort', 'sospiri', 'sothoth', 'soto', 'sottis', 'sottish', 'sotto', 'sought', 'soul', 'soulless', 'sound', 'soundest', 'soundless', 'soundli', 'soup', 'sour', 'sourc', 'sourit', 'south', 'southeast', 'southeastern', 'southeastward', 'southerli', 'southern', 'southward', 'southwardli', 'southwest', 'souvenir', 'sovereign', 'sovereignti', 'sow', 'sown', 'space', 'spaciou', 'spade', 'spain', 'spallanzani', 'span', 'spangl', 'spaniard', 'spanish', 'spank', 'spanker', 'spar', 'spare', 'spark', 'sparkl', 'sparrow', 'spars', 'sparta', 'spartan', 'spasm', 'spasmod', 'spatter', 'spawn', 'speak', 'speaker', 'spear', 'speci', 'special', 'specialis', 'specialist', 'specif', 'specifi', 'specimen', 'speciou', 'speck', 'speckl', 'spectacl', 'spectacularli', 'spectat', 'spectatress', 'spectr', 'spectral', 'specul', 'sped', 'speech', 'speechless', 'speed', 'speedi', 'speedili', 'speel', 'spell', 'spellbound', 'spelt', 'spencer', 'spend', 'spendthrift', 'spent', 'sphere', 'spheroid', 'sphinx', 'sphynx', 'spi', 'spice', 'spici', 'spider', 'spike', 'spiki', 'spill', 'spin', 'spindl', 'spiral', 'spire', 'spirit', 'spiritless', 'spiritu', 'spit', 'spite', 'splash', 'splashin', 'splendid', 'splendor', 'splendour', 'splenet', 'splice', 'splinter', 'split', 'splotch', 'spoil', 'spoilt', 'spoke', 'spoken', 'spontan', 'sport', 'sportiv', 'spot', 'spout', 'sprang', 'sprawl', 'spray', 'sprayer', 'spread', 'sprightli', 'sprightliest', 'spring', 'springfield', 'springi', 'sprinkl', 'sprout', 'sprung', 'spun', 'spur', 'spurn', 'spurzheimit', 'sputter', 'squad', 'squadron', 'squalid', 'squall', 'squalor', 'squar', 'squat', 'squatter', 'squawk', 'squeak', 'squeal', 'squeez', 'squid', 'squint', 'squir', 'squirm', 'squirmin', 'squirrel', 'stab', 'stabil', 'stabl', 'stabli', 'stack', 'stael', 'staff', 'stafford', 'stag', 'stage', 'stagecoach', 'stagger', 'stagnat', 'staid', 'stain', 'stainless', 'stair', 'staircas', 'stairway', 'stake', 'stale', 'stalk', 'stall', 'stalwart', 'stamboul', 'stamen', 'stammer', 'stamp', 'stampt', 'stand', 'standard', 'standstil', 'stanza', 'stapl', 'stapleton', 'star', 'starboard', 'stare', 'starfish', 'stari', 'stark', 'starkli', 'starri', 'start', 'startin', 'startl', 'starv', 'starvat', 'state', 'stateliest', 'statement', 'static', 'station', 'stationari', 'statu', 'statuari', 'statuett', 'statur', 'stave', 'stay', 'stead', 'steadi', 'steadiest', 'steadili', 'steal', 'stealth', 'stealthi', 'stealthili', 'steam', 'steamboat', 'stedfast', 'steed', 'steel', 'steen', 'steep', 'steeper', 'steepl', 'steepli', 'steer', 'stein', 'stem', 'stench', 'step', 'stephani', 'stephen', 'ster', 'stereotomi', 'steril', 'stern', 'sterner', 'sternest', 'sternli', 'stertor', 'stethelo', 'stew', 'steward', 'stick', 'sticki', 'stickili', 'stiff', 'stiffen', 'stiffli', 'stifl', 'stigma', 'stigmata', 'stile', 'stiletto', 'stilpo', 'stilt', 'stimul', 'stimuli', 'stimulu', 'sting', 'stink', 'stint', 'stir', 'stock', 'stocki', 'stole', 'stolen', 'stolid', 'stomach', 'stompin', 'stone', 'stoneheng', 'stoni', 'stood', 'stool', 'stoop', 'stop', 'stoppag', 'stopt', 'stor', 'storag', 'store', 'storehous', 'stori', 'storm', 'stormi', 'stout', 'stoutest', 'stoutli', 'stove', 'stovepip', 'stow', 'stowacki', 'stowageroom', 'straggl', 'straggler', 'straight', 'straighten', 'straightway', 'strain', 'strainin', 'strait', 'straitjacket', 'strand', 'strang', 'stranger', 'strangest', 'strangl', 'strap', 'strasbourg', 'strata', 'stratagem', 'stratum', 'straw', 'stray', 'streak', 'stream', 'streamer', 'streamlet', 'street', 'strength', 'strengthen', 'strenuou', 'strenuous', 'stress', 'stretch', 'stretcher', 'strew', 'strewn', 'stricken', 'strict', 'strictest', 'strictli', 'stride', 'strident', 'stridor', 'strife', 'strike', 'striken', 'strikingli', 'string', 'strip', 'stripe', 'stripl', 'strive', 'strode', 'stroke', 'stroll', 'strong', 'stronger', 'strongest', 'stronghold', 'strongli', 'strove', 'strow', 'strown', 'struck', 'structur', 'struggl', 'strung', 'stubb', 'stubbi', 'stubbl', 'stubborn', 'stucco', 'stuck', 'stud', 'student', 'studi', 'studio', 'studiou', 'studious', 'stuf', 'stuff', 'stultifi', 'stumbl', 'stump', 'stumpi', 'stun', 'stung', 'stunt', 'stupefi', 'stupend', 'stupid', 'stupidli', 'stupifi', 'stupor', 'sturdi', 'sturdili', 'stxp', 'stygian', 'style', 'stylu', 'suarven', 'suaviti', 'subaltern', 'subcenturio', 'subconsci', 'subdivis', 'subdu', 'subject', 'subjoin', 'sublim', 'sublimest', 'submarin', 'submerg', 'submers', 'submiss', 'submit', 'subordin', 'subscrib', 'subscript', 'subsequ', 'subserv', 'subsid', 'subsist', 'substanc', 'substant', 'substanti', 'substitut', 'subtend', 'subterran', 'subterranean', 'subterren', 'subtl', 'subtler', 'subtlest', 'subtleti', 'subtli', 'suburb', 'subway', 'succe', 'succeed', 'success', 'succinctli', 'succour', 'succourless', 'succumb', 'suck', 'suction', 'sudden', 'suddenli', 'suddent', 'suffer', 'suffic', 'suffici', 'suffoc', 'suffrag', 'suffus', 'sugar', 'suggest', 'suicid', 'suit', 'suitabl', 'suitor', 'suki', 'sulki', 'sull', 'sullen', 'sullenli', 'sulli', 'sullivan', 'sulphur', 'sultan', 'sum', 'sumatri', 'summari', 'summarili', 'summer', 'summit', 'summon', 'sumner', 'sumptuari', 'sumptuou', 'sumptuous', 'sun', 'sunbeam', 'sunburn', 'sunda', 'sunday', 'sunder', 'sundial', 'sundown', 'sundri', 'sung', 'sunk', 'sunken', 'sunless', 'sunlight', 'sunni', 'sunnier', 'sunris', 'sunset', 'sunshin', 'sunship', 'sunt', 'sunup', 'sup', 'superabund', 'superad', 'superb', 'superbu', 'supercargo', 'supererog', 'supererogatori', 'superfici', 'superflu', 'superhuman', 'superimpos', 'superinduc', 'superintend', 'superior', 'superl', 'supern', 'supernatur', 'supernorm', 'supernumerari', 'superscript', 'supersed', 'superstit', 'superstiti', 'superstructur', 'superven', 'supervis', 'supin', 'supper', 'suppl', 'suppli', 'suppliant', 'supplic', 'support', 'suppos', 'supposedli', 'supposit', 'suppress', 'suprem', 'supremaci', 'supress', 'surcharg', 'surcingl', 'sure', 'surest', 'surf', 'surfac', 'surg', 'surgeon', 'surgeri', 'surgic', 'surli', 'surmis', 'surmount', 'surnam', 'surpass', 'surpassingli', 'surplu', 'surpri', 'surpris', 'surprisingli', 'surrend', 'surrey', 'surround', 'survey', 'surviv', 'survivor', 'suscept', 'suspect', 'suspend', 'suspens', 'suspici', 'suspicion', 'sustain', 'susten', 'suthin', 'swagger', 'swallow', 'swam', 'swammerdamm', 'swamp', 'swan', 'swar', 'sward', 'swarm', 'swart', 'swarthi', 'swastika', 'swath', 'sway', 'swear', 'sweat', 'swede', 'swedenborg', 'sweep', 'sweet', 'sweeter', 'sweetest', 'sweetli', 'swell', 'swelter', 'swept', 'swerv', 'swift', 'swifter', 'swiftli', 'swim', 'swimmer', 'swimmin', 'swine', 'swing', 'swirl', 'swishin', 'swiss', 'switch', 'switzerland', 'swollen', 'swoon', 'swoop', 'sword', 'swore', 'sworn', 'swung', 'sxrrxw', 'sybil', 'sydney', 'syfe', 'syllabif', 'syllabl', 'sylph', 'sylvan', 'symbol', 'symbolis', 'symbolist', 'symmetri', 'sympath', 'sympathet', 'sympathi', 'sympathis', 'symphon', 'symptom', 'synchron', 'synchronis', 'syndic', 'synthet', 'syphon', 'syracus', 'syracusan', 'syria', 'syrian', 'syrup', 'systemat', 'taba', 'tabard', 'tabbi', 'tabitha', 'tabl', 'tablet', 'tabul', 'taci', 'tacit', 'tacitli', 'taciturn', 'tack', 'tackl', 'tact', 'taffrail', 'tail', 'tailor', 'taint', 'taintless', 'taken', 'takin', 'talbot', 'tale', 'talent', 'talisman', 'talk', 'talker', 'talkin', 'tall', 'tallaght', 'tallest', 'tallow', 'talon', 'tame', 'tameless', 'tamer', 'tamper', 'tanarian', 'tangent', 'tangibl', 'tangl', 'tank', 'tankard', 'tantal', 'tantalisingli', 'tantum', 'taown', 'tap', 'tape', 'taper', 'tapestri', 'tapi', 'tappa', 'tar', 'taran', 'tardi', 'tardili', 'target', 'tarn', 'tarnish', 'tarpaulin', 'tarr', 'tarraco', 'tarri', 'tartan', 'tartari', 'tartaru', 'task', 'tast', 'tasti', 'tatter', 'tattl', 'taught', 'taunt', 'taut', 'tavern', 'taverni', 'tawdri', 'tawni', 'tax', 'taxi', 'teach', 'teacher', 'team', 'teapot', 'tear', 'tearin', 'teau', 'tech', 'technic', 'techniqu', 'tediou', 'tedious', 'tedium', 'teem', 'teeth', 'teetotum', 'tegean', 'teian', 'teio', 'telegraph', 'telegraphi', 'telepath', 'telepathi', 'telephon', 'telescop', 'tell', 'teller', 'tellin', 'tellurium', 'teloth', 'temoin', 'temp', 'temper', 'tempera', 'temperatur', 'tempest', 'tempestu', 'templ', 'templeton', 'tempo', 'tempor', 'tempora', 'temporari', 'temporarili', 'tempt', 'temptat', 'tenabl', 'tenac', 'tenaci', 'tenant', 'tenantless', 'tend', 'tendenc', 'tender', 'tenderest', 'tenderli', 'tendon', 'tendr', 'tendril', 'tenebr', 'tenebrarum', 'tenebri', 'tenement', 'tener', 'tenet', 'tenfold', 'tenoir', 'tenor', 'tenour', 'tens', 'tensest', 'tension', 'tent', 'tentacl', 'tenth', 'tenuiti', 'tenuou', 'tenur', 'teratolog', 'term', 'termin', 'ternatur', 'terra', 'terrac', 'terrain', 'terraqu', 'terren', 'terrestri', 'terribl', 'terrif', 'terrifi', 'terrifiedli', 'territori', 'terror', 'terrorist', 'tertiari', 'tertullian', 'tesoro', 'tessel', 'test', 'testamentari', 'testat', 'testifi', 'testimoni', 'tether', 'teufel', 'text', 'textilem', 'textur', 'thalarion', 'thame', 'thank', 'thankless', 'thanksgiv', 'thar', 'thatch', 'thaw', 'theatr', 'theatric', 'thee', 'theft', 'theme', 'themselv', 'thenc', 'thenceforward', 'theodatu', 'theodor', 'theolog', 'theophrastu', 'theoret', 'theori', 'theorist', 'theoriz', 'theosoph', 'theosophi', 'theosophist', 'thereabout', 'thereaft', 'therebi', 'therefor', 'therefrom', 'thereof', 'thereunto', 'therewith', 'theseu', 'thet', 'thi', 'thicken', 'thicker', 'thicket', 'thickli', 'thief', 'thiev', 'thigh', 'thine', 'thing', 'thingum', 'thingumajig', 'think', 'thinker', 'thinkin', 'thinli', 'thinner', 'thinnest', 'thirst', 'thirsti', 'thirstili', 'thirteen', 'thirteenth', 'thirti', 'thirtieth', 'thistl', 'thither', 'thoma', 'thompson', 'thonon', 'thorn', 'thorough', 'thoroughfar', 'thoroughli', 'thou', 'thought', 'thoughtless', 'thoughtlessli', 'thousand', 'thousandfold', 'thousandth', 'thraa', 'thrace', 'thrall', 'thran', 'thrash', 'thread', 'threat', 'threaten', 'threateningli', 'thresh', 'threshold', 'threw', 'thrice', 'thrifti', 'thrill', 'thrillingli', 'thro', 'throat', 'throati', 'throb', 'throckmorton', 'throe', 'throne', 'throng', 'throttl', 'throw', 'thrower', 'thrown', 'thrush', 'thrust', 'thu', 'thud', 'thul', 'thule', 'thumb', 'thump', 'thunder', 'thunderbolt', 'thunderstorm', 'thunderstricken', 'thunderstruck', 'thurai', 'thurber', 'thursday', 'thutti', 'thwart', 'thya', 'thyest', 'thyme', 'thyself', 'tiara', 'tiber', 'tibia', 'tick', 'ticket', 'tickl', 'tide', 'tie', 'tieck', 'tier', 'tierra', 'tiger', 'tight', 'tighten', 'tightli', 'tile', 'till', 'tillinghast', 'tilt', 'tilton', 'timber', 'timbr', 'timbreless', 'time', 'timepiec', 'timer', 'timid', 'timidli', 'timon', 'timor', 'tin', 'tinctur', 'ting', 'tingl', 'tini', 'tink', 'tinker', 'tinkl', 'tinsel', 'tint', 'tintern', 'tip', 'tippl', 'tippler', 'tipto', 'tirad', 'tire', 'tireless', 'tiresom', 'tissu', 'titan', 'titian', 'titil', 'titl', 'titter', 'titteringli', 'toad', 'toast', 'tobacco', 'tobacconist', 'tobey', 'toctor', 'today', 'todder', 'toe', 'toga', 'togeth', 'toil', 'toilet', 'toilsom', 'token', 'told', 'toledo', 'toler', 'toll', 'tom', 'tomahawk', 'tomb', 'tome', 'tommi', 'tomorrow', 'tompkin', 'ton', 'tonal', 'tone', 'tong', 'tongu', 'tonight', 'tonnerr', 'took', 'tool', 'tooth', 'toothpick', 'toper', 'topic', 'topmast', 'topmost', 'toppl', 'topsi', 'topsiturvi', 'torch', 'torchlight', 'tore', 'torment', 'tormentor', 'torn', 'tornado', 'torni', 'torpedo', 'torpor', 'torrent', 'torrenti', 'torso', 'tortois', 'tortuou', 'tortur', 'toss', 'total', 'totter', 'tottl', 'totum', 'tou', 'touch', 'tough', 'tour', 'tourist', 'tourniquet', 'tout', 'tow', 'tower', 'town', 'townsfolk', 'township', 'townspeopl', 'toy', 'trabe', 'trace', 'traceabl', 'traceri', 'track', 'tract', 'tractabl', 'trade', 'trader', 'tradin', 'tradit', 'traduc', 'traffic', 'tragedi', 'tragic', 'trail', 'train', 'trainer', 'traipsin', 'trait', 'traitor', 'tram', 'tramp', 'trampl', 'tran', 'tranc', 'tranquil', 'tranquilli', 'tranquillitati', 'transact', 'transcend', 'transcendent', 'transcrib', 'transcript', 'transfer', 'transfigur', 'transfix', 'transform', 'transfus', 'transgress', 'transient', 'transit', 'transitori', 'translat', 'transluc', 'transmiss', 'transmit', 'transmitt', 'transmut', 'transom', 'transpar', 'transport', 'transvers', 'traordinari', 'trap', 'trapper', 'trash', 'trashi', 'travel', 'travers', 'travesti', 'tray', 'treacher', 'treacheri', 'tread', 'treadin', 'treadmil', 'treason', 'treasur', 'treasuri', 'treat', 'treatis', 'treatment', 'trebl', 'tree', 'treeless', 'trefoil', 'trelli', 'trellic', 'trellis', 'tremain', 'trembl', 'tremblingli', 'tremend', 'tremont', 'tremor', 'tremul', 'trench', 'trencher', 'trend', 'trepid', 'trespass', 'tress', 'tressel', 'trever', 'tri', 'trial', 'triangl', 'triangular', 'triangularli', 'tribal', 'tribe', 'tribesmen', 'tribun', 'tribunaux', 'tribut', 'trice', 'trick', 'trickl', 'trident', 'triennial', 'trifl', 'trim', 'trinculo', 'triniti', 'trink', 'trinket', 'trinomi', 'trio', 'trip', 'tripl', 'tripod', 'tript', 'trismegistu', 'trite', 'trithemiu', 'triton', 'triumph', 'triumphal', 'triumphant', 'triumphantli', 'triumphatu', 'trivial', 'trod', 'trodden', 'troi', 'troisi', 'trolley', 'troof', 'troop', 'trooper', 'trophi', 'tropic', 'trot', 'trotter', 'troubl', 'troublesom', 'trough', 'trouser', 'trout', 'trove', 'trowel', 'truant', 'truce', 'truck', 'truckmen', 'true', 'truer', 'truest', 'truff', 'truism', 'truli', 'trump', 'trumperi', 'trumpet', 'trunk', 'trust', 'trusti', 'trustingli', 'truth', 'tryin', 'tubber', 'tube', 'tuberos', 'tuckermann', 'tudor', 'tuesday', 'tug', 'tuition', 'tulan', 'tulip', 'tulipiferum', 'tumbl', 'tumbler', 'tumuli', 'tumult', 'tumultu', 'tumulu', 'tune', 'tunic', 'tunnel', 'turban', 'turbar', 'turbid', 'turbul', 'turf', 'turgot', 'turk', 'turkey', 'turkish', 'turmoil', 'turn', 'turnip', 'turpitud', 'turquois', 'turret', 'turribl', 'turtl', 'turvi', 'tutelag', 'tutor', 'tutta', 'tutto', 'twa', 'twan', 'twattl', 'twelfth', 'twelv', 'twelvemonth', 'twenti', 'twentieth', 'twice', 'twig', 'twilight', 'twin', 'twine', 'twing', 'twinkl', 'twirl', 'twist', 'twitch', 'twitter', 'twofold', 'txld', 'tych', 'type', 'typhoid', 'typhu', 'typic', 'typifi', 'typographi', 'tyrann', 'tyranni', 'tyrant', 'tyro', 'ugli', 'ugolino', 'ulster', 'ulswat', 'ulterior', 'ulthar', 'ultim', 'ultima', 'ultimatum', 'ultra', 'ulul', 'ulyss', 'uman', 'umbrag', 'unab', 'unabl', 'unaccount', 'unaccustom', 'unacquaint', 'unact', 'unadapt', 'unadept', 'unaid', 'unal', 'unalien', 'unalloy', 'unalt', 'unalter', 'unamaz', 'unanim', 'unannounc', 'unanswer', 'unanticip', 'unappeas', 'unarm', 'unassist', 'unassum', 'unattain', 'unattend', 'unattened', 'unattract', 'unaussprechlichen', 'unauthoris', 'unavail', 'unavoid', 'unawar', 'unbalanc', 'unbear', 'unbecom', 'unbefriend', 'unbeheld', 'unbeliev', 'unbend', 'unbetray', 'unbidden', 'unbit', 'unblam', 'unbodi', 'unbonnet', 'unbound', 'unbridl', 'unbroken', 'unbrokenli', 'unbuckl', 'unburi', 'unburthen', 'uncag', 'uncalcul', 'uncanni', 'uncannili', 'uncarpet', 'uncas', 'unceas', 'unceasingli', 'uncertain', 'uncertainli', 'uncertainti', 'unchain', 'unchalleng', 'unchang', 'uncheck', 'unchequ', 'uncial', 'uncivil', 'uncl', 'unclassifi', 'unclean', 'unclear', 'unclos', 'uncloth', 'uncloud', 'uncomfort', 'uncommon', 'uncommonli', 'uncommun', 'uncommunic', 'uncomplain', 'uncomprehend', 'uncompromis', 'uncondit', 'uncongeni', 'unconnect', 'unconsci', 'uncontrol', 'unconvinc', 'uncorpor', 'uncount', 'uncouth', 'uncov', 'unction', 'uncultiv', 'uncurl', 'uncurtain', 'undam', 'undamag', 'undauntedli', 'undec', 'undecay', 'undecid', 'undecipher', 'undefil', 'undefin', 'undeni', 'underbrush', 'undercurr', 'underduk', 'undergo', 'undergon', 'underground', 'undergrowth', 'underl', 'underli', 'underlin', 'undermin', 'underneath', 'undersea', 'understand', 'understood', 'undertak', 'undertaken', 'underton', 'undertook', 'undervalu', 'underw', 'underwood', 'underworld', 'undesir', 'undestroy', 'undetermin', 'undevelop', 'undevi', 'undi', 'undid', 'undignifi', 'undimens', 'undiminish', 'undischarg', 'undiscov', 'undisturb', 'undivid', 'undoubt', 'undoubtedli', 'undream', 'undress', 'undu', 'undul', 'undulantli', 'undulatingli', 'unduli', 'unearth', 'unearthli', 'uneasi', 'uneasili', 'uneclips', 'uneduc', 'unel', 'unembalm', 'unemploy', 'unendur', 'unequ', 'unequal', 'unequivoc', 'uner', 'unerad', 'uneras', 'uneven', 'unevenli', 'unexampl', 'unexpect', 'unexpectedli', 'unexplain', 'unexplor', 'unfad', 'unfail', 'unfair', 'unfaith', 'unfalteringli', 'unfamiliar', 'unfashion', 'unfasten', 'unfathom', 'unfavour', 'unfeel', 'unfelt', 'unfinish', 'unfit', 'unflinch', 'unflinchingli', 'unfold', 'unforese', 'unforeseen', 'unforest', 'unforgotten', 'unform', 'unfortifi', 'unfortun', 'unfound', 'unfrequ', 'unfriend', 'unfruit', 'unfulfil', 'unfurnish', 'ungeni', 'ungenteel', 'unglov', 'ungovern', 'ungraci', 'ungrat', 'ungratitud', 'ungreet', 'unguard', 'unguess', 'unguid', 'unhallow', 'unhappi', 'unhappili', 'unharm', 'unhealthi', 'unheard', 'unheed', 'unherald', 'unhesit', 'unhesitatingli', 'unhewn', 'unhing', 'unholi', 'unhonour', 'unhurri', 'unhurt', 'unidentifi', 'uniform', 'unillumin', 'unimagin', 'unimpair', 'unimped', 'unimport', 'unimpress', 'unimprov', 'unincorpor', 'uninfect', 'uninform', 'uninjur', 'uninscrib', 'unintellig', 'uninterest', 'uninterrupt', 'uninterruptedli', 'union', 'uniqu', 'unison', 'unit', 'uniti', 'univers', 'unjust', 'unjustli', 'unkempt', 'unkind', 'unkindest', 'unknit', 'unknow', 'unknowingli', 'unknown', 'unlaid', 'unlament', 'unlaw', 'unlearn', 'unleash', 'unless', 'unlett', 'unlight', 'unlik', 'unlimit', 'unlin', 'unlit', 'unlock', 'unlook', 'unloosen', 'unlov', 'unloveli', 'unlucki', 'unmad', 'unman', 'unmanag', 'unmar', 'unmask', 'unmean', 'unmeasur', 'unment', 'unmention', 'unmingl', 'unmistak', 'unmitig', 'unmix', 'unmor', 'unmotiv', 'unmourn', 'unmov', 'unmuzzl', 'unnam', 'unnatur', 'unnecessari', 'unnecessarili', 'unnerv', 'unnot', 'unnumb', 'unobserv', 'unobstruct', 'unobtrus', 'unoccupi', 'unoffend', 'unopen', 'unoppos', 'unorgan', 'unorigin', 'unostentati', 'unpack', 'unpaid', 'unpaint', 'unparallel', 'unpardon', 'unparticip', 'unparticl', 'unpav', 'unpay', 'unpeopl', 'unperceiv', 'unperturb', 'unphilosoph', 'unplac', 'unplast', 'unpleas', 'unpleasantli', 'unplumb', 'unpollut', 'unpopular', 'unpractis', 'unpreced', 'unprejud', 'unprepar', 'unpretend', 'unprincipl', 'unproduct', 'unprofit', 'unpronounc', 'unprotect', 'unqualifi', 'unquench', 'unquensh', 'unquestion', 'unquiet', 'unravel', 'unreal', 'unreap', 'unreason', 'unrecogn', 'unrecognis', 'unredress', 'unrefresh', 'unrel', 'unrelax', 'unreliev', 'unrememb', 'unremit', 'unremittingli', 'unreprov', 'unrequit', 'unreservedli', 'unresist', 'unresistingli', 'unrespons', 'unrest', 'unrestrain', 'unriddl', 'unrig', 'unrol', 'unround', 'unruffl', 'unsaddl', 'unsaf', 'unsanct', 'unsanitari', 'unsatisfactori', 'unsatisfi', 'unscal', 'unscrew', 'unscrupul', 'unsearch', 'unseason', 'unseemli', 'unseen', 'unselfish', 'unsettl', 'unshackl', 'unshaken', 'unshar', 'unshaven', 'unsheath', 'unshod', 'unsightli', 'unskil', 'unsoci', 'unsoften', 'unsolv', 'unsought', 'unspeak', 'unspot', 'unstabl', 'unstain', 'unsteadi', 'unstrung', 'unsuccess', 'unsupport', 'unsuspect', 'unsympathet', 'untaint', 'untam', 'untarnish', 'untaught', 'unten', 'unthink', 'unthought', 'unti', 'untim', 'unting', 'untir', 'unto', 'untold', 'untouch', 'untoward', 'untrac', 'untract', 'untradit', 'untransmiss', 'untravel', 'untravers', 'untri', 'untrod', 'untrodden', 'untru', 'untun', 'untutor', 'unu', 'unus', 'unusu', 'unutter', 'unvari', 'unveil', 'unvers', 'unvisit', 'unvoc', 'unwarr', 'unwat', 'unwatch', 'unweari', 'unwelcom', 'unwhisper', 'unwholesom', 'unwieldi', 'unwil', 'unwillingli', 'unwind', 'unwink', 'unwis', 'unwithheld', 'unwittingli', 'unwomanli', 'unwont', 'unworthi', 'unwound', 'unwrap', 'unwrinkl', 'unyield', 'upbraid', 'updik', 'upheav', 'upholsteri', 'upland', 'uplift', 'upper', 'uppermost', 'uprais', 'uprear', 'upright', 'upris', 'uproar', 'uproari', 'uproot', 'upros', 'upset', 'upsid', 'upspring', 'upstair', 'upstart', 'upstream', 'upthrew', 'upton', 'upturn', 'upward', 'upwardli', 'urania', 'urban', 'urchin', 'urg', 'urgenc', 'urgent', 'urion', 'urn', 'usag', 'usband', 'use', 'useless', 'user', 'usher', 'uster', 'usual', 'usuri', 'usurp', 'utensil', 'utica', 'util', 'utilis', 'utilitarian', 'utmost', 'utter', 'utterli', 'uttermost', 'vacanc', 'vacant', 'vacantli', 'vacat', 'vacil', 'vacuo', 'vacuou', 'vacuum', 'vagabond', 'vagari', 'vagrant', 'vagu', 'vaguer', 'vaguest', 'vail', 'vain', 'vainli', 'valdemar', 'vale', 'valen', 'valenc', 'valent', 'valentinianu', 'valeriu', 'valet', 'valetudinarian', 'valiant', 'valiantli', 'valid', 'valis', 'valley', 'valor', 'valour', 'valu', 'valuabl', 'valueless', 'valv', 'vampir', 'vane', 'vanilla', 'vanish', 'vaniti', 'vankirk', 'vanni', 'vanquish', 'vantag', 'vaow', 'vapor', 'vapori', 'vapour', 'vari', 'variabl', 'varianc', 'variant', 'variat', 'varieg', 'varieti', 'variou', 'various', 'varnish', 'vascon', 'vase', 'vassal', 'vast', 'vaster', 'vastli', 'vathek', 'vaucanson', 'vault', 'vaunt', 'veal', 'veer', 'vega', 'veget', 'vehem', 'vehement', 'vehicl', 'veil', 'vein', 'vell', 'vellum', 'veloc', 'velour', 'velout', 'velvet', 'velveti', 'vener', 'venetian', 'veng', 'vengeanc', 'venial', 'venic', 'venir', 'venni', 'venom', 'vent', 'venter', 'ventil', 'ventum', 'ventur', 'venturesom', 'venu', 'verbal', 'verbatim', 'verborum', 'verbos', 'vercelliu', 'verdant', 'verdict', 'verdigri', 'verdur', 'verg', 'verhaeren', 'veri', 'veriest', 'verifi', 'verili', 'verit', 'verlain', 'vermicular', 'vermin', 'vernal', 'verney', 'vernunft', 'vers', 'versatil', 'versifi', 'version', 'vertic', 'vertigin', 'vertu', 'veru', 'verulam', 'ververt', 'vessel', 'vestibul', 'vestig', 'vestigi', 'vestment', 'vestur', 'veteran', 'vetu', 'veulent', 'vex', 'vexat', 'vext', 'viab', 'vial', 'viand', 'vibrat', 'vibratori', 'vibulanu', 'vicar', 'vice', 'vicin', 'viciou', 'vicious', 'vicissitud', 'victim', 'victor', 'victori', 'victoria', 'victorian', 'victual', 'vida', 'vidocq', 'vienna', 'view', 'viewless', 'vigil', 'vigilia', 'vignet', 'vigor', 'vigour', 'viii', 'vile', 'vilest', 'vill', 'villa', 'villag', 'villain', 'villan', 'villon', 'vindict', 'vine', 'vinegar', 'vingt', 'vini', 'vinou', 'vintag', 'viol', 'violat', 'violenc', 'violent', 'violet', 'viper', 'virgil', 'virgin', 'virginia', 'virginian', 'virtu', 'virtual', 'virtuosi', 'virtuoso', 'virtuou', 'virul', 'visag', 'viscera', 'viscou', 'viscount', 'vise', 'visibl', 'vision', 'visionari', 'visit', 'visitarem', 'visitor', 'viso', 'vist', 'vista', 'visual', 'visualis', 'vital', 'vitig', 'vivac', 'vivaci', 'vivat', 'vivid', 'vividli', 'vivifi', 'vocal', 'vocant', 'vocat', 'voce', 'vocifer', 'voic', 'voiceless', 'void', 'voil', 'voissart', 'volcan', 'volcano', 'volit', 'volubl', 'volum', 'volumin', 'voluntari', 'voluntarili', 'voluptu', 'volut', 'vomit', 'vondervotteimitti', 'vondervotteimittiss', 'voodoo', 'vool', 'voorish', 'vorac', 'vord', 'vortex', 'vortic', 'vospicu', 'votari', 'vou', 'vouch', 'vouchsaf', 'vougeot', 'vow', 'vowel', 'voyag', 'vrai', 'vrow', 'vulgar', 'vulgarli', 'vull', 'vulner', 'vultur', 'vurrgh', 'waddl', 'wade', 'wafer', 'waft', 'wag', 'wage', 'wager', 'waggeri', 'waggon', 'wagon', 'wail', 'wain', 'wainscot', 'waist', 'waistband', 'waistcoat', 'wait', 'waiter', 'wake', 'wakefield', 'waken', 'waker', 'walakea', 'waldman', 'wale', 'walk', 'walker', 'wall', 'wallachia', 'wallenstein', 'wallet', 'walnut', 'walter', 'walton', 'waltz', 'waltzer', 'wan', 'wand', 'wander', 'wane', 'wanli', 'want', 'wanta', 'wanton', 'wantonli', 'war', 'warbl', 'ward', 'ware', 'warehous', 'warfar', 'wari', 'warlik', 'warm', 'warmer', 'warmest', 'warmli', 'warmth', 'warn', 'warp', 'warrant', 'warren', 'warrior', 'warship', 'warton', 'wash', 'washington', 'wasn', 'wast', 'watch', 'watchdog', 'watcher', 'watchin', 'watchman', 'watchword', 'water', 'watercolor', 'waterfal', 'waterfront', 'wateri', 'waterlin', 'waterman', 'watermark', 'watson', 'wave', 'waveless', 'waver', 'wax', 'waxen', 'way', 'wayfar', 'waylaid', 'waylay', 'wayward', 'weak', 'weaken', 'weaker', 'wealth', 'wealthi', 'wealthier', 'wealthiest', 'wean', 'weapon', 'wear', 'wearer', 'weari', 'wearili', 'wearin', 'weasel', 'weather', 'weav', 'web', 'webb', 'wed', 'weddin', 'wedg', 'wednesday', 'weed', 'weedi', 'week', 'weekday', 'weekli', 'weel', 'weep', 'weigh', 'weight', 'weighti', 'weightier', 'weilburg', 'weird', 'weirder', 'weirdli', 'welcom', 'weld', 'welfar', 'welt', 'welter', 'went', 'wept', 'weren', 'werewolv', 'weri', 'wert', 'werter', 'wesley', 'west', 'wester', 'western', 'westminst', 'westmorland', 'westward', 'westwardli', 'wgah', 'whale', 'whaler', 'whang', 'whar', 'wharf', 'wharv', 'whateley', 'whatev', 'whatsoev', 'wheat', 'wheaton', 'wheel', 'wheeler', 'wheez', 'whelm', 'whenc', 'whenev', 'wherea', 'whereabout', 'whereat', 'wherebi', 'wherefor', 'whereof', 'whereon', 'whereto', 'whereunto', 'wherev', 'wherewith', 'whichev', 'whichway', 'whiff', 'whilst', 'whim', 'whimper', 'whimsic', 'whine', 'whinni', 'whip', 'whippl', 'whippoorwil', 'whir', 'whirl', 'whirlpool', 'whirlwind', 'whisker', 'whiskey', 'whisper', 'whisperingli', 'whist', 'whistl', 'whit', 'white', 'whiten', 'whitewash', 'whithersoev', 'whitish', 'whitman', 'whizz', 'wholesal', 'wholesom', 'wholli', 'whomsoev', 'whoop', 'wick', 'wicked', 'wicker', 'widdi', 'wide', 'widen', 'wider', 'widespread', 'widest', 'widow', 'width', 'wield', 'wielder', 'wife', 'wifeless', 'wiggin', 'wilbur', 'wilcox', 'wild', 'wilder', 'wildest', 'wildli', 'wilhelm', 'wilili', 'wilki', 'wilkin', 'willi', 'william', 'williamson', 'willin', 'willingli', 'willow', 'willowi', 'wilson', 'wilt', 'wimbl', 'win', 'wind', 'windborn', 'windenough', 'winder', 'windham', 'windless', 'windmil', 'window', 'windowless', 'windowlessli', 'windshield', 'windsor', 'windswept', 'windward', 'wine', 'wing', 'wink', 'winnebago', 'winter', 'wintri', 'wipe', 'wire', 'wireless', 'wiri', 'wisconsin', 'wisdom', 'wise', 'wiser', 'wisest', 'wish', 'wisp', 'wist', 'wit', 'witch', 'witchcraft', 'withal', 'withaout', 'withdraw', 'withdrawn', 'withdrew', 'wither', 'withheld', 'withhold', 'withstand', 'witti', 'wittic', 'wive', 'wizard', 'wizardri', 'wizen', 'woe', 'woeful', 'woke', 'wolejko', 'wolf', 'wolfish', 'wolv', 'woman', 'womanhood', 'womanish', 'womb', 'women', 'womenfolk', 'wonder', 'wonderin', 'wonderingli', 'wondrou', 'wont', 'wood', 'wooden', 'woodland', 'woodvil', 'woodwork', 'woof', 'wool', 'woollen', 'woolwich', 'word', 'wordi', 'wordless', 'wordlessli', 'wordsworth', 'wore', 'work', 'worker', 'workman', 'workmanship', 'workmen', 'world', 'worldli', 'worm', 'wormi', 'wormiu', 'worn', 'worri', 'wors', 'worship', 'worshipp', 'worst', 'worth', 'worthi', 'worthier', 'worthiest', 'worthili', 'worthless', 'wouldn', 'wouldst', 'wound', 'wove', 'woven', 'wraith', 'wrap', 'wrapper', 'wrapt', 'wrath', 'wreak', 'wreath', 'wreck', 'wreckag', 'wrecker', 'wrench', 'wrest', 'wrestl', 'wretch', 'wretched', 'wretchedli', 'wriggl', 'wring', 'wrinkl', 'wrist', 'writ', 'write', 'writer', 'writh', 'written', 'wrong', 'wrote', 'wrought', 'wrung', 'wudn', 'wuss', 'wust', 'wxxd', 'wyatt', 'xari', 'xdixu', 'xerx', 'xiith', 'xnce', 'xnli', 'xura', 'yaahhhh', 'yacht', 'yage', 'yank', 'yanke', 'yard', 'yarn', 'yath', 'yawn', 'year', 'yearn', 'yell', 'yeller', 'yellow', 'yellowish', 'yelp', 'yeoman', 'yesterday', 'yew', 'yield', 'yoke', 'yonder', 'yore', 'york', 'yorkshir', 'yorktown', 'young', 'younger', 'youngest', 'youngish', 'youngster', 'youngun', 'yourselv', 'yourzelf', 'youth', 'yule', 'yuletid', 'yxur', 'zadok', 'zaiat', 'zaimi', 'zair', 'zann', 'zath', 'zeal', 'zealand', 'zebub', 'zebulon', 'zechariah', 'zenith', 'zenobia', 'zephyr', 'zerubbabel', 'zest', 'zide', 'zigzag', 'zimmer', 'zimmerman', 'zobna', 'zodiac', 'zokkar', 'zone', 'zopyru', 'zorri', 'zubmizzion', 'zuro']\n",
      "[[0. 0. 0. ... 0. 0. 0.]\n",
      " [0. 0. 0. ... 0. 0. 0.]\n",
      " [0. 0. 0. ... 0. 0. 0.]\n",
      " ...\n",
      " [0. 0. 0. ... 0. 0. 0.]\n",
      " [0. 0. 0. ... 0. 0. 0.]\n",
      " [0. 0. 0. ... 0. 0. 0.]] (15663, 13798)\n"
     ]
    }
   ],
   "source": [
    "vectorizer = TfidfVectorizer(stop_words=my_stop_words)\n",
    "X = vectorizer.fit_transform(corpus)\n",
    "features=vectorizer.get_feature_names()\n",
    "X=X.toarray()\n",
    "print(len(features),features)\n",
    "print(X,X.shape)"
   ]
  },
  {
   "cell_type": "markdown",
   "metadata": {
    "colab_type": "text",
    "id": "bKEU5ywsydxI"
   },
   "source": [
    "# **PCA**"
   ]
  },
  {
   "cell_type": "code",
   "execution_count": 0,
   "metadata": {
    "colab": {},
    "colab_type": "code",
    "id": "Q18bNS_Dy205"
   },
   "outputs": [],
   "source": [
    "from sklearn.decomposition import PCA\n",
    "pca = PCA(n_components=500)\n",
    "X=pca.fit_transform(X)"
   ]
  },
  {
   "cell_type": "markdown",
   "metadata": {
    "colab_type": "text",
    "id": "JnYh6_N8cmzH"
   },
   "source": [
    "# **Test and Validation**"
   ]
  },
  {
   "cell_type": "code",
   "execution_count": 0,
   "metadata": {
    "colab": {
     "base_uri": "https://localhost:8080/",
     "height": 289
    },
    "colab_type": "code",
    "id": "UM_wZLVxPdzQ",
    "outputId": "2997b651-3ad7-459f-937f-dd9db959254c"
   },
   "outputs": [
    {
     "name": "stdout",
     "output_type": "stream",
     "text": [
      "0        EAP\n",
      "1        EAP\n",
      "2        EAP\n",
      "3        MWS\n",
      "4        MWS\n",
      "        ... \n",
      "12495    MWS\n",
      "12496    MWS\n",
      "12497    EAP\n",
      "12498    MWS\n",
      "12499    EAP\n",
      "Name: author, Length: 12500, dtype: object\n",
      "Train data shape:-  (12500, 500)\n",
      "Train labels shape:-  (12500,)\n",
      "Test data shape:-  (3163, 500)\n",
      "Test labels shape:-  (3163,)\n"
     ]
    }
   ],
   "source": [
    "print(ds1.iloc[:12500,2])\n",
    "\n",
    "train_data=X[:12500]\n",
    "test_data=X[12500:]\n",
    "\n",
    "train_labels=ds1.iloc[:12500,2]\n",
    "test_labels=ds1.iloc[12500:,2]\n",
    "\n",
    "\n",
    "print(\"Train data shape:- \",train_data.shape)\n",
    "print(\"Train labels shape:- \",train_labels.shape)\n",
    "\n",
    "print(\"Test data shape:- \",test_data.shape)\n",
    "print(\"Test labels shape:- \",test_labels.shape)\n"
   ]
  },
  {
   "cell_type": "markdown",
   "metadata": {
    "colab_type": "text",
    "id": "rDvAcsZ4Wha6"
   },
   "source": [
    "# **SVM**"
   ]
  },
  {
   "cell_type": "markdown",
   "metadata": {
    "colab_type": "text",
    "id": "BfIPQBra6Z9c"
   },
   "source": [
    "SVM is a supervised machine learning algorithm which can be used for classification or regression problems. It uses a technique called the kernel trick to transform your data and then based on these transformations it finds an optimal boundary between the possible outputs. Simply put, it does some extremely complex data transformations, then figures out how to seperate your data based on the labels or outputs you've defined."
   ]
  },
  {
   "cell_type": "markdown",
   "metadata": {
    "colab_type": "text",
    "id": "o2uaA8OhaII9"
   },
   "source": [
    "## **Kernel rbf**"
   ]
  },
  {
   "cell_type": "code",
   "execution_count": 0,
   "metadata": {
    "colab": {
     "base_uri": "https://localhost:8080/",
     "height": 34
    },
    "colab_type": "code",
    "id": "yztunsraaRln",
    "outputId": "7ceba654-bf96-4825-a12d-7f8b8d74a749"
   },
   "outputs": [
    {
     "data": {
      "text/plain": [
       "array(['EAP', 'EAP', 'HPL', ..., 'EAP', 'HPL', 'MWS'], dtype=object)"
      ]
     },
     "execution_count": 15,
     "metadata": {
      "tags": []
     },
     "output_type": "execute_result"
    }
   ],
   "source": [
    "clf = svm.SVC()\n",
    "clf.fit(train_data, train_labels)\n",
    "prediction=clf.predict(test_data)\n",
    "prediction"
   ]
  },
  {
   "cell_type": "code",
   "execution_count": 0,
   "metadata": {
    "colab": {
     "base_uri": "https://localhost:8080/",
     "height": 187
    },
    "colab_type": "code",
    "id": "D7rlwmWeaSkH",
    "outputId": "590e8d15-1923-477c-bdd1-20b3b5fd12f4"
   },
   "outputs": [
    {
     "name": "stdout",
     "output_type": "stream",
     "text": [
      "accuracy score ->  0.7372747391716724\n",
      "\n",
      "\n",
      "F1 socre ->  [0.75267284 0.72576832 0.72428884]\n",
      "\n",
      "\n",
      "Confusion Matrix ->\n",
      " [[1056  103  126]\n",
      " [ 224  614   75]\n",
      " [ 241   62  662]]\n"
     ]
    }
   ],
   "source": [
    "a_c=accuracy_score(test_labels,prediction)\n",
    "f_1=f1_score(test_labels, prediction, average=None)\n",
    "c_m=confusion_matrix(test_labels, prediction)\n",
    "print(\"accuracy score -> \", a_c)\n",
    "print(\"\\n\\nF1 socre -> \", f_1)\n",
    "print(\"\\n\\nConfusion Matrix ->\\n\", c_m)"
   ]
  },
  {
   "cell_type": "markdown",
   "metadata": {
    "colab_type": "text",
    "id": "MVeh8a3sWlMe"
   },
   "source": [
    "## **Linear kernel**\n",
    "\n",
    "**C=1**"
   ]
  },
  {
   "cell_type": "code",
   "execution_count": 0,
   "metadata": {
    "colab": {
     "base_uri": "https://localhost:8080/",
     "height": 34
    },
    "colab_type": "code",
    "id": "2D20mZJ_FaUB",
    "outputId": "b0c9cabf-cf04-43f9-fe1d-bc6a828380fe"
   },
   "outputs": [
    {
     "data": {
      "text/plain": [
       "array(['EAP', 'EAP', 'HPL', ..., 'EAP', 'HPL', 'MWS'], dtype=object)"
      ]
     },
     "execution_count": 20,
     "metadata": {
      "tags": []
     },
     "output_type": "execute_result"
    }
   ],
   "source": [
    "clf = svm.SVC(kernel='linear',C=1)\n",
    "clf.fit(train_data, train_labels)\n",
    "prediction=clf.predict(test_data)\n",
    "prediction"
   ]
  },
  {
   "cell_type": "code",
   "execution_count": 0,
   "metadata": {
    "colab": {
     "base_uri": "https://localhost:8080/",
     "height": 187
    },
    "colab_type": "code",
    "id": "iDNTv2bbnCvz",
    "outputId": "34d22c21-9c8d-441b-d18b-f2f1382140e4"
   },
   "outputs": [
    {
     "name": "stdout",
     "output_type": "stream",
     "text": [
      "accuracy score ->  0.710085361998103\n",
      "\n",
      "\n",
      "F1 socre ->  [0.73080931 0.6827262  0.7025788 ]\n",
      "\n",
      "\n",
      "Confusion Matrix ->\n",
      " [[1052  129  104]\n",
      " [ 269  581   63]\n",
      " [ 273   79  613]]\n"
     ]
    }
   ],
   "source": [
    "a_c=accuracy_score(test_labels,prediction)\n",
    "f_1=f1_score(test_labels, prediction, average=None)\n",
    "c_m=confusion_matrix(test_labels, prediction)\n",
    "print(\"accuracy score -> \", a_c)\n",
    "print(\"\\n\\nF1 socre -> \", f_1)\n",
    "print(\"\\n\\nConfusion Matrix ->\\n\", c_m)"
   ]
  },
  {
   "cell_type": "markdown",
   "metadata": {
    "colab_type": "text",
    "id": "dQc1AG6cXzu6"
   },
   "source": [
    "**C=10**"
   ]
  },
  {
   "cell_type": "code",
   "execution_count": 0,
   "metadata": {
    "colab": {
     "base_uri": "https://localhost:8080/",
     "height": 34
    },
    "colab_type": "code",
    "id": "haLGVuhzr7cX",
    "outputId": "34c43a08-2296-49a7-df8f-3075c92cfa38"
   },
   "outputs": [
    {
     "data": {
      "text/plain": [
       "array(['EAP', 'EAP', 'HPL', ..., 'EAP', 'HPL', 'MWS'], dtype=object)"
      ]
     },
     "execution_count": 22,
     "metadata": {
      "tags": []
     },
     "output_type": "execute_result"
    }
   ],
   "source": [
    "clf = svm.SVC(kernel='linear',C=10)\n",
    "clf.fit(train_data, train_labels)\n",
    "prediction=clf.predict(test_data)\n",
    "prediction"
   ]
  },
  {
   "cell_type": "code",
   "execution_count": 0,
   "metadata": {
    "colab": {
     "base_uri": "https://localhost:8080/",
     "height": 187
    },
    "colab_type": "code",
    "id": "5To6oeyqZq7F",
    "outputId": "6b985c80-a949-45f6-f3a6-6b6a8561bb69"
   },
   "outputs": [
    {
     "name": "stdout",
     "output_type": "stream",
     "text": [
      "accuracy score ->  0.7243123616819476\n",
      "\n",
      "\n",
      "F1 socre ->  [0.73281882 0.71356218 0.72210066]\n",
      "\n",
      "\n",
      "Confusion Matrix ->\n",
      " [[997 155 133]\n",
      " [209 634  70]\n",
      " [230  75 660]]\n"
     ]
    }
   ],
   "source": [
    "a_c=accuracy_score(test_labels,prediction)\n",
    "f_1=f1_score(test_labels, prediction, average=None)\n",
    "c_m=confusion_matrix(test_labels, prediction)\n",
    "print(\"accuracy score -> \", a_c)\n",
    "print(\"\\n\\nF1 socre -> \", f_1)\n",
    "print(\"\\n\\nConfusion Matrix ->\\n\", c_m)"
   ]
  },
  {
   "cell_type": "markdown",
   "metadata": {
    "colab_type": "text",
    "id": "vwNHj9GJZvOf"
   },
   "source": [
    "## **Kernel Polynomial**"
   ]
  },
  {
   "cell_type": "code",
   "execution_count": 0,
   "metadata": {
    "colab": {
     "base_uri": "https://localhost:8080/",
     "height": 34
    },
    "colab_type": "code",
    "id": "DVImAi2jZ8i1",
    "outputId": "5ca61d9a-f8a0-4585-a980-30999d24c818"
   },
   "outputs": [
    {
     "data": {
      "text/plain": [
       "array(['EAP', 'EAP', 'EAP', ..., 'EAP', 'EAP', 'EAP'], dtype=object)"
      ]
     },
     "execution_count": 25,
     "metadata": {
      "tags": []
     },
     "output_type": "execute_result"
    }
   ],
   "source": [
    "clf = svm.SVC(kernel='poly',C=1)\n",
    "clf.fit(train_data, train_labels)\n",
    "prediction=clf.predict(test_data)\n",
    "prediction"
   ]
  },
  {
   "cell_type": "code",
   "execution_count": 0,
   "metadata": {
    "colab": {
     "base_uri": "https://localhost:8080/",
     "height": 187
    },
    "colab_type": "code",
    "id": "YLepuoC3Z8w2",
    "outputId": "b6a98e13-0514-49eb-b556-e54dc04482ff"
   },
   "outputs": [
    {
     "name": "stdout",
     "output_type": "stream",
     "text": [
      "accuracy score ->  0.5165981662978185\n",
      "\n",
      "\n",
      "F1 socre ->  [0.61619073 0.32642916 0.40092166]\n",
      "\n",
      "\n",
      "Confusion Matrix ->\n",
      " [[1176   54   55]\n",
      " [ 695  197   21]\n",
      " [ 661   43  261]]\n"
     ]
    }
   ],
   "source": [
    "a_c=accuracy_score(test_labels,prediction)\n",
    "f_1=f1_score(test_labels, prediction, average=None)\n",
    "c_m=confusion_matrix(test_labels, prediction)\n",
    "print(\"accuracy score -> \", a_c)\n",
    "print(\"\\n\\nF1 socre -> \", f_1)\n",
    "print(\"\\n\\nConfusion Matrix ->\\n\", c_m)"
   ]
  },
  {
   "cell_type": "code",
   "execution_count": 0,
   "metadata": {
    "colab": {},
    "colab_type": "code",
    "id": "VnCqWFKHGQWk"
   },
   "outputs": [],
   "source": []
  }
 ],
 "metadata": {
  "accelerator": "GPU",
  "colab": {
   "collapsed_sections": [],
   "name": "assi_q5",
   "provenance": []
  },
  "kernelspec": {
   "display_name": "Python 3",
   "language": "python",
   "name": "python3"
  },
  "language_info": {
   "codemirror_mode": {
    "name": "ipython",
    "version": 3
   },
   "file_extension": ".py",
   "mimetype": "text/x-python",
   "name": "python",
   "nbconvert_exporter": "python",
   "pygments_lexer": "ipython3",
   "version": "3.6.8"
  }
 },
 "nbformat": 4,
 "nbformat_minor": 1
}
