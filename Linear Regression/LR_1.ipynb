{
  "nbformat": 4,
  "nbformat_minor": 0,
  "metadata": {
    "colab": {
      "name": "assi2_q3",
      "provenance": [],
      "collapsed_sections": []
    },
    "kernelspec": {
      "name": "python3",
      "display_name": "Python 3"
    }
  },
  "cells": [
    {
      "cell_type": "markdown",
      "metadata": {
        "id": "5Id1340w728W",
        "colab_type": "text"
      },
      "source": [
        "# **Q3. Linear Regression**"
      ]
    },
    {
      "cell_type": "code",
      "metadata": {
        "id": "nhDibiKt4Bes",
        "colab_type": "code",
        "outputId": "5aa777d0-269b-40c6-e4df-cda2dafabb49",
        "colab": {
          "base_uri": "https://localhost:8080/",
          "height": 122
        }
      },
      "source": [
        "from google.colab import drive \n",
        "drive.mount('/content/drive')"
      ],
      "execution_count": 0,
      "outputs": [
        {
          "output_type": "stream",
          "text": [
            "Go to this URL in a browser: https://accounts.google.com/o/oauth2/auth?client_id=947318989803-6bn6qk8qdgf4n4g3pfee6491hc0brc4i.apps.googleusercontent.com&redirect_uri=urn%3aietf%3awg%3aoauth%3a2.0%3aoob&response_type=code&scope=email%20https%3a%2f%2fwww.googleapis.com%2fauth%2fdocs.test%20https%3a%2f%2fwww.googleapis.com%2fauth%2fdrive%20https%3a%2f%2fwww.googleapis.com%2fauth%2fdrive.photos.readonly%20https%3a%2f%2fwww.googleapis.com%2fauth%2fpeopleapi.readonly\n",
            "\n",
            "Enter your authorization code:\n",
            "··········\n",
            "Mounted at /content/drive\n"
          ],
          "name": "stdout"
        }
      ]
    },
    {
      "cell_type": "markdown",
      "metadata": {
        "id": "dXAS2rWdT4f2",
        "colab_type": "text"
      },
      "source": [
        "### **Reading Data from CSV**"
      ]
    },
    {
      "cell_type": "markdown",
      "metadata": {
        "id": "ABIcIPR8Xn3U",
        "colab_type": "text"
      },
      "source": [
        "Pandas is the most popular python library that is used for data analysis. It provides highly optimized performance with back-end source code is purely written in C or Python.\n",
        "\n"
      ]
    },
    {
      "cell_type": "code",
      "metadata": {
        "id": "LJG1xT3VTLog",
        "colab_type": "code",
        "outputId": "cbd96175-bd75-4740-e171-44d04fc72435",
        "colab": {
          "base_uri": "https://localhost:8080/",
          "height": 255
        }
      },
      "source": [
        "import pandas as pd\n",
        "ds1=pd.read_csv(\"/content/drive/My Drive/Datasets/Question-3/airfoil.csv\",header=None)\n",
        "print(ds1)"
      ],
      "execution_count": 0,
      "outputs": [
        {
          "output_type": "stream",
          "text": [
            "           0     1       2     3         4        5\n",
            "0     8000.0   4.0  0.2286  39.6  0.004738  113.129\n",
            "1     6300.0   0.0  0.0508  55.5  0.000762  132.796\n",
            "2      400.0   4.0  0.2286  55.5  0.004286  123.274\n",
            "3     1250.0  15.4  0.0508  39.6  0.028259  126.743\n",
            "4      800.0   7.3  0.2286  39.6  0.012348  126.299\n",
            "...      ...   ...     ...   ...       ...      ...\n",
            "1197  3150.0   5.4  0.1524  31.7  0.005255  118.291\n",
            "1198  2500.0  19.7  0.0508  39.6  0.036484  116.184\n",
            "1199   800.0   2.0  0.2286  55.5  0.003135  128.492\n",
            "1200  3150.0   3.3  0.1016  71.3  0.002028  132.114\n",
            "1201   630.0   4.0  0.3048  39.6  0.005796  131.073\n",
            "\n",
            "[1202 rows x 6 columns]\n"
          ],
          "name": "stdout"
        }
      ]
    },
    {
      "cell_type": "markdown",
      "metadata": {
        "id": "IdcMCPRLW05u",
        "colab_type": "text"
      },
      "source": [
        "## **Converting to numpy**"
      ]
    },
    {
      "cell_type": "markdown",
      "metadata": {
        "id": "mGtcpZ1rYS3x",
        "colab_type": "text"
      },
      "source": [
        "Numpy is a general-purpose array-processing package. It provides a high-performance multidimensional array object, and tools for working with these arrays. It is the fundamental package for scientific computing with Python.\n",
        "Besides its obvious scientific uses, Numpy can also be used as an efficient multi-dimensional container of generic data"
      ]
    },
    {
      "cell_type": "code",
      "metadata": {
        "id": "0TPX14H7UcGX",
        "colab_type": "code",
        "outputId": "4444e1ef-e235-4526-944c-ab428af2239d",
        "colab": {
          "base_uri": "https://localhost:8080/",
          "height": 136
        }
      },
      "source": [
        "import numpy as np\n",
        "train_num=ds1.iloc[:,:5].to_numpy() \n",
        "train_labeling=ds1.iloc[:,5:6].to_numpy()\n",
        "train_num"
      ],
      "execution_count": 0,
      "outputs": [
        {
          "output_type": "execute_result",
          "data": {
            "text/plain": [
              "array([[8.00000e+03, 4.00000e+00, 2.28600e-01, 3.96000e+01, 4.73801e-03],\n",
              "       [6.30000e+03, 0.00000e+00, 5.08000e-02, 5.55000e+01, 7.61930e-04],\n",
              "       [4.00000e+02, 4.00000e+00, 2.28600e-01, 5.55000e+01, 4.28620e-03],\n",
              "       ...,\n",
              "       [8.00000e+02, 2.00000e+00, 2.28600e-01, 5.55000e+01, 3.13525e-03],\n",
              "       [3.15000e+03, 3.30000e+00, 1.01600e-01, 7.13000e+01, 2.02822e-03],\n",
              "       [6.30000e+02, 4.00000e+00, 3.04800e-01, 3.96000e+01, 5.79636e-03]])"
            ]
          },
          "metadata": {
            "tags": []
          },
          "execution_count": 3
        }
      ]
    },
    {
      "cell_type": "markdown",
      "metadata": {
        "id": "n_U_VLHxW8IK",
        "colab_type": "text"
      },
      "source": [
        "## **Feature Scaling**"
      ]
    },
    {
      "cell_type": "markdown",
      "metadata": {
        "id": "Rqjcr83le_Qg",
        "colab_type": "text"
      },
      "source": [
        "Feature Scaling is a technique to standardize the independent features present in the data in a fixed range. It is performed during the data pre-processing to handle highly varying magnitudes or values or units."
      ]
    },
    {
      "cell_type": "markdown",
      "metadata": {
        "id": "6NID8nlffETP",
        "colab_type": "text"
      },
      "source": [
        "**MinMaxScaler:-**\n",
        "Transform features by scaling each feature to a given range. This estimator scales and translates each feature individually such that it is in the given range on the training set.\n"
      ]
    },
    {
      "cell_type": "code",
      "metadata": {
        "id": "r_gMU4cfV9CA",
        "colab_type": "code",
        "outputId": "48026e97-eceb-4004-9cee-0718e4debb37",
        "colab": {
          "base_uri": "https://localhost:8080/",
          "height": 187
        }
      },
      "source": [
        "from sklearn.preprocessing import MinMaxScaler\n",
        "scaler = MinMaxScaler()\n",
        "scaler.fit(train_num)\n",
        "\n",
        "# print(scaler.data_max_)\n",
        "\n",
        "train_num=scaler.transform(train_num)\n",
        "print(\" After scaling:\\n\\n\\n\",train_num)\n"
      ],
      "execution_count": 0,
      "outputs": [
        {
          "output_type": "stream",
          "text": [
            " After scaling:\n",
            "\n",
            "\n",
            " [[0.39393939 0.18018018 0.72727273 0.19949495 0.07476783]\n",
            " [0.30808081 0.         0.09090909 0.6010101  0.00622727]\n",
            " [0.01010101 0.18018018 0.72727273 0.6010101  0.06697943]\n",
            " ...\n",
            " [0.03030303 0.09009009 0.72727273 0.6010101  0.04713909]\n",
            " [0.1489899  0.14864865 0.27272727 1.         0.02805586]\n",
            " [0.02171717 0.18018018 1.         0.19949495 0.0930119 ]]\n"
          ],
          "name": "stdout"
        }
      ]
    },
    {
      "cell_type": "markdown",
      "metadata": {
        "id": "K7LtWEGoWk25",
        "colab_type": "text"
      },
      "source": [
        "## **Appending ones**\n",
        "Since we are trying to fit the hyper-plane to represent our data. And to represent a hyperplane we have to append a columns having all one's"
      ]
    },
    {
      "cell_type": "code",
      "metadata": {
        "id": "DhW3YUGuWCYU",
        "colab_type": "code",
        "outputId": "200a9304-f349-476c-9456-2e3e8f3df015",
        "colab": {
          "base_uri": "https://localhost:8080/",
          "height": 136
        }
      },
      "source": [
        "ds=pd.DataFrame(np.ones((ds1.shape[0],), dtype=int))\n",
        "n=ds.to_numpy()\n",
        "print(np.append(n, train_num, axis=1))\n",
        "train_num=np.append(n, train_num, axis=1)"
      ],
      "execution_count": 0,
      "outputs": [
        {
          "output_type": "stream",
          "text": [
            "[[1.         0.39393939 0.18018018 0.72727273 0.19949495 0.07476783]\n",
            " [1.         0.30808081 0.         0.09090909 0.6010101  0.00622727]\n",
            " [1.         0.01010101 0.18018018 0.72727273 0.6010101  0.06697943]\n",
            " ...\n",
            " [1.         0.03030303 0.09009009 0.72727273 0.6010101  0.04713909]\n",
            " [1.         0.1489899  0.14864865 0.27272727 1.         0.02805586]\n",
            " [1.         0.02171717 0.18018018 1.         0.19949495 0.0930119 ]]\n"
          ],
          "name": "stdout"
        }
      ]
    },
    {
      "cell_type": "code",
      "metadata": {
        "id": "arMK-jwJlZH-",
        "colab_type": "code",
        "outputId": "1039d217-56ec-474b-c8e4-953075d6b304",
        "colab": {
          "base_uri": "https://localhost:8080/",
          "height": 34
        }
      },
      "source": [
        "train_data=train_num[:900,:]\n",
        "train_labels=train_labeling[:900]\n",
        "\n",
        "test_data=train_num[900:,:]\n",
        "test_labels=train_labeling[900:]\n",
        "test_labels.shape\n"
      ],
      "execution_count": 0,
      "outputs": [
        {
          "output_type": "execute_result",
          "data": {
            "text/plain": [
              "(302, 1)"
            ]
          },
          "metadata": {
            "tags": []
          },
          "execution_count": 6
        }
      ]
    },
    {
      "cell_type": "markdown",
      "metadata": {
        "id": "IoCyy71jXHhX",
        "colab_type": "text"
      },
      "source": [
        "# **Linear Regression**"
      ]
    },
    {
      "cell_type": "markdown",
      "metadata": {
        "id": "Pn2iDbaIkN6K",
        "colab_type": "text"
      },
      "source": [
        "**Cost Function:-**\n",
        "\n",
        "We need to minimize the cost function:\n",
        "\n",
        "$ J(θ_1,θ_2)=(1/2m) ∑(h_0 x(i)−y(i))^2 $\n",
        "\n",
        "Now we calculate the derivatives and have:\n",
        "\n",
        "$ \\frac{∂} {∂θ} J(θ_0,θ_1)=(1/m) ∑(h_θ(x(i))−y(i)) $ \n",
        "\n",
        "New theta will be:\n",
        "\n",
        "$ θ_i = θ_i − α \\frac{∂} {∂θ_i} J(θ_0,θ_1) $\n",
        "\n",
        "**Mean squared error:**\n",
        "\n",
        "It is simply the average of the square of the difference between the original values and the predicted values.\n"
      ]
    },
    {
      "cell_type": "code",
      "metadata": {
        "id": "1vseFq3iNygg",
        "colab_type": "code",
        "outputId": "5e890c4a-5863-4c0e-af10-1698a418d466",
        "colab": {
          "base_uri": "https://localhost:8080/",
          "height": 299
        }
      },
      "source": [
        "from sklearn.metrics import mean_squared_error\n",
        "from sklearn.metrics import r2_score\n",
        "import matplotlib.pyplot as plt\n",
        "\n",
        "theta=np.random.randn(6,1)\n",
        "\n",
        "cost_array=[]\n",
        "itr_array=[]\n",
        "\n",
        "m=len(train_labels[:])\n",
        "\n",
        "\n",
        "for i in range(1000):\n",
        "    \n",
        "  h=np.dot(train_data,theta)\n",
        "\n",
        "  theta=theta-(1/m)*0.1*(train_data.T.dot((h-train_labels)))\n",
        "\n",
        "  cost=mean_squared_error(h,train_labels)\n",
        "  cost_array.append(cost)\n",
        "  itr_array.append(i)\n",
        "\n",
        "# print(test_data.shape, theta.shape)\n",
        "\n",
        "h=np.dot(test_data,theta)\n",
        "\n",
        "# print(h.shape,test_labels.shape)\n",
        "\n",
        "print(\"MSE:- \",mean_squared_error(h,test_labels))\n",
        "print(\"r^2:- \",r2_score(test_labels,h))\n",
        "\n",
        "fig, ax = plt.subplots()\n",
        "ax.plot(itr_array, cost_array)\n",
        "plt.show()\n",
        "\n",
        "\n",
        "# for i in range(h.shape[0]):\n",
        "#   print(abs(h[i]-train_labels[i]))  \n"
      ],
      "execution_count": 0,
      "outputs": [
        {
          "output_type": "stream",
          "text": [
            "MSE:-  23.097485317617917\n",
            "r^2:-  0.5094083831544804\n"
          ],
          "name": "stdout"
        },
        {
          "output_type": "display_data",
          "data": {
            "image/png": "[encoded data removed]",
            "text/plain": [
              "<Figure size 432x288 with 1 Axes>"
            ]
          },
          "metadata": {
            "tags": []
          }
        }
      ]
    },
    {
      "cell_type": "markdown",
      "metadata": {
        "id": "ZxfYuL8yx6Gb",
        "colab_type": "text"
      },
      "source": [
        "**2.Using appropriate plot show how number of iterations is affecting the mean squared error for above model under below given conditions:**\n",
        "\n",
        "(a)Using 3 different initial regression coefficients (weights) for fixed value of learning parameter (All 3 in single plot)."
      ]
    },
    {
      "cell_type": "code",
      "metadata": {
        "id": "novvtw18yFBe",
        "colab_type": "code",
        "outputId": "9bffce00-7835-40e2-94fe-9c047b6898c4",
        "colab": {
          "base_uri": "https://localhost:8080/",
          "height": 571
        }
      },
      "source": [
        "all_theta=[]\n",
        "all_cost=[]\n",
        "alpha=0.1\n",
        "for itr in range(3):\n",
        "\n",
        "  theta=np.random.randn(6,1)\n",
        "\n",
        "  all_theta.append(theta)\n",
        "  cost_array=[]\n",
        "  itr_array=[]\n",
        "\n",
        "  m=len(train_labels[:])\n",
        "\n",
        "  for i in range(10000):\n",
        "      \n",
        "    h=np.dot(train_data,theta)\n",
        "\n",
        "    theta=theta-(1/m)*alpha*(train_data.T.dot((h-train_labels)))\n",
        "\n",
        "    cost=mean_squared_error(h,train_labels)\n",
        "    cost_array.append(cost)\n",
        "    itr_array.append(i)\n",
        "\n",
        "  all_cost.append(cost_array)  \n",
        "\n",
        "print(\"Theta-1--> \", all_theta[0])\n",
        "print(\"Theta-2--> \", all_theta[1])\n",
        "print(\"Theta-3--> \", all_theta[2])\n",
        "\n",
        "plt.plot( itr_array, all_cost[0] )\n",
        "plt.plot( itr_array, all_cost[1] )\n",
        "plt.plot( itr_array, all_cost[2] )\n",
        "# plt.legend(['', '', ''], loc='upper left')\n",
        "\n",
        "plt.show()"
      ],
      "execution_count": 0,
      "outputs": [
        {
          "output_type": "stream",
          "text": [
            "Theta-1-->  [[ 2.75478577]\n",
            " [-0.13874402]\n",
            " [-2.60839102]\n",
            " [ 0.70390897]\n",
            " [-0.76455575]\n",
            " [ 0.65474984]]\n",
            "Theta-2-->  [[ 0.48367133]\n",
            " [-0.74427737]\n",
            " [ 0.23695797]\n",
            " [ 0.90869755]\n",
            " [ 0.32588824]\n",
            " [ 0.9362601 ]]\n",
            "Theta-3-->  [[-0.20094559]\n",
            " [ 0.10841827]\n",
            " [-1.96307877]\n",
            " [ 0.33938658]\n",
            " [-1.01339829]\n",
            " [ 0.74296732]]\n"
          ],
          "name": "stdout"
        },
        {
          "output_type": "display_data",
          "data": {
            "image/png": "[encoded data removed]",
            "text/plain": [
              "<Figure size 432x288 with 1 Axes>"
            ]
          },
          "metadata": {
            "tags": []
          }
        }
      ]
    },
    {
      "cell_type": "markdown",
      "metadata": {
        "id": "gwku8irT1GaT",
        "colab_type": "text"
      },
      "source": [
        "(b)Using 3 different learning parameters for some fixed initial regression coefficients. (All 3 in single plot)"
      ]
    },
    {
      "cell_type": "code",
      "metadata": {
        "id": "3eMmEHvkzjAU",
        "colab_type": "code",
        "outputId": "68f27a0f-d4c7-483b-be11-c8e7122f4afe",
        "colab": {
          "base_uri": "https://localhost:8080/",
          "height": 418
        }
      },
      "source": [
        "theta_fix=np.random.randn(6,1)\n",
        "alpha=[1.0, 0.1, 0.01]\n",
        "\n",
        "all_cost= []\n",
        "\n",
        "for itr in range(3):\n",
        "\n",
        "  theta=theta_fix\n",
        "  cost_array=[]\n",
        "  itr_array=[]\n",
        "\n",
        "  m=len(train_labels[:])\n",
        "\n",
        "  for i in range(10000):\n",
        "      \n",
        "    h=np.dot(train_data,theta)\n",
        "\n",
        "    theta=theta-(1/m)*alpha[itr]*(train_data.T.dot((h-train_labels)))\n",
        "\n",
        "    cost=mean_squared_error(h,train_labels)\n",
        "    cost_array.append(cost)\n",
        "    itr_array.append(i)\n",
        "\n",
        "  all_cost.append(cost_array)  \n",
        "\n",
        "print(\"learning rate1 (L1)--> \", alpha[0])\n",
        "print(\"learning rate1 (L2)--> \", alpha[1])\n",
        "print(\"learning rate1 (L3)--> \", alpha[2])\n",
        "\n",
        "print(\"Fixed theta--> \",theta_fix)\n",
        "\n",
        "plt.plot( itr_array, all_cost[0] )\n",
        "plt.plot( itr_array, all_cost[1] )\n",
        "plt.plot( itr_array, all_cost[2] )\n",
        "plt.legend(['alpha-1', 'alpha-2', 'alpha-3'], loc='upper right')\n",
        "\n",
        "plt.show()"
      ],
      "execution_count": 0,
      "outputs": [
        {
          "output_type": "stream",
          "text": [
            "learning rate1 (L1)-->  1.0\n",
            "learning rate1 (L2)-->  0.1\n",
            "learning rate1 (L3)-->  0.01\n",
            "Fixed theta-->  [[-0.40951493]\n",
            " [ 0.95010389]\n",
            " [-1.2436912 ]\n",
            " [-0.9923755 ]\n",
            " [ 1.13532255]\n",
            " [ 0.2091495 ]]\n"
          ],
          "name": "stdout"
        },
        {
          "output_type": "display_data",
          "data": {
            "image/png": "[encoded data removed]",
            "text/plain": [
              "<Figure size 432x288 with 1 Axes>"
            ]
          },
          "metadata": {
            "tags": []
          }
        }
      ]
    },
    {
      "cell_type": "markdown",
      "metadata": {
        "id": "bDqoN_km5hp-",
        "colab_type": "text"
      },
      "source": [
        "If you want to apply regression on some dataset but one of it’s features has missing values under below given conditions, how will you approach the problem. (No need of Code Experimentation)\n",
        "\n",
        "**(a) When 0-0.5% of values are missing of that feature.**\n",
        "\n",
        "We can fill all missing values with appropriate way. Since 99.5% data is avilable we can use it to predict the best possible value of that missing cell. \n",
        "\n",
        "Guessing: Guess the missing value from 99.5% data which is avialble.\n",
        "\n",
        "Average: Fill the missing value with average\n",
        "\n",
        "**2) When 8-10% of values are missing of that feature:**\n",
        "\n",
        "(a)Average:Take average if its a numerical data or else take mode if it is a categoriacal data\n",
        "\n",
        "(b)Regression Substitution: You can use multiple-regression analysis to estimate a missing value.Regression substitution predicts the missing value from the other values\n",
        "\n",
        "(c)Deletion:That row can be dropped\n",
        "\n",
        "**3) When 60-70% of values are missing of that feature**\n",
        "\n",
        "(a)Deletion: That whole column can be dropped\n"
      ]
    },
    {
      "cell_type": "code",
      "metadata": {
        "id": "3mtmGyTj-FUP",
        "colab_type": "code",
        "colab": {}
      },
      "source": [
        ""
      ],
      "execution_count": 0,
      "outputs": []
    }
  ]
}