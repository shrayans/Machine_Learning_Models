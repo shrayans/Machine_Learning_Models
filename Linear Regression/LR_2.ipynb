{
  "nbformat": 4,
  "nbformat_minor": 0,
  "metadata": {
    "colab": {
      "name": "assi_q4",
      "provenance": [],
      "collapsed_sections": [],
      "machine_shape": "hm"
    },
    "kernelspec": {
      "name": "python3",
      "display_name": "Python 3"
    }
  },
  "cells": [
    {
      "cell_type": "code",
      "metadata": {
        "id": "gFyP1LB7So4C",
        "colab_type": "code",
        "outputId": "9673e024-cf56-4987-f85f-5d1308eb98c6",
        "colab": {
          "base_uri": "https://localhost:8080/",
          "height": 122
        }
      },
      "source": [
        "from google.colab import drive \n",
        "drive.mount('/content/drive')"
      ],
      "execution_count": 1,
      "outputs": [
        {
          "output_type": "stream",
          "text": [
            "Go to this URL in a browser: https://accounts.google.com/o/oauth2/auth?client_id=947318989803-6bn6qk8qdgf4n4g3pfee6491hc0brc4i.apps.googleusercontent.com&redirect_uri=urn%3aietf%3awg%3aoauth%3a2.0%3aoob&response_type=code&scope=email%20https%3a%2f%2fwww.googleapis.com%2fauth%2fdocs.test%20https%3a%2f%2fwww.googleapis.com%2fauth%2fdrive%20https%3a%2f%2fwww.googleapis.com%2fauth%2fdrive.photos.readonly%20https%3a%2f%2fwww.googleapis.com%2fauth%2fpeopleapi.readonly\n",
            "\n",
            "Enter your authorization code:\n",
            "··········\n",
            "Mounted at /content/drive\n"
          ],
          "name": "stdout"
        }
      ]
    },
    {
      "cell_type": "code",
      "metadata": {
        "id": "QuLs713Vngvy",
        "colab_type": "code",
        "colab": {}
      },
      "source": [
        "import numpy as np\n",
        "from scipy.spatial import distance\n",
        "from sklearn.metrics import accuracy_score\n",
        "from sklearn.metrics import mean_squared_error\n",
        "from sklearn.metrics import r2_score\n",
        "import matplotlib.pyplot as plt\n",
        "from sklearn import preprocessing\n",
        "from sklearn.preprocessing import MinMaxScaler\n",
        "from sklearn.feature_extraction.text import TfidfVectorizer\n"
      ],
      "execution_count": 0,
      "outputs": []
    },
    {
      "cell_type": "code",
      "metadata": {
        "id": "OgwxW_sIniOK",
        "colab_type": "code",
        "colab": {}
      },
      "source": [
        "def find_cost(X,Y,theta):\n",
        "  \n",
        "  m=len(Y)\n",
        "  h=np.dot(X,theta)\n",
        "  J=(1/2*m)*np.sum(np.square(h-Y))\n",
        "  return J"
      ],
      "execution_count": 0,
      "outputs": []
    },
    {
      "cell_type": "code",
      "metadata": {
        "id": "1Sl16QCpnpFB",
        "colab_type": "code",
        "outputId": "649e2f81-57e6-461a-c321-5c34aa7c3a80",
        "colab": {
          "base_uri": "https://localhost:8080/",
          "height": 255
        }
      },
      "source": [
        "import pandas as pd\n",
        "ds1=pd.read_csv(\"/content/drive/My Drive/Datasets/Question-4/weather.csv\")\n",
        "ds1 = ds1.sample(frac=1).reset_index(drop=True)\n",
        "print(ds1)\n",
        "\n",
        "# print(ds1.isnull().sum())\n"
      ],
      "execution_count": 5,
      "outputs": [
        {
          "output_type": "stream",
          "text": [
            "                      Formatted Date  ...                                      Daily Summary\n",
            "0      2016-04-09 21:00:00.000 +0200  ...                       Overcast throughout the day.\n",
            "1      2008-12-07 03:00:00.000 +0100  ...                  Mostly cloudy throughout the day.\n",
            "2      2015-07-07 15:00:00.000 +0200  ...  Partly cloudy starting in the afternoon contin...\n",
            "3      2012-05-05 07:00:00.000 +0200  ...             Partly cloudy starting in the morning.\n",
            "4      2007-03-24 22:00:00.000 +0100  ...                         Mostly cloudy until night.\n",
            "...                              ...  ...                                                ...\n",
            "77280  2016-07-22 23:00:00.000 +0200  ...                         Partly cloudy until night.\n",
            "77281  2007-04-19 15:00:00.000 +0200  ...                       Partly cloudy until evening.\n",
            "77282  2010-09-18 14:00:00.000 +0200  ...                  Mostly cloudy throughout the day.\n",
            "77283  2015-01-29 10:00:00.000 +0100  ...                                   Foggy overnight.\n",
            "77284  2009-04-02 10:00:00.000 +0200  ...                         Partly cloudy until night.\n",
            "\n",
            "[77285 rows x 11 columns]\n"
          ],
          "name": "stdout"
        }
      ]
    },
    {
      "cell_type": "markdown",
      "metadata": {
        "id": "vhgEg_D2nDSh",
        "colab_type": "text"
      },
      "source": [
        "## **Checking for null values:-**"
      ]
    },
    {
      "cell_type": "code",
      "metadata": {
        "id": "08Jd3nMdnJmc",
        "colab_type": "code",
        "outputId": "e1894579-f02a-4ec9-9541-581135b82051",
        "colab": {
          "base_uri": "https://localhost:8080/",
          "height": 221
        }
      },
      "source": [
        "print(ds1.isnull().sum())"
      ],
      "execution_count": 6,
      "outputs": [
        {
          "output_type": "stream",
          "text": [
            "Formatted Date                0\n",
            "Summary                       0\n",
            "Precip Type                 404\n",
            "Temperature (C)               0\n",
            "Apparent Temperature (C)      0\n",
            "Humidity                      0\n",
            "Wind Speed (km/h)             0\n",
            "Wind Bearing (degrees)        0\n",
            "Visibility (km)               0\n",
            "Pressure (millibars)          0\n",
            "Daily Summary                 0\n",
            "dtype: int64\n"
          ],
          "name": "stdout"
        }
      ]
    },
    {
      "cell_type": "markdown",
      "metadata": {
        "id": "8CpibWRCpVXC",
        "colab_type": "text"
      },
      "source": [
        "# **Data Preprosseing**"
      ]
    },
    {
      "cell_type": "code",
      "metadata": {
        "id": "19BTHWPqn5wa",
        "colab_type": "code",
        "outputId": "a8613716-b242-432d-b2f0-b4e4c2fb2637",
        "colab": {
          "base_uri": "https://localhost:8080/",
          "height": 555
        }
      },
      "source": [
        "ds1=ds1.iloc[:,1:]\n",
        "ds1"
      ],
      "execution_count": 7,
      "outputs": [
        {
          "output_type": "execute_result",
          "data": {
            "text/html": [
              "<div>\n",
              "<style scoped>\n",
              "    .dataframe tbody tr th:only-of-type {\n",
              "        vertical-align: middle;\n",
              "    }\n",
              "\n",
              "    .dataframe tbody tr th {\n",
              "        vertical-align: top;\n",
              "    }\n",
              "\n",
              "    .dataframe thead th {\n",
              "        text-align: right;\n",
              "    }\n",
              "</style>\n",
              "<table border=\"1\" class=\"dataframe\">\n",
              "  <thead>\n",
              "    <tr style=\"text-align: right;\">\n",
              "      <th></th>\n",
              "      <th>Summary</th>\n",
              "      <th>Precip Type</th>\n",
              "      <th>Temperature (C)</th>\n",
              "      <th>Apparent Temperature (C)</th>\n",
              "      <th>Humidity</th>\n",
              "      <th>Wind Speed (km/h)</th>\n",
              "      <th>Wind Bearing (degrees)</th>\n",
              "      <th>Visibility (km)</th>\n",
              "      <th>Pressure (millibars)</th>\n",
              "      <th>Daily Summary</th>\n",
              "    </tr>\n",
              "  </thead>\n",
              "  <tbody>\n",
              "    <tr>\n",
              "      <th>0</th>\n",
              "      <td>Overcast</td>\n",
              "      <td>rain</td>\n",
              "      <td>12.038889</td>\n",
              "      <td>12.038889</td>\n",
              "      <td>0.75</td>\n",
              "      <td>12.6868</td>\n",
              "      <td>290</td>\n",
              "      <td>9.9820</td>\n",
              "      <td>1004.44</td>\n",
              "      <td>Overcast throughout the day.</td>\n",
              "    </tr>\n",
              "    <tr>\n",
              "      <th>1</th>\n",
              "      <td>Overcast</td>\n",
              "      <td>rain</td>\n",
              "      <td>4.377778</td>\n",
              "      <td>1.155556</td>\n",
              "      <td>0.89</td>\n",
              "      <td>14.0392</td>\n",
              "      <td>310</td>\n",
              "      <td>9.9015</td>\n",
              "      <td>1011.40</td>\n",
              "      <td>Mostly cloudy throughout the day.</td>\n",
              "    </tr>\n",
              "    <tr>\n",
              "      <th>2</th>\n",
              "      <td>Partly Cloudy</td>\n",
              "      <td>rain</td>\n",
              "      <td>35.183333</td>\n",
              "      <td>35.566667</td>\n",
              "      <td>0.33</td>\n",
              "      <td>9.2253</td>\n",
              "      <td>211</td>\n",
              "      <td>16.1000</td>\n",
              "      <td>1014.28</td>\n",
              "      <td>Partly cloudy starting in the afternoon contin...</td>\n",
              "    </tr>\n",
              "    <tr>\n",
              "      <th>3</th>\n",
              "      <td>Partly Cloudy</td>\n",
              "      <td>rain</td>\n",
              "      <td>12.777778</td>\n",
              "      <td>12.777778</td>\n",
              "      <td>0.90</td>\n",
              "      <td>8.0500</td>\n",
              "      <td>180</td>\n",
              "      <td>11.2700</td>\n",
              "      <td>1008.60</td>\n",
              "      <td>Partly cloudy starting in the morning.</td>\n",
              "    </tr>\n",
              "    <tr>\n",
              "      <th>4</th>\n",
              "      <td>Mostly Cloudy</td>\n",
              "      <td>rain</td>\n",
              "      <td>6.905556</td>\n",
              "      <td>3.983333</td>\n",
              "      <td>0.81</td>\n",
              "      <td>15.9390</td>\n",
              "      <td>78</td>\n",
              "      <td>14.0553</td>\n",
              "      <td>1015.17</td>\n",
              "      <td>Mostly cloudy until night.</td>\n",
              "    </tr>\n",
              "    <tr>\n",
              "      <th>...</th>\n",
              "      <td>...</td>\n",
              "      <td>...</td>\n",
              "      <td>...</td>\n",
              "      <td>...</td>\n",
              "      <td>...</td>\n",
              "      <td>...</td>\n",
              "      <td>...</td>\n",
              "      <td>...</td>\n",
              "      <td>...</td>\n",
              "      <td>...</td>\n",
              "    </tr>\n",
              "    <tr>\n",
              "      <th>77280</th>\n",
              "      <td>Clear</td>\n",
              "      <td>rain</td>\n",
              "      <td>20.727778</td>\n",
              "      <td>20.727778</td>\n",
              "      <td>0.89</td>\n",
              "      <td>0.1932</td>\n",
              "      <td>34</td>\n",
              "      <td>15.5526</td>\n",
              "      <td>1015.47</td>\n",
              "      <td>Partly cloudy until night.</td>\n",
              "    </tr>\n",
              "    <tr>\n",
              "      <th>77281</th>\n",
              "      <td>Mostly Cloudy</td>\n",
              "      <td>rain</td>\n",
              "      <td>16.161111</td>\n",
              "      <td>16.161111</td>\n",
              "      <td>0.28</td>\n",
              "      <td>8.8711</td>\n",
              "      <td>354</td>\n",
              "      <td>9.9820</td>\n",
              "      <td>1019.46</td>\n",
              "      <td>Partly cloudy until evening.</td>\n",
              "    </tr>\n",
              "    <tr>\n",
              "      <th>77282</th>\n",
              "      <td>Overcast</td>\n",
              "      <td>rain</td>\n",
              "      <td>17.100000</td>\n",
              "      <td>17.100000</td>\n",
              "      <td>0.76</td>\n",
              "      <td>12.2199</td>\n",
              "      <td>315</td>\n",
              "      <td>11.4471</td>\n",
              "      <td>1018.06</td>\n",
              "      <td>Mostly cloudy throughout the day.</td>\n",
              "    </tr>\n",
              "    <tr>\n",
              "      <th>77283</th>\n",
              "      <td>Overcast</td>\n",
              "      <td>rain</td>\n",
              "      <td>0.944444</td>\n",
              "      <td>-4.233333</td>\n",
              "      <td>0.87</td>\n",
              "      <td>21.4935</td>\n",
              "      <td>143</td>\n",
              "      <td>7.6153</td>\n",
              "      <td>1005.72</td>\n",
              "      <td>Foggy overnight.</td>\n",
              "    </tr>\n",
              "    <tr>\n",
              "      <th>77284</th>\n",
              "      <td>Mostly Cloudy</td>\n",
              "      <td>rain</td>\n",
              "      <td>13.888889</td>\n",
              "      <td>13.888889</td>\n",
              "      <td>0.55</td>\n",
              "      <td>27.3700</td>\n",
              "      <td>40</td>\n",
              "      <td>9.9820</td>\n",
              "      <td>1021.00</td>\n",
              "      <td>Partly cloudy until night.</td>\n",
              "    </tr>\n",
              "  </tbody>\n",
              "</table>\n",
              "<p>77285 rows × 10 columns</p>\n",
              "</div>"
            ],
            "text/plain": [
              "             Summary  ...                                      Daily Summary\n",
              "0           Overcast  ...                       Overcast throughout the day.\n",
              "1           Overcast  ...                  Mostly cloudy throughout the day.\n",
              "2      Partly Cloudy  ...  Partly cloudy starting in the afternoon contin...\n",
              "3      Partly Cloudy  ...             Partly cloudy starting in the morning.\n",
              "4      Mostly Cloudy  ...                         Mostly cloudy until night.\n",
              "...              ...  ...                                                ...\n",
              "77280          Clear  ...                         Partly cloudy until night.\n",
              "77281  Mostly Cloudy  ...                       Partly cloudy until evening.\n",
              "77282       Overcast  ...                  Mostly cloudy throughout the day.\n",
              "77283       Overcast  ...                                   Foggy overnight.\n",
              "77284  Mostly Cloudy  ...                         Partly cloudy until night.\n",
              "\n",
              "[77285 rows x 10 columns]"
            ]
          },
          "metadata": {
            "tags": []
          },
          "execution_count": 7
        }
      ]
    },
    {
      "cell_type": "markdown",
      "metadata": {
        "id": "STNxZOGfpE7x",
        "colab_type": "text"
      },
      "source": [
        "**Filling NULL with No :-**"
      ]
    },
    {
      "cell_type": "code",
      "metadata": {
        "id": "5ULAB8dBpPL3",
        "colab_type": "code",
        "outputId": "343fa694-e160-4961-dc13-533e3bf04428",
        "colab": {
          "base_uri": "https://localhost:8080/",
          "height": 255
        }
      },
      "source": [
        "ds1['Precip Type'].fillna(\"No\", inplace = True) \n",
        "print(ds1.isnull().sum())\n",
        "\n",
        "print(\"\\n\\nThere are no null value in any column\")\n"
      ],
      "execution_count": 8,
      "outputs": [
        {
          "output_type": "stream",
          "text": [
            "Summary                     0\n",
            "Precip Type                 0\n",
            "Temperature (C)             0\n",
            "Apparent Temperature (C)    0\n",
            "Humidity                    0\n",
            "Wind Speed (km/h)           0\n",
            "Wind Bearing (degrees)      0\n",
            "Visibility (km)             0\n",
            "Pressure (millibars)        0\n",
            "Daily Summary               0\n",
            "dtype: int64\n",
            "\n",
            "\n",
            "There are no null value in any column\n"
          ],
          "name": "stdout"
        }
      ]
    },
    {
      "cell_type": "markdown",
      "metadata": {
        "id": "fmaXeWV6re17",
        "colab_type": "text"
      },
      "source": [
        "## **One Hot Encoding:-**\n",
        "A one hot encoding is a representation of categorical variables as binary vectors. This first requires that the categorical values be mapped to integer values. "
      ]
    },
    {
      "cell_type": "code",
      "metadata": {
        "id": "x6aPN9lYskC_",
        "colab_type": "code",
        "outputId": "53d36507-1dd1-4b0d-cfab-6e01ae8663db",
        "colab": {
          "base_uri": "https://localhost:8080/",
          "height": 136
        }
      },
      "source": [
        "t_np1=pd.get_dummies(ds1[\"Precip Type\"])\n",
        "t_np1=t_np1.to_numpy()\n",
        "t_np1"
      ],
      "execution_count": 9,
      "outputs": [
        {
          "output_type": "execute_result",
          "data": {
            "text/plain": [
              "array([[0, 1, 0],\n",
              "       [0, 1, 0],\n",
              "       [0, 1, 0],\n",
              "       ...,\n",
              "       [0, 1, 0],\n",
              "       [0, 1, 0],\n",
              "       [0, 1, 0]], dtype=uint8)"
            ]
          },
          "metadata": {
            "tags": []
          },
          "execution_count": 9
        }
      ]
    },
    {
      "cell_type": "markdown",
      "metadata": {
        "id": "uAsT1lYutVVr",
        "colab_type": "text"
      },
      "source": [
        "## **Vectorizer**"
      ]
    },
    {
      "cell_type": "code",
      "metadata": {
        "id": "3AhSZ5yztkGr",
        "colab_type": "code",
        "colab": {}
      },
      "source": [
        "vectorizer = TfidfVectorizer()\n",
        "t_np2 = vectorizer.fit_transform(ds1[\"Summary\"])\n",
        "t_np2 = t_np2.toarray()\n"
      ],
      "execution_count": 0,
      "outputs": []
    },
    {
      "cell_type": "markdown",
      "metadata": {
        "id": "v6HmeqxVtwWz",
        "colab_type": "text"
      },
      "source": [
        "### **Extracting Lables**"
      ]
    },
    {
      "cell_type": "code",
      "metadata": {
        "id": "ysg7Ziutt3T0",
        "colab_type": "code",
        "colab": {}
      },
      "source": [
        "train_labels=ds1.iloc[0:70000,3].to_numpy()\n",
        "test_labels=ds1.iloc[70000:,3].to_numpy()\n",
        "\n",
        "train_labels=np.array([train_labels])\n",
        "train_labels=train_labels.T\n",
        "\n",
        "test_labels=np.array([test_labels])\n",
        "test_labels=test_labels.T"
      ],
      "execution_count": 0,
      "outputs": []
    },
    {
      "cell_type": "markdown",
      "metadata": {
        "id": "vQH7AI9Kt71P",
        "colab_type": "text"
      },
      "source": [
        "**Dropping Columns**"
      ]
    },
    {
      "cell_type": "code",
      "metadata": {
        "id": "D_No3RPbt7Qu",
        "colab_type": "code",
        "colab": {}
      },
      "source": [
        "ds1=ds1.drop(['Apparent Temperature (C)','Daily Summary','Summary','Precip Type'], axis=1)\n",
        "t_np3=ds1.to_numpy()"
      ],
      "execution_count": 0,
      "outputs": []
    },
    {
      "cell_type": "markdown",
      "metadata": {
        "id": "tJ31rgtduRsi",
        "colab_type": "text"
      },
      "source": [
        "**Concating all data**"
      ]
    },
    {
      "cell_type": "code",
      "metadata": {
        "id": "cvrI6vISufrc",
        "colab_type": "code",
        "outputId": "e3297f5d-41d8-42a7-dd57-455461fd5289",
        "colab": {
          "base_uri": "https://localhost:8080/",
          "height": 238
        }
      },
      "source": [
        "data=np.concatenate((t_np1, t_np2,t_np3), axis=1)\n",
        "print(data,data.shape)"
      ],
      "execution_count": 13,
      "outputs": [
        {
          "output_type": "stream",
          "text": [
            "[[0.00000e+00 1.00000e+00 0.00000e+00 ... 2.90000e+02 9.98200e+00\n",
            "  1.00444e+03]\n",
            " [0.00000e+00 1.00000e+00 0.00000e+00 ... 3.10000e+02 9.90150e+00\n",
            "  1.01140e+03]\n",
            " [0.00000e+00 1.00000e+00 0.00000e+00 ... 2.11000e+02 1.61000e+01\n",
            "  1.01428e+03]\n",
            " ...\n",
            " [0.00000e+00 1.00000e+00 0.00000e+00 ... 3.15000e+02 1.14471e+01\n",
            "  1.01806e+03]\n",
            " [0.00000e+00 1.00000e+00 0.00000e+00 ... 1.43000e+02 7.61530e+00\n",
            "  1.00572e+03]\n",
            " [0.00000e+00 1.00000e+00 0.00000e+00 ... 4.00000e+01 9.98200e+00\n",
            "  1.02100e+03]] (77285, 24)\n"
          ],
          "name": "stdout"
        }
      ]
    },
    {
      "cell_type": "markdown",
      "metadata": {
        "id": "9jXSfjlQujg3",
        "colab_type": "text"
      },
      "source": [
        "**Train and Validation**"
      ]
    },
    {
      "cell_type": "code",
      "metadata": {
        "id": "GwMfRj5bui-H",
        "colab_type": "code",
        "outputId": "4f26252f-f073-4321-e9dc-f9aba526cebf",
        "colab": {
          "base_uri": "https://localhost:8080/",
          "height": 34
        }
      },
      "source": [
        "train_data=data[0:70000,:]\n",
        "test_data=data[70000:,:]\n",
        "print(train_data.shape, test_data.shape)"
      ],
      "execution_count": 14,
      "outputs": [
        {
          "output_type": "stream",
          "text": [
            "(70000, 24) (7285, 24)\n"
          ],
          "name": "stdout"
        }
      ]
    },
    {
      "cell_type": "markdown",
      "metadata": {
        "id": "lLpnuPX0u-iZ",
        "colab_type": "text"
      },
      "source": [
        "### **Feature scaling**"
      ]
    },
    {
      "cell_type": "code",
      "metadata": {
        "id": "sRQK5OhAvF3l",
        "colab_type": "code",
        "outputId": "6aa5c506-8653-4018-a339-d60abe85f596",
        "colab": {
          "base_uri": "https://localhost:8080/",
          "height": 34
        }
      },
      "source": [
        "scaler = MinMaxScaler()\n",
        "scaler.fit(train_data)\n",
        "train_data=scaler.transform(train_data)\n",
        "\n",
        "scaler = MinMaxScaler()\n",
        "\n",
        "print(scaler.fit(test_data))\n",
        "test_data=scaler.transform(test_data)\n"
      ],
      "execution_count": 15,
      "outputs": [
        {
          "output_type": "stream",
          "text": [
            "MinMaxScaler(copy=True, feature_range=(0, 1))\n"
          ],
          "name": "stdout"
        }
      ]
    },
    {
      "cell_type": "markdown",
      "metadata": {
        "id": "9P99Qn4_vy-7",
        "colab_type": "text"
      },
      "source": [
        "# **Linear Regression**\n",
        "\n",
        "**Cost Function:-**\n",
        "\n",
        "We need to minimize the cost function:\n",
        "\n",
        "$ J(θ_1,θ_2)=(1/2m) ∑(h_0 x(i)−y(i))^2 $\n",
        "\n",
        "Now we calculate the derivatives and have:\n",
        "\n",
        "$ \\frac{∂} {∂θ} J(θ_0,θ_1)=(1/m) ∑(h_θ(x(i))−y(i)) $ \n",
        "\n",
        "New theta will be:\n",
        "\n",
        "$ θ_i = θ_i − α \\frac{∂} {∂θ_i} J(θ_0,θ_1) $\n",
        "\n",
        "**Mean squared error:**\n",
        "\n",
        "It is simply the average of the square of the difference between the original values and the predicted values.\n",
        "\n",
        "**Mean Absolute Error**\n",
        "\n",
        "Mean Absolute Error (MAE) is the average vertical distance between each point and the identity line. MAE is also the average horizontal distance between each point and the identity line.\n"
      ]
    },
    {
      "cell_type": "code",
      "metadata": {
        "id": "rR-Pnslms9Oj",
        "colab_type": "code",
        "outputId": "560b9742-0cf0-409c-8e21-69e70840099b",
        "colab": {
          "base_uri": "https://localhost:8080/",
          "height": 316
        }
      },
      "source": [
        "from sklearn.metrics import mean_absolute_error\n",
        "theta=np.random.randn(train_data.shape[1],1)\n",
        "\n",
        "alpha=.1\n",
        "\n",
        "cost_mse=[]\n",
        "cost_mae=[]\n",
        "itr_array=[]\n",
        "\n",
        "\n",
        "for i in range(10000):\n",
        "\n",
        "  m=len(train_labels)\n",
        "  h=np.dot(train_data,theta)\n",
        "\n",
        "  theta=theta-(1/m)*alpha*(train_data.T.dot((h-train_labels)))\n",
        "\n",
        "  mse=mean_squared_error(h,train_labels)\n",
        "  mae=mean_absolute_error(train_labels,h)\n",
        "  cost_mse.append(mse)\n",
        "  cost_mae.append(mae)\n",
        "  itr_array.append(i)\n",
        "\n",
        "\n",
        "h=np.dot(test_data,theta)\n",
        "\n",
        "fig, ax = plt.subplots()\n",
        "ax.plot(itr_array, cost_mse)\n",
        "ax.plot(itr_array,cost_mae)\n",
        "plt.show()\n",
        "print(\"mse-> \",mean_squared_error(h,test_labels))\n",
        "print(\"mae-> \",mean_absolute_error(test_labels,h))\n",
        "print(\"r2-> \",r2_score(test_labels,h))"
      ],
      "execution_count": 25,
      "outputs": [
        {
          "output_type": "display_data",
          "data": {
            "image/png": "[encoded data removed]",
            "text/plain": [
              "<Figure size 432x288 with 1 Axes>"
            ]
          },
          "metadata": {
            "tags": []
          }
        },
        {
          "output_type": "stream",
          "text": [
            "mse->  1.327380224176392\n",
            "mae->  0.866850085576848\n",
            "r2->  0.9881410261029617\n"
          ],
          "name": "stdout"
        }
      ]
    },
    {
      "cell_type": "markdown",
      "metadata": {
        "id": "4G8QkfEBiejT",
        "colab_type": "text"
      },
      "source": [
        "## Mean Absolute Percentage Error"
      ]
    },
    {
      "cell_type": "code",
      "metadata": {
        "id": "pIkdt8sB-0Al",
        "colab_type": "code",
        "colab": {
          "base_uri": "https://localhost:8080/",
          "height": 34
        },
        "outputId": "8d7ce537-94ef-4bdc-b360-584a8f15bd23"
      },
      "source": [
        "def percentage_error(actual, predicted):\n",
        "    res = np.empty(actual.shape)\n",
        "    for j in range(actual.shape[0]):\n",
        "        if actual[j] != 0:\n",
        "            res[j] = (actual[j] - predicted[j]) / actual[j]\n",
        "        else:\n",
        "            res[j] = predicted[j] / np.mean(actual)\n",
        "    return res\n",
        "\n",
        "def m_a_p_e(y_true, y_pred): \n",
        "    return np.mean(np.abs(percentage_error(np.asarray(y_true), np.asarray(y_pred)))) * 100\n",
        "    \n",
        "print(\"MAPE-> \",m_a_p_e(test_labels,h))"
      ],
      "execution_count": 26,
      "outputs": [
        {
          "output_type": "stream",
          "text": [
            "MAPE->  46.15954027096695\n"
          ],
          "name": "stdout"
        }
      ]
    },
    {
      "cell_type": "code",
      "metadata": {
        "id": "mEkBoOYwic7u",
        "colab_type": "code",
        "colab": {
          "base_uri": "https://localhost:8080/",
          "height": 1000
        },
        "outputId": "dd1b8ef1-e3eb-4542-f83b-5a79f0560799"
      },
      "source": [
        "all_theta=[]\n",
        "all_cost=[]\n",
        "alpha=0.1\n",
        "for itr in range(3):\n",
        "  theta=np.random.randn(train_data.shape[1],1)\n",
        "\n",
        "  train_data.shape[1]\n",
        "\n",
        "  all_theta.append(theta)\n",
        "  cost_array=[]\n",
        "  itr_array=[]\n",
        "\n",
        "  m=len(train_labels[:])\n",
        "\n",
        "  for i in range(10000):\n",
        "      \n",
        "    h=np.dot(train_data,theta)\n",
        "\n",
        "    theta=theta-(1/m)*alpha*(train_data.T.dot((h-train_labels)))\n",
        "\n",
        "    cost=mean_squared_error(h,train_labels)\n",
        "    cost_array.append(cost)\n",
        "    itr_array.append(i)\n",
        "\n",
        "  all_cost.append(cost_array)  \n",
        "\n",
        "print(\"Theta-1--> \", all_theta[0])\n",
        "print(\"Theta-2--> \", all_theta[1])\n",
        "print(\"Theta-3--> \", all_theta[2])\n",
        "\n",
        "plt.plot( itr_array, all_cost[0] )\n",
        "plt.plot( itr_array, all_cost[1] )\n",
        "plt.plot( itr_array, all_cost[2] )\n",
        "# plt.legend(['', '', ''], loc='upper left')\n",
        "\n",
        "plt.show()"
      ],
      "execution_count": 28,
      "outputs": [
        {
          "output_type": "stream",
          "text": [
            "Theta-1-->  [[ 1.58756537]\n",
            " [-0.38824049]\n",
            " [ 0.40540152]\n",
            " [-0.08074572]\n",
            " [ 0.04918847]\n",
            " [ 0.74814215]\n",
            " [ 0.1912977 ]\n",
            " [ 0.00456513]\n",
            " [-0.2848141 ]\n",
            " [ 0.49644216]\n",
            " [ 0.26104288]\n",
            " [-1.21218964]\n",
            " [-0.63556725]\n",
            " [ 0.59604265]\n",
            " [-0.28044747]\n",
            " [-1.60083934]\n",
            " [-1.02104567]\n",
            " [ 0.48150378]\n",
            " [-0.68397947]\n",
            " [-3.66435835]\n",
            " [ 1.54272896]\n",
            " [ 0.52576627]\n",
            " [-1.32982516]\n",
            " [ 0.49984044]]\n",
            "Theta-2-->  [[ 0.00901657]\n",
            " [ 1.02399705]\n",
            " [-0.67308867]\n",
            " [ 0.74973058]\n",
            " [ 1.55145837]\n",
            " [ 1.01723596]\n",
            " [ 0.10827802]\n",
            " [-1.33910955]\n",
            " [ 0.91824404]\n",
            " [ 1.07590473]\n",
            " [-0.3027156 ]\n",
            " [ 0.3045733 ]\n",
            " [ 0.01526583]\n",
            " [-2.58395217]\n",
            " [ 1.08519431]\n",
            " [ 1.31519634]\n",
            " [ 0.06864189]\n",
            " [ 0.54804904]\n",
            " [-0.17105201]\n",
            " [-1.44688658]\n",
            " [-1.61948434]\n",
            " [ 0.11817803]\n",
            " [ 0.70834674]\n",
            " [ 1.57063947]]\n",
            "Theta-3-->  [[-0.78396161]\n",
            " [-0.01002164]\n",
            " [-0.20376894]\n",
            " [-1.55555298]\n",
            " [ 0.27921628]\n",
            " [-0.33186672]\n",
            " [-0.85361273]\n",
            " [-0.0592463 ]\n",
            " [-0.4374969 ]\n",
            " [-0.54694713]\n",
            " [-1.76917006]\n",
            " [ 1.50457234]\n",
            " [ 0.21096867]\n",
            " [ 1.35502079]\n",
            " [ 0.68577575]\n",
            " [ 0.97179352]\n",
            " [ 1.53863471]\n",
            " [ 0.89493571]\n",
            " [ 0.24810378]\n",
            " [ 0.07765589]\n",
            " [-0.10774348]\n",
            " [-0.03103332]\n",
            " [ 0.42204471]\n",
            " [ 0.15987795]]\n"
          ],
          "name": "stdout"
        },
        {
          "output_type": "display_data",
          "data": {
            "image/png": "[encoded data removed]",
            "text/plain": [
              "<Figure size 432x288 with 1 Axes>"
            ]
          },
          "metadata": {
            "tags": []
          }
        }
      ]
    },
    {
      "cell_type": "code",
      "metadata": {
        "id": "WLjQzal-jpCy",
        "colab_type": "code",
        "colab": {}
      },
      "source": [
        ""
      ],
      "execution_count": 0,
      "outputs": []
    }
  ]
}